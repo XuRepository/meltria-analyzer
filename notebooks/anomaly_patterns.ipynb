{
 "cells": [
  {
   "cell_type": "markdown",
   "metadata": {},
   "source": [
    "## Collecting Anomaly Patterns for Evaludation of AD"
   ]
  },
  {
   "cell_type": "code",
   "execution_count": 1,
   "metadata": {},
   "outputs": [],
   "source": [
    "%reload_ext autoreload\n",
    "%autoreload 2"
   ]
  },
  {
   "cell_type": "code",
   "execution_count": 2,
   "metadata": {},
   "outputs": [],
   "source": [
    "import numpy as np\n",
    "import matplotlib.pyplot as plt\n",
    "import scipy.stats"
   ]
  },
  {
   "cell_type": "code",
   "execution_count": 3,
   "metadata": {},
   "outputs": [
    {
     "name": "stdout",
     "output_type": "stream",
     "text": [
      "INFO: Pandarallel will run on 10 workers.\n",
      "INFO: Pandarallel will use Memory file system to transfer data between the main process and workers.\n"
     ]
    }
   ],
   "source": [
    "import sys\n",
    "sys.path.append('../')\n",
    "from tsdr import tsdr\n",
    "from eval import groundtruth"
   ]
  },
  {
   "cell_type": "code",
   "execution_count": 4,
   "metadata": {},
   "outputs": [],
   "source": [
    "from meltria import loader\n",
    "\n",
    "metrics_files = !find /datasets/argowf-chaos-kwzdh/ -type f -name \"*.json\" \n",
    "dataset_generator = loader.load_dataset_as_generator(metrics_files, target_metric_types={\n",
    "        \"containers\": True,\n",
    "        \"services\": True,\n",
    "        \"nodes\": True,\n",
    "        \"middlewares\": False,\n",
    "    },\n",
    "    num_datapoints=120,\n",
    ")\n",
    "\n",
    "rerords = [r for rec in dataset_generator for r in rec]"
   ]
  },
  {
   "cell_type": "code",
   "execution_count": 5,
   "metadata": {},
   "outputs": [],
   "source": [
    "import pandas as pd\n",
    "from collections import defaultdict"
   ]
  },
  {
   "cell_type": "code",
   "execution_count": 6,
   "metadata": {},
   "outputs": [],
   "source": [
    "route_by_case: dict[tuple[str, str], list[tuple[list[str], pd.DataFrame]]] = defaultdict(list)\n",
    "\n",
    "for record in rerords:\n",
    "    filtered_df: pd.DataFrame = tsdr.filter_out_no_change_metrics(record.data_df, parallel=True)\n",
    "    gt_candidates = groundtruth.select_ground_truth_metrics_in_routes(record.pk, filtered_df.columns.to_list(), record.chaos_type(), record.chaos_comp())\n",
    "    for routes, _ in gt_candidates:\n",
    "        route_by_case[record.chaos_type(), record.chaos_comp()].append((routes, filtered_df))"
   ]
  },
  {
   "cell_type": "code",
   "execution_count": 64,
   "metadata": {},
   "outputs": [],
   "source": [
    "import ipywidgets as widgets\n",
    "from IPython.display import display"
   ]
  },
  {
   "cell_type": "code",
   "execution_count": 61,
   "metadata": {},
   "outputs": [],
   "source": [
    "SAVE_DIR = \"../samples/anomaly_patterns\""
   ]
  },
  {
   "cell_type": "code",
   "execution_count": 113,
   "metadata": {},
   "outputs": [],
   "source": [
    "def create_widget(yield_on_click) -> widgets.Box:\n",
    "    save_button = widgets.Button(description='Save')\n",
    "    select = widgets.Select(\n",
    "        options=[\n",
    "            'Sudden increase', 'Sudden decrease', 'Level shift up', 'Level shift down', \n",
    "            'Steady increase', 'Steady decrease', 'Single spike', 'Single dip',\n",
    "            'Transient level shift up', 'Transient level shift down', 'Multiple spikes', 'Multiple dips', 'Fluctuations',\n",
    "            'White noise', 'Other normal',\n",
    "        ],\n",
    "        rows=15,\n",
    "        description='Pattern:',\n",
    "        layout=widgets.Layout(width='30%'),\n",
    "    )\n",
    "    output = widgets.Output(layout={'border': '1px solid black'})\n",
    "\n",
    "    fig = plt.figure(figsize=(6, 4), clear=True)\n",
    "    ax = fig.add_subplot(1, 1, 1)\n",
    "\n",
    "    def on_save_click_callback(clicked_button: widgets.Button) -> None:\n",
    "        target_app, chaos_type, chaos_comp, metric, ts = next(yield_on_click)\n",
    "        ax.clear()\n",
    "        ax.set_title(f\"{chaos_type}/{chaos_comp}:{metric}\\n\")\n",
    "        ax.plot(ts)\n",
    "        with output:\n",
    "            output.clear_output(wait=True)\n",
    "            display(ax.get_figure())\n",
    "        print(f\"{select.value} selected for {chaos_type}/{chaos_comp}:{metric}\")\n",
    "\n",
    "    save_button.on_click(on_save_click_callback)\n",
    "    save_button.click()  # trigger the first click\n",
    "    plt.close(fig=fig)\n",
    "\n",
    "    return widgets.HBox([select, save_button, output])"
   ]
  },
  {
   "cell_type": "code",
   "execution_count": 69,
   "metadata": {},
   "outputs": [],
   "source": [
    "import datetime\n",
    "import jsonlines"
   ]
  },
  {
   "cell_type": "code",
   "execution_count": 73,
   "metadata": {},
   "outputs": [],
   "source": [
    "def gen_time_series(routes_by_case):\n",
    "    now = datetime.datetime.today().strftime('%Y%m%d-%H%M%S')\n",
    "    save_file_name = f\"{SAVE_DIR}/anomaly_patterns_{now}.jsonl\"\n",
    "    # append mode\n",
    "    writer = jsonlines.open(save_file_name, mode='a', flush=True)\n",
    "\n",
    "    for (chaos_type, chaos_comp), routes in routes_by_case.items():\n",
    "        unique_metric_check = {}\n",
    "        for metrics, filtered_df in routes:\n",
    "            for metric in metrics:\n",
    "                # skip duplicated metric\n",
    "                if metric in unique_metric_check and unique_metric_check[metric]:\n",
    "                    continue\n",
    "                unique_metric_check[metric] = True\n",
    "\n",
    "                ts = filtered_df.loc[:, metric].to_numpy()\n",
    "                pattern_name: str = (yield (record.target_app(), chaos_type, chaos_comp, metric, ts))\n",
    "                writer.write({\n",
    "                    'target_app': record.target_app(), \n",
    "                    'chaos_type': chaos_type,\n",
    "                    'chaos_comp': chaos_comp, \n",
    "                    'metric': metric,\n",
    "                    'anomaly_pattern': pattern_name,\n",
    "                    'time_series': ts.tolist(),\n",
    "                })\n",
    "    writer.close()"
   ]
  },
  {
   "cell_type": "code",
   "execution_count": 114,
   "metadata": {},
   "outputs": [
    {
     "data": {
      "application/vnd.jupyter.widget-view+json": {
       "model_id": "c68c98a1e0fe48519e7448aad9ee249f",
       "version_major": 2,
       "version_minor": 0
      },
      "text/plain": [
       "HBox(children=(Select(description='Pattern:', layout=Layout(width='30%'), options=('Sudden increase', 'Sudden …"
      ]
     },
     "metadata": {},
     "output_type": "display_data"
    }
   ],
   "source": [
    "box = create_widget(gen_time_series(route_by_case))\n",
    "display(box)"
   ]
  }
 ],
 "metadata": {
  "kernelspec": {
   "display_name": "Python 3.10.4 ('.venv': poetry)",
   "language": "python",
   "name": "python3"
  },
  "language_info": {
   "codemirror_mode": {
    "name": "ipython",
    "version": 3
   },
   "file_extension": ".py",
   "mimetype": "text/x-python",
   "name": "python",
   "nbconvert_exporter": "python",
   "pygments_lexer": "ipython3",
   "version": "3.10.4"
  },
  "orig_nbformat": 4,
  "vscode": {
   "interpreter": {
    "hash": "c0f02f5f97634d426ffcfa502db37ef392cddba0a927ded2fc10600c3b8bead5"
   }
  }
 },
 "nbformat": 4,
 "nbformat_minor": 2
}
