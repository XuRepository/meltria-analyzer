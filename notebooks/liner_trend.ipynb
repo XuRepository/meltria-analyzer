{
 "cells": [
  {
   "cell_type": "markdown",
   "metadata": {},
   "source": [
    "# trian and error for detecting liner trending"
   ]
  },
  {
   "cell_type": "code",
   "execution_count": 38,
   "metadata": {},
   "outputs": [
    {
     "data": {
      "text/plain": [
       "[<matplotlib.lines.Line2D at 0x7fd829ad2a00>]"
      ]
     },
     "execution_count": 38,
     "metadata": {},
     "output_type": "execute_result"
    },
    {
     "data": {
      "image/png": "[encoded data removed]",
      "text/plain": [
       "<Figure size 432x288 with 1 Axes>"
      ]
     },
     "metadata": {
      "needs_background": "light"
     },
     "output_type": "display_data"
    }
   ],
   "source": [
    "\n",
    "import os\n",
    "import sys\n",
    "import warnings\n",
    "warnings.filterwarnings('ignore')\n",
    "\n",
    "import matplotlib.pyplot as plt\n",
    "import numpy as np\n",
    "from statsmodels.tsa.stattools import adfuller\n",
    "\n",
    "sys.path.append('../')\n",
    "import lib.metrics\n",
    "from tsdr import tsdr\n",
    "\n",
    "# retrieved metrics\n",
    "filepath = '/datasets/argowf-chaos-hg68n/2021-12-09-argowf-chaos-hg68n-user-db_pod-cpu-hog_0.json'\n",
    "data_df, _, metrics_meta = tsdr.read_metrics_json(filepath)\n",
    "series = data_df['c-catalogue_last_seen'].to_numpy()\n",
    "plt.plot(series)"
   ]
  },
  {
   "cell_type": "code",
   "execution_count": 126,
   "metadata": {},
   "outputs": [
    {
     "name": "stdout",
     "output_type": "stream",
     "text": [
      "0.9982042850\n"
     ]
    }
   ],
   "source": [
    "print(f\"{adfuller(series, regression='c')[1]:.10f}\") # p_value"
   ]
  },
  {
   "cell_type": "code",
   "execution_count": 136,
   "metadata": {},
   "outputs": [
    {
     "name": "stdout",
     "output_type": "stream",
     "text": [
      "1.0000000000\n"
     ]
    }
   ],
   "source": [
    "print(f\"{adfuller(series, regression='c', maxlag=1, autolag=None)[1]:.10f}\") # p_value\n"
   ]
  },
  {
   "cell_type": "code",
   "execution_count": 130,
   "metadata": {},
   "outputs": [
    {
     "name": "stdout",
     "output_type": "stream",
     "text": [
      "1.0000000000\n"
     ]
    }
   ],
   "source": [
    "print(f\"{adfuller(series, regression='ct', maxlag=1, autolag=None)[1]:.10f}\") # p_value"
   ]
  },
  {
   "cell_type": "code",
   "execution_count": 10,
   "metadata": {},
   "outputs": [
    {
     "name": "stdout",
     "output_type": "stream",
     "text": [
      "1.0000000000\n"
     ]
    }
   ],
   "source": [
    "print(f\"{adfuller(series, regression='ctt', maxlag=1, autolag=None)[1]:.10f}\") # p_value"
   ]
  },
  {
   "cell_type": "code",
   "execution_count": 12,
   "metadata": {},
   "outputs": [
    {
     "name": "stdout",
     "output_type": "stream",
     "text": [
      "1.0000000000\n"
     ]
    }
   ],
   "source": [
    "print(f\"{adfuller(series, regression='nc', maxlag=1, autolag=None)[1]:.10f}\") # p_value"
   ]
  },
  {
   "cell_type": "code",
   "execution_count": 17,
   "metadata": {},
   "outputs": [
    {
     "name": "stdout",
     "output_type": "stream",
     "text": [
      "0.9803961677\n"
     ]
    }
   ],
   "source": [
    "print(f\"{adfuller(series, regression='nc', autolag='AIC')[1]:.10f}\") # p_value"
   ]
  },
  {
   "cell_type": "code",
   "execution_count": 127,
   "metadata": {},
   "outputs": [
    {
     "name": "stdout",
     "output_type": "stream",
     "text": [
      "0.0000000000\n"
     ]
    },
    {
     "data": {
      "text/plain": [
       "array([15., 15., 15., 15., 15., 15., 15., 15., 15., 15., 15., 15., 15.,\n",
       "       15., 15., 15., 15., 15., 15., 15., 15., 15., 15., 15., 15., 15.,\n",
       "       15., 15., 15., 15., 15., 15., 15., 15., 15., 15., 15., 15., 15.,\n",
       "       15., 15., 15., 15., 15., 15., 15., 15., 15., 15., 15., 15., 15.,\n",
       "       15., 15., 15., 15., 15., 15., 15., 15., 15., 15., 15., 15., 15.,\n",
       "       15., 15., 15., 15., 15., 15., 15., 15., 15., 15., 15., 15., 15.,\n",
       "       15., 15., 15., 15., 15., 15., 15., 15., 15., 15., 15., 15., 15.,\n",
       "       15., 15., 15., 15., 15., 15., 15., 15., 15., 15., 15., 15., 15.,\n",
       "       15., 15., 15., 15., 15., 15., 15., 15., 15., 15., 15., 15., 15.,\n",
       "       16., 14.])"
      ]
     },
     "execution_count": 127,
     "metadata": {},
     "output_type": "execute_result"
    }
   ],
   "source": [
    "print(f\"{adfuller(np.diff(series), regression='c', maxlag=1, autolag=None)[1]:.10f}\") # p_value\n",
    "np.diff(series)"
   ]
  },
  {
   "cell_type": "code",
   "execution_count": 28,
   "metadata": {},
   "outputs": [
    {
     "data": {
      "text/html": [
       "<table class=\"simpletable\">\n",
       "<caption>Augmented Dickey-Fuller Results</caption>\n",
       "<tr>\n",
       "  <td>Test Statistic</td>    <td>21.828</td>\n",
       "</tr>\n",
       "<tr>\n",
       "  <td>P-value</td>            <td>1.000</td>\n",
       "</tr>\n",
       "<tr>\n",
       "  <td>Lags</td>                   <td>1</td>\n",
       "</tr>\n",
       "</table><br/><br/>Trend: Constant and Linear Time Trend<br/>Critical Values: -4.04 (1%), -3.45 (5%), -3.15 (10%)<br/>Null Hypothesis: The process contains a unit root.<br/>Alternative Hypothesis: The process is weakly stationary."
      ],
      "text/plain": [
       "<class 'arch.unitroot.unitroot.ADF'>\n",
       "\"\"\"\n",
       "   Augmented Dickey-Fuller Results   \n",
       "=====================================\n",
       "Test Statistic                 21.828\n",
       "P-value                         1.000\n",
       "Lags                                1\n",
       "-------------------------------------\n",
       "\n",
       "Trend: Constant and Linear Time Trend\n",
       "Critical Values: -4.04 (1%), -3.45 (5%), -3.15 (10%)\n",
       "Null Hypothesis: The process contains a unit root.\n",
       "Alternative Hypothesis: The process is weakly stationary.\n",
       "\"\"\""
      ]
     },
     "execution_count": 28,
     "metadata": {},
     "output_type": "execute_result"
    }
   ],
   "source": [
    "from arch.unitroot import ADF, DFGLS\n",
    "ADF(series, lags=1, trend='ct')"
   ]
  },
  {
   "cell_type": "code",
   "execution_count": 108,
   "metadata": {},
   "outputs": [
    {
     "data": {
      "text/html": [
       "<table class=\"simpletable\">\n",
       "<caption>Dickey-Fuller GLS Results</caption>\n",
       "<tr>\n",
       "  <td>Test Statistic</td>    <td>-1.725</td>\n",
       "</tr>\n",
       "<tr>\n",
       "  <td>P-value</td>            <td>0.450</td>\n",
       "</tr>\n",
       "<tr>\n",
       "  <td>Lags</td>                   <td>3</td>\n",
       "</tr>\n",
       "</table><br/><br/>Trend: Constant and Linear Time Trend<br/>Critical Values: -3.59 (1%), -3.01 (5%), -2.72 (10%)<br/>Null Hypothesis: The process contains a unit root.<br/>Alternative Hypothesis: The process is weakly stationary."
      ],
      "text/plain": [
       "<class 'arch.unitroot.unitroot.DFGLS'>\n",
       "\"\"\"\n",
       "      Dickey-Fuller GLS Results      \n",
       "=====================================\n",
       "Test Statistic                 -1.725\n",
       "P-value                         0.450\n",
       "Lags                                3\n",
       "-------------------------------------\n",
       "\n",
       "Trend: Constant and Linear Time Trend\n",
       "Critical Values: -3.59 (1%), -3.01 (5%), -2.72 (10%)\n",
       "Null Hypothesis: The process contains a unit root.\n",
       "Alternative Hypothesis: The process is weakly stationary.\n",
       "\"\"\""
      ]
     },
     "execution_count": 108,
     "metadata": {},
     "output_type": "execute_result"
    }
   ],
   "source": [
    "DFGLS(series, lags=3, trend='ct')"
   ]
  },
  {
   "cell_type": "code",
   "execution_count": 44,
   "metadata": {},
   "outputs": [
    {
     "name": "stdout",
     "output_type": "stream",
     "text": [
      "constant: 0.0100000000\n",
      "constant and trend: 0.0844338889\n"
     ]
    }
   ],
   "source": [
    "import statsmodels.api as sm\n",
    "print(f\"constant: {sm.tsa.kpss(series, regression='c', nlags=1)[1]:.10f}\") # p_value\n",
    "print(f\"constant and trend: {sm.tsa.kpss(series, regression='ct', nlags=1)[1]:.10f}\") # p_value"
   ]
  },
  {
   "cell_type": "code",
   "execution_count": 103,
   "metadata": {},
   "outputs": [
    {
     "name": "stdout",
     "output_type": "stream",
     "text": [
      "adf p-val: 1.0\n",
      "diff kpss p-val: 0.1\n"
     ]
    },
    {
     "data": {
      "text/plain": [
       "False"
      ]
     },
     "execution_count": 103,
     "metadata": {},
     "output_type": "execute_result"
    }
   ],
   "source": [
    "def is_unstational_series(series: np.ndarray,\n",
    "                          alpha: float,\n",
    "                          regression: str = 'c',\n",
    "                          maxlag: int = None,\n",
    "                          autolag: str = None) -> bool:\n",
    "    pvalue: float = adfuller(x=series, regression=regression, maxlag=maxlag, autolag=autolag)[1]\n",
    "    print(f\"adf p-val: {pvalue}\")\n",
    "    if not np.isnan(pvalue) and pvalue >= alpha:\n",
    "        pvalue2: float = sm.tsa.kpss(x=np.diff(series), regression=regression, nlags=maxlag)[1]\n",
    "        print(f\"diff kpss p-val: {pvalue2}\")\n",
    "        if not np.isnan(pvalue2) and pvalue2 < alpha:\n",
    "            return True\n",
    "    return False\n",
    "\n",
    "is_unstational_series(series, regression='ct', alpha=0.01)"
   ]
  },
  {
   "cell_type": "code",
   "execution_count": 104,
   "metadata": {},
   "outputs": [
    {
     "data": {
      "text/plain": [
       "[<matplotlib.lines.Line2D at 0x7fd829911c70>]"
      ]
     },
     "execution_count": 104,
     "metadata": {},
     "output_type": "execute_result"
    },
    {
     "data": {
      "image/png": "[encoded data removed]",
      "text/plain": [
       "<Figure size 432x288 with 1 Axes>"
      ]
     },
     "metadata": {
      "needs_background": "light"
     },
     "output_type": "display_data"
    }
   ],
   "source": [
    "unstational_series = data_df['s-front-end_latency'].to_numpy()\n",
    "plt.plot(unstational_series)\n",
    "plt.plot(np.diff(unstational_series))"
   ]
  },
  {
   "cell_type": "code",
   "execution_count": 151,
   "metadata": {},
   "outputs": [
    {
     "name": "stdout",
     "output_type": "stream",
     "text": [
      "0.0005704853\n"
     ]
    },
    {
     "data": {
      "image/png": "[encoded data removed]",
      "text/plain": [
       "<Figure size 432x288 with 1 Axes>"
      ]
     },
     "metadata": {
      "needs_background": "light"
     },
     "output_type": "display_data"
    }
   ],
   "source": [
    "dummy_series = [ i for i in range(120) ]\n",
    "plt.plot(dummy_series)\n",
    "print(f\"{adfuller(dummy_series, regression='c', maxlag=1)[1]:.10f}\") # p_value"
   ]
  },
  {
   "cell_type": "code",
   "execution_count": 152,
   "metadata": {},
   "outputs": [
    {
     "name": "stdout",
     "output_type": "stream",
     "text": [
      "1.0000000000\n"
     ]
    },
    {
     "data": {
      "image/png": "[encoded data removed]",
      "text/plain": [
       "<Figure size 432x288 with 1 Axes>"
      ]
     },
     "metadata": {
      "needs_background": "light"
     },
     "output_type": "display_data"
    }
   ],
   "source": [
    "dummy_series = [ i for i in range(0, 15*120, 15) ]\n",
    "plt.plot(dummy_series)\n",
    "print(f\"{adfuller(dummy_series, regression='c', maxlag=1)[1]:.10f}\") # p_value"
   ]
  },
  {
   "cell_type": "code",
   "execution_count": 169,
   "metadata": {},
   "outputs": [
    {
     "name": "stdout",
     "output_type": "stream",
     "text": [
      "pval=0.00000000000000000000000000294271922105104090980648\n"
     ]
    }
   ],
   "source": [
    "import statsmodels.api as sm\n",
    "\n",
    "pval = sm.stats.acorr_ljungbox(np.array(dummy_series), lags=1)[1]\n",
    "print(f\"pval={pval[0]:.50f}\") \n"
   ]
  },
  {
   "cell_type": "code",
   "execution_count": 168,
   "metadata": {},
   "outputs": [
    {
     "name": "stdout",
     "output_type": "stream",
     "text": [
      "pval=0.00000000000000000000000000294224795471575932164470\n"
     ]
    }
   ],
   "source": [
    "pval = sm.stats.acorr_ljungbox(series, lags=1)[1]\n",
    "print(f\"pval={pval[0]:.50f}\") "
   ]
  },
  {
   "cell_type": "code",
   "execution_count": 178,
   "metadata": {},
   "outputs": [
    {
     "name": "stdout",
     "output_type": "stream",
     "text": [
      "pval=0.00000000793365304166180388161456126742271388607719\n"
     ]
    }
   ],
   "source": [
    "pval = sm.stats.acorr_ljungbox(unstational_series, lags=1)[1]\n",
    "print(f\"pval={pval[0]:.50f}\") "
   ]
  },
  {
   "cell_type": "markdown",
   "metadata": {},
   "source": [
    "# Trian and error for trend test"
   ]
  },
  {
   "cell_type": "code",
   "execution_count": 179,
   "metadata": {},
   "outputs": [
    {
     "data": {
      "text/plain": [
       "Mann_Kendall_Test(trend='increasing', h=True, p=0.0, z=16.192969154632337, Tau=1.0, s=7140.0, var_s=194366.66666666666, slope=15.0, intercept=1639030030.0)"
      ]
     },
     "execution_count": 179,
     "metadata": {},
     "output_type": "execute_result"
    }
   ],
   "source": [
    "import pymannkendall as mk\n",
    "mk.original_test(series)"
   ]
  },
  {
   "cell_type": "code",
   "execution_count": 180,
   "metadata": {},
   "outputs": [
    {
     "data": {
      "text/plain": [
       "Mann_Kendall_Test(trend='increasing', h=True, p=1.150641177360967e-05, z=4.3867363590564326, Tau=0.27086834733893556, s=1934.0, var_s=194169.33333333334, slope=2.6429738562091493e-05, intercept=0.011827430555555556)"
      ]
     },
     "execution_count": 180,
     "metadata": {},
     "output_type": "execute_result"
    }
   ],
   "source": [
    "mk.original_test(unstational_series)"
   ]
  },
  {
   "cell_type": "code",
   "execution_count": 182,
   "metadata": {},
   "outputs": [
    {
     "data": {
      "text/plain": [
       "Regional_Mann_Kendall_Test(trend='increasing', h=True, p=1.150641177360967e-05, z=4.3867363590564326, Tau=0.27086834733893556, s=1934.0, var_s=194169.33333333334, slope=2.6429738562091493e-05, intercept=0.011827430555555556)"
      ]
     },
     "execution_count": 182,
     "metadata": {},
     "output_type": "execute_result"
    }
   ],
   "source": [
    "mk.regional_test(unstational_series)"
   ]
  },
  {
   "cell_type": "code",
   "execution_count": 184,
   "metadata": {},
   "outputs": [
    {
     "data": {
      "text/plain": [
       "Modified_Mann_Kendall_Test_Yue_Wang_Approach(trend='no trend', h=False, p=0.10002856450234265, z=1.6447151624516354, Tau=0.27086834733893556, s=1934.0, var_s=1381281.8834427686, slope=2.6429738562091493e-05, intercept=0.011827430555555556)"
      ]
     },
     "execution_count": 184,
     "metadata": {},
     "output_type": "execute_result"
    }
   ],
   "source": [
    "mk.yue_wang_modification_test(unstational_series)"
   ]
  },
  {
   "cell_type": "code",
   "execution_count": 186,
   "metadata": {},
   "outputs": [
    {
     "data": {
      "text/plain": [
       "Modified_Mann_Kendall_Test_PreWhitening_Approach(trend='increasing', h=True, p=0.003888474492498073, z=2.8870702104733392, Tau=0.1791767554479419, s=1258.0, var_s=189564.0, slope=2.6429738562091493e-05, intercept=0.011827430555555556)"
      ]
     },
     "execution_count": 186,
     "metadata": {},
     "output_type": "execute_result"
    }
   ],
   "source": [
    "mk.pre_whitening_modification_test(unstational_series)"
   ]
  },
  {
   "cell_type": "code",
   "execution_count": 187,
   "metadata": {},
   "outputs": [
    {
     "data": {
      "text/plain": [
       "Modified_Mann_Kendall_Test_Trend_Free_PreWhitening_Approach(trend='increasing', h=True, p=0.0, z=9.205477996476704, Tau=0.5710012818686797, s=4009.0, var_s=189567.0, slope=2.6429738562091493e-05, intercept=0.011827430555555556)"
      ]
     },
     "execution_count": 187,
     "metadata": {},
     "output_type": "execute_result"
    }
   ],
   "source": [
    "mk.trend_free_pre_whitening_modification_test(unstational_series)"
   ]
  },
  {
   "cell_type": "code",
   "execution_count": 188,
   "metadata": {},
   "outputs": [
    {
     "data": {
      "text/plain": [
       "Multivariate_Mann_Kendall_Test(trend='increasing', h=True, p=1.150641177360967e-05, z=4.3867363590564326, Tau=0.27086834733893556, s=1934.0, var_s=194169.33333333334, slope=2.6429738562091493e-05, intercept=0.011827430555555556)"
      ]
     },
     "execution_count": 188,
     "metadata": {},
     "output_type": "execute_result"
    }
   ],
   "source": [
    "mk.multivariate_test(unstational_series)"
   ]
  },
  {
   "cell_type": "code",
   "execution_count": 190,
   "metadata": {},
   "outputs": [
    {
     "data": {
      "text/plain": [
       "Seasonal_Mann_Kendall_Test(trend='increasing', h=True, p=5.3441849516389084e-05, z=4.0400410381006315, Tau=0.29074074074074074, s=157.0, var_s=1491.0, slope=0.00033333333333333305, intercept=0.011747222222222225)"
      ]
     },
     "execution_count": 190,
     "metadata": {},
     "output_type": "execute_result"
    }
   ],
   "source": [
    "mk.seasonal_test(unstational_series)"
   ]
  },
  {
   "cell_type": "code",
   "execution_count": 191,
   "metadata": {},
   "outputs": [
    {
     "data": {
      "text/plain": [
       "Pettitt_Test(h=True, cp=99, p=0.0, U=1997.0, avg=mean(mu1=0.013444444444444445, mu2=0.03235238095238095))"
      ]
     },
     "execution_count": 191,
     "metadata": {},
     "output_type": "execute_result"
    }
   ],
   "source": [
    "import pyhomogeneity as hg\n",
    "\n",
    "hg.pettitt_test(unstational_series, alpha=0.01)"
   ]
  },
  {
   "cell_type": "code",
   "execution_count": 195,
   "metadata": {},
   "outputs": [
    {
     "data": {
      "text/plain": [
       "Pettitt_Test(h=False, cp=118, p=1.0, U=118.0, avg=mean(mu1=15.008474576271187, mu2=14.0))"
      ]
     },
     "execution_count": 195,
     "metadata": {},
     "output_type": "execute_result"
    }
   ],
   "source": [
    "hg.pettitt_test(np.diff(series), alpha=0.01)"
   ]
  },
  {
   "cell_type": "code",
   "execution_count": 196,
   "metadata": {},
   "outputs": [
    {
     "data": {
      "text/plain": [
       "Pettitt_Test(h=False, cp=84, p=0.8444, U=429.0, avg=mean(mu1=-3.095238095238093e-05, mu2=0.000774285714285714))"
      ]
     },
     "execution_count": 196,
     "metadata": {},
     "output_type": "execute_result"
    }
   ],
   "source": [
    "hg.pettitt_test(np.diff(unstational_series), alpha=0.01)"
   ]
  },
  {
   "cell_type": "code",
   "execution_count": 199,
   "metadata": {},
   "outputs": [
    {
     "data": {
      "text/plain": [
       "0.008642716314028858"
      ]
     },
     "execution_count": 199,
     "metadata": {},
     "output_type": "execute_result"
    }
   ],
   "source": [
    "diff_series = np.diff(series)\n",
    "np.std(diff_series) / np.mean(diff_series)"
   ]
  },
  {
   "cell_type": "code",
   "execution_count": 200,
   "metadata": {},
   "outputs": [
    {
     "data": {
      "text/plain": [
       "8.136402740934242"
      ]
     },
     "execution_count": 200,
     "metadata": {},
     "output_type": "execute_result"
    }
   ],
   "source": [
    "diff_series = np.diff(unstational_series)\n",
    "np.std(diff_series) / np.mean(diff_series)"
   ]
  },
  {
   "cell_type": "code",
   "execution_count": 205,
   "metadata": {},
   "outputs": [
    {
     "data": {
      "text/plain": [
       "0.5821817364274594"
      ]
     },
     "execution_count": 205,
     "metadata": {},
     "output_type": "execute_result"
    }
   ],
   "source": [
    "np.std(unstational_series) / np.mean(unstational_series)"
   ]
  },
  {
   "cell_type": "code",
   "execution_count": null,
   "metadata": {},
   "outputs": [],
   "source": [
    "np.std(dummy_series) / np.mean(dummy_series)"
   ]
  }
 ],
 "metadata": {
  "interpreter": {
   "hash": "10af311f55de40e8e2b5066231383d9f1c60e9dfe97e5139dcf83292c8af81d4"
  },
  "kernelspec": {
   "display_name": "Python 3.9.5 64-bit ('.venv': poetry)",
   "language": "python",
   "name": "python3"
  },
  "language_info": {
   "codemirror_mode": {
    "name": "ipython",
    "version": 3
   },
   "file_extension": ".py",
   "mimetype": "text/x-python",
   "name": "python",
   "nbconvert_exporter": "python",
   "pygments_lexer": "ipython3",
   "version": "3.9.5"
  },
  "orig_nbformat": 4
 },
 "nbformat": 4,
 "nbformat_minor": 2
}
