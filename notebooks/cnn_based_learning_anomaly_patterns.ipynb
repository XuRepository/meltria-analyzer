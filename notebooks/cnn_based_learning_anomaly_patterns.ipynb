{
 "cells": [
  {
   "cell_type": "markdown",
   "metadata": {},
   "source": [
    "## CNN based learning anomaly patterns"
   ]
  },
  {
   "cell_type": "code",
   "execution_count": 13,
   "metadata": {},
   "outputs": [],
   "source": [
    "%reload_ext autoreload\n",
    "%autoreload 2"
   ]
  },
  {
   "cell_type": "code",
   "execution_count": 14,
   "metadata": {},
   "outputs": [],
   "source": [
    "from collections import defaultdict\n",
    "from multiprocessing import cpu_count\n",
    "\n",
    "import numpy as np\n",
    "import pandas as pd\n",
    "import torch\n",
    "import torch.nn as nn\n",
    "import torch.nn.functional as F\n",
    "import torch.optim as optim\n",
    "from torch.utils.data import Dataset\n",
    "\n",
    "import scipy.stats\n",
    "import matplotlib.pyplot as plt\n",
    "plt.rcParams[\"font.family\"] = \"DejaVu Sans\"\n",
    "plt.rcParams[\"font.size\"] = 7\n",
    "plt.rcParams['xtick.labelsize'] = 9\n",
    "plt.rcParams['ytick.labelsize'] = 9\n",
    "plt.rcParams['xtick.direction'] = 'in'\n",
    "plt.rcParams['ytick.direction'] = 'in'\n",
    "plt.rcParams['axes.linewidth'] = 1.0\n",
    "plt.rcParams['axes.grid'] = True\n",
    "\n",
    "import warnings\n",
    "warnings.filterwarnings('ignore')"
   ]
  },
  {
   "cell_type": "code",
   "execution_count": 15,
   "metadata": {},
   "outputs": [],
   "source": [
    "device = torch.device('cuda' if torch.cuda.is_available() else 'cpu')\n",
    "seed = 1\n",
    "torch.manual_seed(seed)\n",
    "if torch.cuda.is_available():\n",
    "    torch.cuda.manual_seed(seed)"
   ]
  },
  {
   "cell_type": "code",
   "execution_count": 334,
   "metadata": {},
   "outputs": [],
   "source": [
    "import pathlib\n",
    "from sklearn.preprocessing import minmax_scale\n",
    "\n",
    "class TSDatasetAnomalyPatterns(Dataset):\n",
    "    def __init__(self, path: pathlib.Path):\n",
    "        super(TSDatasetAnomalyPatterns, self).__init__()\n",
    "        self.df = pd.read_json(str(path), orient='records', lines=True)\n",
    "        self.time_series = torch.tensor([\n",
    "            [minmax_scale(li, feature_range=(0, 1)) for li in self.df.loc[:, \"time_series\"].values]\n",
    "        ], dtype=torch.float32)  # use float64 to avoid error\n",
    "\n",
    "        self.joined_categories = self.df.loc[:, [\"anomaly_pattern\", \"anomaly_position\"]].apply(\n",
    "            lambda x: \"/\".join(x.dropna().astype(str).values), axis=1\n",
    "        ).to_numpy()\n",
    "\n",
    "        # string labels to int labels\n",
    "        self.label_to_category = {i: v for i, v in enumerate(np.unique(self.joined_categories))}\n",
    "        category_to_label = {v: k for k, v in self.label_to_category.items()}\n",
    "        self.labels = torch.tensor([\n",
    "            category_to_label[c] for c in self.joined_categories\n",
    "        ], dtype=torch.int64)\n",
    "\n",
    "    def __getitem__(self, idx):\n",
    "        label = self.labels[idx]\n",
    "        category = self.label_to_category[label.item()]\n",
    "        return self.time_series[:, idx], label, category\n",
    "\n",
    "    def __len__(self):\n",
    "        return len(self.df)\n",
    "    \n",
    "    def number_of_class(self) -> int:\n",
    "        return len(self.label_to_category.keys())"
   ]
  },
  {
   "cell_type": "code",
   "execution_count": 332,
   "metadata": {},
   "outputs": [],
   "source": [
    "dataset = TSDatasetAnomalyPatterns(pathlib.Path(\"../samples/tsdr_anomaly_patterns/labeled_tsdr_anomaly_patterns_20221202-024759.jsonl\"))"
   ]
  },
  {
   "cell_type": "code",
   "execution_count": 333,
   "metadata": {},
   "outputs": [
    {
     "data": {
      "text/plain": [
       "836"
      ]
     },
     "metadata": {},
     "output_type": "display_data"
    },
    {
     "data": {
      "text/plain": [
       "357"
      ]
     },
     "metadata": {},
     "output_type": "display_data"
    }
   ],
   "source": [
    "import torch.utils.data\n",
    "\n",
    "train_dataset, test_dataset = torch.utils.data.random_split(dataset=dataset, lengths=[0.7, 0.3], generator=torch.Generator().manual_seed(42))\n",
    "display(len(train_dataset), len(test_dataset))"
   ]
  },
  {
   "cell_type": "code",
   "execution_count": 352,
   "metadata": {},
   "outputs": [],
   "source": [
    "# ref. https://github.com/pytorch/examples/blob/f82f5626b6432b8d0b08d58cc91f3bdbb355a772/mnist/main.py\n",
    "\n",
    "class CNN1d(nn.Module):\n",
    "    def __init__(self, num_classes: int):\n",
    "        super(CNN1d, self).__init__()\n",
    "\n",
    "        self.conv1 = nn.Conv1d(1, 64, kernel_size=4)\n",
    "        self.conv2 = nn.Conv1d(64, 128, kernel_size=4)\n",
    "        self.conv3 = nn.Conv1d(128, 256, kernel_size=4)\n",
    "        # self.dropout1 = nn.Dropout(0.25)\n",
    "        # self.dropout2 = nn.Dropout(0.5)\n",
    "        self.fc1 = nn.Linear(21504, 128)  # the number of datapoints in a metric = 60/15 * 45 (45min * 15sec interval)\n",
    "        self.fc2 = nn.Linear(128, num_classes)  # The number of class is 13 (chaos types) * 2 (anomaly position) + 2 (normal and unknown)\n",
    "\n",
    "    def forward(self, x):\n",
    "        x = self.conv1(x)\n",
    "        x = F.relu(x)\n",
    "        x = self.conv2(x)\n",
    "        x = F.relu(x)\n",
    "        x = self.conv3(x)\n",
    "        x = F.relu(x)\n",
    "        x = F.max_pool1d(x, kernel_size=5, stride=2)\n",
    "        # x = self.dropout1(x)\n",
    "        x = torch.flatten(x, 1)  # Is this necessary?\n",
    "        x = self.fc1(x)\n",
    "        x = F.relu(x)\n",
    "        # x = self.dropout2(x)\n",
    "        x = self.fc2(x)\n",
    "        output = F.log_softmax(x, dim=1)\n",
    "        return output"
   ]
  },
  {
   "cell_type": "code",
   "execution_count": 353,
   "metadata": {},
   "outputs": [],
   "source": [
    "def train(log_interval, model, device, train_loader, optimizer, loss_fn, epoch):\n",
    "    model.train()\n",
    "    for batch_idx, (data, target, category) in enumerate(train_loader):\n",
    "        data, target = data.to(device), target.to(device)\n",
    "        optimizer.zero_grad()\n",
    "        output = model(data)\n",
    "        loss = loss_fn(output, target)\n",
    "        loss.backward()\n",
    "        optimizer.step()\n",
    "        if batch_idx % log_interval == 0:\n",
    "            print('Train Epoch: {} [{}/{} ({:.0f}%)]\\tLoss: {:.6f}'.format(\n",
    "                epoch, batch_idx * len(data), len(train_loader.dataset),\n",
    "                100. * batch_idx / len(train_loader), loss.item()))\n",
    "\n",
    "def test(model, device, test_loader, loss_fn):\n",
    "    model.eval()\n",
    "    test_loss = 0\n",
    "    correct = 0\n",
    "    with torch.no_grad():\n",
    "        for data, target, category in test_loader:\n",
    "            data, target = data.to(device), target.to(device)\n",
    "            output = model(data)\n",
    "            test_loss += loss_fn(output, target).item()\n",
    "            pred = output.argmax(dim=1, keepdim=True)  # get the index of the max log-probability\n",
    "            correct += pred.eq(target.view_as(pred)).sum().item()\n",
    "\n",
    "    test_loss /= len(test_loader.dataset)\n",
    "\n",
    "    print('\\nTest set: Average loss: {:.4f}, Accuracy: {}/{} ({:.0f}%)\\n'.format(\n",
    "        test_loss, correct, len(test_loader.dataset),\n",
    "        100. * correct / len(test_loader.dataset)))"
   ]
  },
  {
   "cell_type": "code",
   "execution_count": 354,
   "metadata": {},
   "outputs": [
    {
     "name": "stdout",
     "output_type": "stream",
     "text": [
      "Train Epoch: 1 [0/836 (0%)]\tLoss: 3.173017\n",
      "Train Epoch: 1 [400/836 (48%)]\tLoss: 1.552677\n",
      "Train Epoch: 1 [800/836 (96%)]\tLoss: 1.746162\n",
      "\n",
      "Test set: Average loss: 0.3388, Accuracy: 192/357 (54%)\n",
      "\n",
      "Train Epoch: 2 [0/836 (0%)]\tLoss: 1.523529\n",
      "Train Epoch: 2 [400/836 (48%)]\tLoss: 1.054050\n",
      "Train Epoch: 2 [800/836 (96%)]\tLoss: 1.408871\n",
      "\n",
      "Test set: Average loss: 0.2184, Accuracy: 239/357 (67%)\n",
      "\n",
      "Train Epoch: 3 [0/836 (0%)]\tLoss: 0.958960\n",
      "Train Epoch: 3 [400/836 (48%)]\tLoss: 0.307050\n",
      "Train Epoch: 3 [800/836 (96%)]\tLoss: 0.574735\n",
      "\n",
      "Test set: Average loss: 0.2024, Accuracy: 259/357 (73%)\n",
      "\n",
      "Train Epoch: 4 [0/836 (0%)]\tLoss: 0.379726\n",
      "Train Epoch: 4 [400/836 (48%)]\tLoss: 0.173865\n",
      "Train Epoch: 4 [800/836 (96%)]\tLoss: 3.060119\n",
      "\n",
      "Test set: Average loss: 0.1931, Accuracy: 271/357 (76%)\n",
      "\n",
      "Train Epoch: 5 [0/836 (0%)]\tLoss: 0.279039\n",
      "Train Epoch: 5 [400/836 (48%)]\tLoss: 0.689928\n",
      "Train Epoch: 5 [800/836 (96%)]\tLoss: 0.028738\n",
      "\n",
      "Test set: Average loss: 0.2123, Accuracy: 271/357 (76%)\n",
      "\n",
      "Train Epoch: 6 [0/836 (0%)]\tLoss: 0.311318\n",
      "Train Epoch: 6 [400/836 (48%)]\tLoss: 0.044465\n",
      "Train Epoch: 6 [800/836 (96%)]\tLoss: 0.142332\n",
      "\n",
      "Test set: Average loss: 0.2100, Accuracy: 284/357 (80%)\n",
      "\n",
      "Train Epoch: 7 [0/836 (0%)]\tLoss: 0.349323\n",
      "Train Epoch: 7 [400/836 (48%)]\tLoss: 0.181103\n",
      "Train Epoch: 7 [800/836 (96%)]\tLoss: 0.023323\n",
      "\n",
      "Test set: Average loss: 0.1995, Accuracy: 282/357 (79%)\n",
      "\n",
      "Train Epoch: 8 [0/836 (0%)]\tLoss: 0.116921\n",
      "Train Epoch: 8 [400/836 (48%)]\tLoss: 0.057490\n",
      "Train Epoch: 8 [800/836 (96%)]\tLoss: 0.094152\n",
      "\n",
      "Test set: Average loss: 0.2166, Accuracy: 282/357 (79%)\n",
      "\n",
      "Train Epoch: 9 [0/836 (0%)]\tLoss: 0.001599\n",
      "Train Epoch: 9 [400/836 (48%)]\tLoss: 0.032637\n",
      "Train Epoch: 9 [800/836 (96%)]\tLoss: 0.218626\n",
      "\n",
      "Test set: Average loss: 0.2150, Accuracy: 285/357 (80%)\n",
      "\n",
      "Train Epoch: 10 [0/836 (0%)]\tLoss: 0.028975\n",
      "Train Epoch: 10 [400/836 (48%)]\tLoss: 0.722297\n",
      "Train Epoch: 10 [800/836 (96%)]\tLoss: 0.119507\n",
      "\n",
      "Test set: Average loss: 0.2188, Accuracy: 280/357 (78%)\n",
      "\n",
      "Train Epoch: 11 [0/836 (0%)]\tLoss: 0.017286\n",
      "Train Epoch: 11 [400/836 (48%)]\tLoss: 0.132451\n",
      "Train Epoch: 11 [800/836 (96%)]\tLoss: 0.016896\n",
      "\n",
      "Test set: Average loss: 0.2235, Accuracy: 280/357 (78%)\n",
      "\n",
      "Train Epoch: 12 [0/836 (0%)]\tLoss: 0.034495\n",
      "Train Epoch: 12 [400/836 (48%)]\tLoss: 0.080485\n",
      "Train Epoch: 12 [800/836 (96%)]\tLoss: 0.083052\n",
      "\n",
      "Test set: Average loss: 0.2240, Accuracy: 281/357 (79%)\n",
      "\n",
      "Train Epoch: 13 [0/836 (0%)]\tLoss: 0.170125\n",
      "Train Epoch: 13 [400/836 (48%)]\tLoss: 0.015236\n",
      "Train Epoch: 13 [800/836 (96%)]\tLoss: 0.008668\n",
      "\n",
      "Test set: Average loss: 0.2459, Accuracy: 284/357 (80%)\n",
      "\n",
      "Train Epoch: 14 [0/836 (0%)]\tLoss: 0.001903\n",
      "Train Epoch: 14 [400/836 (48%)]\tLoss: 0.131333\n",
      "Train Epoch: 14 [800/836 (96%)]\tLoss: 0.072391\n",
      "\n",
      "Test set: Average loss: 0.2275, Accuracy: 284/357 (80%)\n",
      "\n"
     ]
    }
   ],
   "source": [
    "model = CNN1d(num_classes=dataset.number_of_class()).to(device)\n",
    "learning_rate = 0.001\n",
    "epochs = 14\n",
    "batch_size = 4\n",
    "test_batch_size = 4\n",
    "optimizer = optim.Adam(model.parameters(), lr=learning_rate)\n",
    "loss_fn = nn.CrossEntropyLoss()\n",
    "\n",
    "train_dataloader = torch.utils.data.DataLoader(train_dataset, batch_size=batch_size, shuffle=True, pin_memory=True)\n",
    "test_dataloader = torch.utils.data.DataLoader(test_dataset, batch_size=test_batch_size, shuffle=True, pin_memory=True)\n",
    "\n",
    "scheduler = optim.lr_scheduler.StepLR(optimizer, step_size=1, gamma=0.7)\n",
    "for epoch in range(1, epochs + 1):\n",
    "    train(100, model, device, train_dataloader, optimizer, loss_fn, epoch)\n",
    "    test(model, device, test_dataloader, loss_fn)\n",
    "    scheduler.step()"
   ]
  }
 ],
 "metadata": {
  "kernelspec": {
   "display_name": "Python 3.10.4 ('.venv': poetry)",
   "language": "python",
   "name": "python3"
  },
  "language_info": {
   "codemirror_mode": {
    "name": "ipython",
    "version": 3
   },
   "file_extension": ".py",
   "mimetype": "text/x-python",
   "name": "python",
   "nbconvert_exporter": "python",
   "pygments_lexer": "ipython3",
   "version": "3.10.4"
  },
  "orig_nbformat": 4,
  "vscode": {
   "interpreter": {
    "hash": "c0f02f5f97634d426ffcfa502db37ef392cddba0a927ded2fc10600c3b8bead5"
   }
  }
 },
 "nbformat": 4,
 "nbformat_minor": 2
}
