{
 "cells": [
  {
   "attachments": {},
   "cell_type": "markdown",
   "metadata": {},
   "source": [
    "# Dataset sockshop (9n6mf)"
   ]
  },
  {
   "cell_type": "code",
   "execution_count": 2,
   "metadata": {},
   "outputs": [],
   "source": [
    "%reload_ext autoreload\n",
    "%autoreload 2"
   ]
  },
  {
   "cell_type": "code",
   "execution_count": 3,
   "metadata": {},
   "outputs": [],
   "source": [
    "DATASET_ID = \"9n6mf\""
   ]
  },
  {
   "cell_type": "code",
   "execution_count": 4,
   "metadata": {},
   "outputs": [],
   "source": [
    "import numpy as np\n",
    "import pandas as pd\n",
    "import matplotlib.pyplot as plt\n",
    "\n",
    "plt.rcParams[\"font.family\"] = \"DejaVu Sans\"\n",
    "plt.rcParams[\"font.size\"] = 7\n",
    "plt.rcParams['xtick.labelsize'] = 8\n",
    "plt.rcParams['ytick.labelsize'] = 8\n",
    "plt.rcParams['xtick.direction'] = 'in'\n",
    "plt.rcParams['ytick.direction'] = 'in'\n",
    "plt.rcParams['axes.linewidth'] = 1.0\n",
    "plt.rcParams['axes.grid'] = True"
   ]
  },
  {
   "cell_type": "code",
   "execution_count": 1,
   "metadata": {},
   "outputs": [],
   "source": [
    "import sys\n",
    "sys.path.append('../../')\n",
    "\n",
    "from tsdr import tsdr\n",
    "from eval import groundtruth\n",
    "from meltria import loader\n",
    "from eval import validation"
   ]
  },
  {
   "cell_type": "code",
   "execution_count": 5,
   "metadata": {},
   "outputs": [],
   "source": [
    "metrics_files = !find \"/datasets/argowf-chaos-{DATASET_ID}/\" -type f -name \"*.json\"\n",
    "records = loader.load_dataset(metrics_files, target_metric_types={\n",
    "        \"containers\": True,\n",
    "        \"services\": True,\n",
    "        \"nodes\": True,\n",
    "        \"middlewares\": True,\n",
    "    },\n",
    "    num_datapoints=4*45, # 45min\n",
    ")"
   ]
  },
  {
   "cell_type": "code",
   "execution_count": null,
   "metadata": {},
   "outputs": [
    {
     "data": {
      "text/plain": [
       "135"
      ]
     },
     "execution_count": 6,
     "metadata": {},
     "output_type": "execute_result"
    }
   ],
   "source": [
    "len(records)"
   ]
  },
  {
   "cell_type": "code",
   "execution_count": null,
   "metadata": {},
   "outputs": [],
   "source": [
    "well_injected_records = validation.find_records_detected_anomalies_of_sli(records, faulty_datapoints=4*5, sli_index=0)"
   ]
  },
  {
   "cell_type": "code",
   "execution_count": null,
   "metadata": {},
   "outputs": [
    {
     "data": {
      "text/plain": [
       "111"
      ]
     },
     "execution_count": 8,
     "metadata": {},
     "output_type": "execute_result"
    }
   ],
   "source": [
    "len(well_injected_records)"
   ]
  },
  {
   "cell_type": "code",
   "execution_count": null,
   "metadata": {},
   "outputs": [],
   "source": [
    "well_injected_records = validation.find_records_detected_anomalies_of_cause_metrics(well_injected_records, faulty_datapoints=4*5)"
   ]
  },
  {
   "cell_type": "code",
   "execution_count": null,
   "metadata": {},
   "outputs": [
    {
     "data": {
      "text/plain": [
       "105"
      ]
     },
     "execution_count": 10,
     "metadata": {},
     "output_type": "execute_result"
    }
   ],
   "source": [
    "len(well_injected_records)"
   ]
  },
  {
   "cell_type": "code",
   "execution_count": null,
   "metadata": {},
   "outputs": [],
   "source": [
    "import sys\n",
    "sys.path.append(\"../\")\n",
    "from eval.tsdr import sweep_tsdr_and_save_as_cache"
   ]
  },
  {
   "cell_type": "code",
   "execution_count": null,
   "metadata": {},
   "outputs": [
    {
     "ename": "NameError",
     "evalue": "name 'sweep_tsdr_and_save_as_cache' is not defined",
     "output_type": "error",
     "traceback": [
      "\u001b[0;31m---------------------------------------------------------------------------\u001b[0m",
      "\u001b[0;31mNameError\u001b[0m                                 Traceback (most recent call last)",
      "\u001b[0;32m/tmp/ipykernel_235552/217040639.py\u001b[0m in \u001b[0;36m<cell line: 1>\u001b[0;34m()\u001b[0m\n\u001b[0;32m----> 1\u001b[0;31m sweep_tsdr_and_save_as_cache(\n\u001b[0m\u001b[1;32m      2\u001b[0m     \u001b[0mdataset_id\u001b[0m\u001b[0;34m=\u001b[0m\u001b[0mDATASET_ID\u001b[0m\u001b[0;34m,\u001b[0m\u001b[0;34m\u001b[0m\u001b[0;34m\u001b[0m\u001b[0m\n\u001b[1;32m      3\u001b[0m     \u001b[0mrecords\u001b[0m\u001b[0;34m=\u001b[0m\u001b[0mwell_injected_records\u001b[0m\u001b[0;34m,\u001b[0m\u001b[0;34m\u001b[0m\u001b[0;34m\u001b[0m\u001b[0m\n\u001b[1;32m      4\u001b[0m     list_of_tsdr_options=[\n\u001b[1;32m      5\u001b[0m         {\n",
      "\u001b[0;31mNameError\u001b[0m: name 'sweep_tsdr_and_save_as_cache' is not defined"
     ]
    }
   ],
   "source": [
    "import os\n",
    "\n",
    "os.environ[\"TSDR_NEPTUNE_PROJECT\"] = \"yuuk1/tsdr\"\n",
    "\n",
    "sweep_tsdr_and_save_as_cache(\n",
    "    dataset_id=DATASET_ID,\n",
    "    records=well_injected_records,\n",
    "    list_of_tsdr_options=[\n",
    "        {\n",
    "            \"enable_unireducer\": True,\n",
    "            \"enable_multireducer\": False,\n",
    "            \"step1_method_name\": \"residual_integral\",\n",
    "            \"step1_residual_integral_threshold\": 20,\n",
    "            \"step1_residual_integral_change_start_point\": False,\n",
    "            \"step1_residual_integral_change_start_point_n_sigma\": 3,\n",
    "        },\n",
    "        # {\n",
    "        #     \"enable_unireducer\": False,\n",
    "        #     \"enable_multireducer\": True,\n",
    "        #     \"step2_clustering_method_name\": \"dbscan\",\n",
    "        #     \"step2_dbscan_min_pts\": 2,\n",
    "        #     \"step2_dbscan_dist_type\": \"sbd\",\n",
    "        #     \"step2_dbscan_algorithm\": \"hdbscan\",\n",
    "        #     \"step2_clustering_series_type\": \"raw\",\n",
    "        #     \"step2_clustering_choice_method\": \"medoid\",\n",
    "        # },\n",
    "        # {\n",
    "        #     \"enable_unireducer\": True,\n",
    "        #     \"enable_multireducer\": True,\n",
    "        #     \"step1_method_name\": \"residual_integral\",\n",
    "        #     \"step1_residual_integral_threshold\": 20,\n",
    "        #     \"step1_residual_integral_change_start_point\": False,\n",
    "        #     \"step1_residual_integral_change_start_point_n_sigma\": 3,\n",
    "        #     \"step2_clustering_method_name\": \"dbscan\",\n",
    "        #     \"step2_dbscan_min_pts\": 2,\n",
    "        #     \"step2_dbscan_dist_type\": \"sbd\",\n",
    "        #     \"step2_dbscan_algorithm\": \"hdbscan\",\n",
    "        #     \"step2_clustering_series_type\": \"raw\",\n",
    "        #     \"step2_clustering_choice_method\": \"medoid\",\n",
    "        # }, {\n",
    "        #     \"enable_unireducer\": True,\n",
    "        #     \"enable_multireducer\": True,\n",
    "        #     \"step1_method_name\": \"residual_integral\",\n",
    "        #     \"step1_residual_integral_threshold\": 20,\n",
    "        #     \"step1_residual_integral_change_start_point\": False,\n",
    "        #     \"step1_residual_integral_change_start_point_n_sigma\": 3,\n",
    "        #     \"step2_clustering_method_name\": \"hierarchy\",\n",
    "        #     \"step2_hierarchy_dist_threshold\": 0.02,  # should be <1.0 if 'sbd' is specified\n",
    "        #     \"step2_hierarchy_dist_type\": \"sbd\", # 'sbd' or 'hamming'\n",
    "        #     \"step2_hierarchy_linkage_method\": \"single\",  # 'single','complete','average','weighted', 'centroid', 'median', 'ward'\n",
    "        #     \"step2_clustering_series_type\": \"raw\",  # 'raw', 'anomaly_score' or 'binary_anomaly_score'\n",
    "        #     \"step2_clustering_choice_method\": \"medoid\",  # 'medoid' or 'maxsum'\n",
    "        # },\n",
    "        # {\n",
    "        #     \"enable_unireducer\": True,\n",
    "        #     \"enable_multireducer\": True,\n",
    "        #     \"step2_clustering_method_name\": \"hierarchy\",\n",
    "        #     \"step2_hierarchy_dist_threshold\": 0.02,  # should be <1.0 if 'sbd' is specified\n",
    "        #     \"step2_hierarchy_dist_type\": \"sbd\", # 'sbd' or 'hamming'\n",
    "        #     \"step2_hierarchy_linkage_method\": \"single\",  # 'single','complete','average','weighted', 'centroid', 'median', 'ward'\n",
    "        #     \"step2_clustering_series_type\": \"raw\",  # 'raw', 'anomaly_score' or 'binary_anomaly_score'\n",
    "        #     \"step2_clustering_choice_method\": \"medoid\",  # 'medoid' or 'maxsum'\n",
    "        # }, {\n",
    "        #     \"enable_unireducer\": True,\n",
    "        #     \"enable_multireducer\": True,\n",
    "        #     \"step2_dbscan_min_pts\": 1,\n",
    "        #     \"step2_dbscan_dist_type\": \"pearsonr\",  # 'pearsonr' or 'sbd'\n",
    "        #     \"step2_dbscan_algorithm\": \"dbscan\",  # 'dbscan' or 'hdbscan'\n",
    "        #     \"step2_clustering_series_type\": \"raw\",  # 'raw', 'anomaly_score' or 'binary_anomaly_score'\n",
    "        #     \"step2_clustering_choice_method\": \"medoid\",  # 'medoid' or 'maxsum'\n",
    "        # }, {\n",
    "        #     \"enable_unireducer\": True,\n",
    "        #     \"enable_multireducer\": True,\n",
    "        #     \"step2_dbscan_min_pts\": 1,\n",
    "        #     \"step2_dbscan_dist_type\": \"sbd\",  # 'pearsonr' or 'sbd'\n",
    "        #     \"step2_dbscan_algorithm\": \"dbscan\",  # 'dbscan' or 'hdbscan'\n",
    "        #     \"step2_clustering_series_type\": \"raw\",  # 'raw', 'anomaly_score' or 'binary_anomaly_score'\n",
    "        #     \"step2_clustering_choice_method\": \"medoid\",  # 'medoid' or 'maxsum'\n",
    "        # }, {\n",
    "        #     \"enable_unireducer\": False,\n",
    "        #     \"enable_multireducer\": True,\n",
    "        #     \"step2_clustering_method_name\": \"hierarchy\",\n",
    "        #     \"step2_hierarchy_dist_threshold\": 0.02,  # should be <1.0 if 'sbd' is specified\n",
    "        #     \"step2_hierarchy_dist_type\": \"sbd\", # 'sbd' or 'hamming'\n",
    "        #     \"step2_hierarchy_linkage_method\": \"single\",  # 'single','complete','average','weighted', 'centroid', 'median', 'ward'\n",
    "        #     \"step2_clustering_series_type\": \"raw\",  # 'raw', 'anomaly_score' or 'binary_anomaly_score'\n",
    "        #     \"step2_clustering_choice_method\": \"medoid\",  # 'medoid' or 'maxsum'\n",
    "        # }, {\n",
    "        #     \"step1_model_name\": \"two_samp_test\",\n",
    "        #     \"step1_two_samp_test_method\": \"ks\", # 'ks' or 'ad' or 'es' or 'e-diagnosis'\n",
    "        #     \"step1_two_samp_test_alpha\": 0.05,\n",
    "        #     \"step1_two_samp_test_seg_idx\": -(4 * 10),  # 0 means division at midpoint\n",
    "        # }, {\n",
    "        #     \"step1_model_name\": \"two_samp_test\",\n",
    "        #     \"step1_two_samp_test_method\": \"e-diagnosis\", # 'ks' or 'ad' or 'es' or 'e-diagnosis'\n",
    "        #     \"step1_two_samp_test_n_resamples\": 999,\n",
    "        #     \"step1_two_samp_test_alpha\": 0.05,\n",
    "        #     \"step1_two_samp_test_seg_idx\": -(4 * 10),  # 0 means division at midpoint\n",
    "        # }, {\n",
    "        #     \"step1_model_name\": \"fluxinfer\",\n",
    "        #     \"step1_fluxinfer_sigma_threshold\": 3,\n",
    "        # }, {\n",
    "        #     \"step1_model_name\": \"two_samp_test\",\n",
    "        #     \"step1_two_samp_test_method\": \"ks\", # 'ks' or 'ad' or 'es' or 'e-diagnosis'\n",
    "        #     \"step1_two_samp_test_alpha\": 0.05,\n",
    "        #     \"step1_two_samp_test_seg_idx\": -(4 * 10),  # 0 means division at midpoint\n",
    "        #     \"step2_clustering_method_name\": \"hierarchy\",\n",
    "        #     \"step2_hierarchy_dist_threshold\": 0.02,  # should be <1.0 if 'sbd' is specified\n",
    "        #     \"step2_hierarchy_dist_type\": \"sbd\", # 'sbd' or 'hamming'\n",
    "        #     \"step2_hierarchy_linkage_method\": \"single\",  # 'single','complete','average','weighted', 'centroid', 'median', 'ward'\n",
    "        #     \"step2_clustering_series_type\": \"raw\",  # 'raw', 'anomaly_score' or 'binary_anomaly_score'\n",
    "        #     \"step2_clustering_choice_method\": \"medoid\",  # 'medoid' or 'maxsum'\n",
    "        # }, {\n",
    "        #     \"step1_model_name\": \"two_samp_test\",\n",
    "        #     \"step1_two_samp_test_method\": \"e-diagnosis\", # 'ks' or 'ad' or 'es' or 'e-diagnosis'\n",
    "        #     \"step1_two_samp_test_n_resamples\": 999,\n",
    "        #     \"step1_two_samp_test_alpha\": 0.05,\n",
    "        #     \"step1_two_samp_test_seg_idx\": -(4 * 10),  # 0 means division at midpoint\n",
    "        #     \"step2_clustering_method_name\": \"hierarchy\",\n",
    "        #     \"step2_hierarchy_dist_threshold\": 0.02,  # should be <1.0 if 'sbd' is specified\n",
    "        #     \"step2_hierarchy_dist_type\": \"sbd\", # 'sbd' or 'hamming'\n",
    "        #     \"step2_hierarchy_linkage_method\": \"single\",  # 'single','complete','average','weighted', 'centroid', 'median', 'ward'\n",
    "        #     \"step2_clustering_series_type\": \"raw\",  # 'raw', 'anomaly_score' or 'binary_anomaly_score'\n",
    "        #     \"step2_clustering_choice_method\": \"medoid\",  # 'medoid' or 'maxsum'\n",
    "        # }, {\n",
    "        #     \"step1_model_name\": \"fluxinfer\",\n",
    "        #     \"step1_fluxinfer_sigma_threshold\": 3,\n",
    "        #     \"step2_clustering_method_name\": \"hierarchy\",\n",
    "        #     \"step2_hierarchy_dist_threshold\": 0.02,  # should be <1.0 if 'sbd' is specified\n",
    "        #     \"step2_hierarchy_dist_type\": \"sbd\", # 'sbd' or 'hamming'\n",
    "    #     \"step2_hierarchy_linkage_method\": \"single\",  # 'single','complete','average','weighted', 'centroid', 'median', 'ward'\n",
    "        #     \"step2_clustering_series_type\": \"raw\",  # 'raw', 'anomaly_score' or 'binary_anomaly_score'\n",
    "        #     \"step2_clustering_choice_method\": \"medoid\",  # 'medoid' or 'maxsum'\n",
    "        # },\n",
    "    ],\n",
    "    use_manually_selected_metrics=[True, False],\n",
    ")"
   ]
  }
 ],
 "metadata": {
  "kernelspec": {
   "display_name": "Python 3 (ipykernel)",
   "language": "python",
   "name": "python3"
  },
  "language_info": {
   "codemirror_mode": {
    "name": "ipython",
    "version": 3
   },
   "file_extension": ".py",
   "mimetype": "text/x-python",
   "name": "python",
   "nbconvert_exporter": "python",
   "pygments_lexer": "ipython3",
   "version": "3.10.4"
  },
  "orig_nbformat": 4,
  "vscode": {
   "interpreter": {
    "hash": "c0f02f5f97634d426ffcfa502db37ef392cddba0a927ded2fc10600c3b8bead5"
   }
  }
 },
 "nbformat": 4,
 "nbformat_minor": 2
}
