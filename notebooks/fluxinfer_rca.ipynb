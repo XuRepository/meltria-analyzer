{
 "cells": [
  {
   "cell_type": "markdown",
   "metadata": {},
   "source": [
    "# FluxInfer RCA method"
   ]
  },
  {
   "cell_type": "code",
   "execution_count": 1,
   "metadata": {},
   "outputs": [],
   "source": [
    "%reload_ext autoreload\n",
    "%autoreload 2"
   ]
  },
  {
   "cell_type": "code",
   "execution_count": 2,
   "metadata": {},
   "outputs": [],
   "source": [
    "from collections import defaultdict\n",
    "\n",
    "import numpy as np\n",
    "import pandas as pd\n",
    "import matplotlib.pyplot as plt\n",
    "import scipy.stats"
   ]
  },
  {
   "cell_type": "code",
   "execution_count": 3,
   "metadata": {},
   "outputs": [
    {
     "name": "stdout",
     "output_type": "stream",
     "text": [
      "INFO: Pandarallel will run on 10 workers.\n",
      "INFO: Pandarallel will use Memory file system to transfer data between the main process and workers.\n"
     ]
    }
   ],
   "source": [
    "import sys\n",
    "sys.path.append('../')\n",
    "from tsdr import tsdr\n",
    "from diagnoser import diag\n",
    "from eval import groundtruth"
   ]
  },
  {
   "cell_type": "code",
   "execution_count": 4,
   "metadata": {},
   "outputs": [],
   "source": [
    "from meltria import loader\n",
    "\n",
    "metrics_files = !find /datasets/argowf-chaos-rq54b/ -type f -name \"*.json\" | head -n 3\n",
    "dataset_generator = loader.load_dataset_as_generator(metrics_files, target_metric_types={\n",
    "        \"containers\": True,\n",
    "        \"services\": True,\n",
    "        \"nodes\": True,\n",
    "        \"middlewares\": True,\n",
    "    },\n",
    "    num_datapoints=120,\n",
    ")\n",
    "records = [r for rec in dataset_generator for r in rec]"
   ]
  },
  {
   "cell_type": "code",
   "execution_count": 5,
   "metadata": {},
   "outputs": [],
   "source": [
    "import networkx as nx\n",
    "from multiprocessing import cpu_count"
   ]
  },
  {
   "cell_type": "code",
   "execution_count": 6,
   "metadata": {},
   "outputs": [],
   "source": [
    "record_and_reduced_df: list = []\n",
    "for record in records:\n",
    "    # run tsdr\n",
    "    reducer = tsdr.Tsdr(\"residual_integral\", **{\n",
    "        \"step1_residual_integral_threshold\": 20,\n",
    "        \"step1_residual_integral_change_start_point\": False,\n",
    "        \"step1_residual_integral_change_start_point_n_sigma\": 3,\n",
    "        \"step2_clustering_method_name\": \"dbscan\",\n",
    "        \"step2_dbscan_min_pts\": 2,\n",
    "        \"step2_dbscan_dist_type\": 'sbd',\n",
    "        \"step2_dbscan_algorithm\": 'hdbscan',\n",
    "        \"step2_clustering_series_type\": 'raw',\n",
    "        \"step2_clustering_choice_method\": 'medoid',\n",
    "    })\n",
    "    tsdr_stat, clustering_info, anomaly_points = reducer.run(\n",
    "        X=record.data_df,\n",
    "        pk=record.pk,\n",
    "        max_workers=cpu_count(),\n",
    "    )\n",
    "    reduced_df = tsdr_stat[-1][0]\n",
    "    no_clustering_reduced_df = tsdr_stat[-2][0]\n",
    "    record_and_reduced_df.append((record, reduced_df, no_clustering_reduced_df))"
   ]
  },
  {
   "cell_type": "code",
   "execution_count": 7,
   "metadata": {},
   "outputs": [],
   "source": [
    "from itertools import combinations\n",
    "import diagnoser.metric_node as mn\n",
    "\n",
    "def fisher_z(dm, cm, x, y) -> float:\n",
    "    m = dm.shape[0]\n",
    "    r = cm[x, y]\n",
    "    if 1 - r == 0. or 1 + r == 0.:\n",
    "        r = 1 - 1e-10\n",
    "    zstat = np.sqrt(m - 3) * 0.5 * np.log((1 + r) / (1 - r))\n",
    "    p_val = 2.0 * scipy.stats.norm.sf(np.absolute(zstat))\n",
    "    return p_val\n",
    "\n",
    "def build_wudg(pk, data_df: pd.DataFrame, init_graph_type=\"complete\") -> nx.Graph:\n",
    "    nodes = mn.MetricNodes.from_dataframe(data_df)\n",
    "    g: nx.Graph\n",
    "    match init_graph_type:\n",
    "        case \"complete\":\n",
    "            g = nx.Graph()\n",
    "            for (u, v) in combinations(nodes, 2):\n",
    "                g.add_edge(u, v)\n",
    "        case \"nw_call\":\n",
    "            g = diag.prepare_init_graph(nodes, pk)\n",
    "        case _:\n",
    "            assert False, f\"Unknown init_graph_type: {init_graph_type}\"\n",
    "\n",
    "    dm = data_df.to_numpy()\n",
    "    cm = np.corrcoef(dm.T)\n",
    "    _g = nx.relabel_nodes(g, mapping=nodes.node_to_num)\n",
    "    for (u, v) in _g.edges:\n",
    "        p_val = fisher_z(dm, cm, u, v)\n",
    "        _g[u][v]['weight'] = 1 / p_val if p_val != 0.0 else sys.float_info.max\n",
    "\n",
    "    return nx.relabel_nodes(_g, mapping=nodes.num_to_node)"
   ]
  },
  {
   "cell_type": "code",
   "execution_count": 8,
   "metadata": {},
   "outputs": [
    {
     "name": "stderr",
     "output_type": "stream",
     "text": [
      "/tmp/ipykernel_417947/717067231.py:31: RuntimeWarning: overflow encountered in double_scalars\n",
      "  _g[u][v]['weight'] = 1 / p_val if p_val != 0.0 else sys.float_info.max\n"
     ]
    }
   ],
   "source": [
    "record, reduced_df, no_clustering_reduced_df = record_and_reduced_df[1]\n",
    "WUDG = build_wudg(record.pk, reduced_df)"
   ]
  },
  {
   "cell_type": "code",
   "execution_count": 9,
   "metadata": {},
   "outputs": [],
   "source": [
    "def nx_draw(graph: nx.Graph, ax):\n",
    "    pos=nx.spring_layout(graph, weight=None)\n",
    "    nx.draw_networkx(graph, pos=pos, ax=ax, font_size=8, node_size=150)\n",
    "    elabels = nx.get_edge_attributes(graph, 'weight')\n",
    "    for k, weight in elabels.items():\n",
    "        elabels[k] = f\"{weight:.2g}\"\n",
    "    nx.draw_networkx_edge_labels(graph, pos=pos, ax=ax, edge_labels=elabels, font_size=6)\n",
    "\n",
    "def draw_by_graph(graphs: list[nx.Graph], suptitle: str):\n",
    "    fig = plt.figure(1, figsize=(20, 20))\n",
    "    fig.suptitle(suptitle)\n",
    "    axs = fig.subplots(3, 2).flatten()\n",
    "\n",
    "    for ax, g in zip(axs, sorted(graphs, key=lambda g: len(g.nodes), reverse=True)[:5]):\n",
    "        pr = nx.pagerank(g, alpha=0.85) # default\n",
    "        display(sorted(pr.items(), reverse=True, key=lambda x: x[1])[:5])\n",
    "        nx_draw(g, ax)\n",
    "\n",
    "# for suptitle, graphs in ((\"Root contained graph\", root_contained_g), (\"Root uncontained graph\", root_uncontained_g)):\n",
    "#     draw_by_graph(graphs, suptitle)"
   ]
  },
  {
   "cell_type": "code",
   "execution_count": 10,
   "metadata": {},
   "outputs": [
    {
     "name": "stderr",
     "output_type": "stream",
     "text": [
      "/home/ubuntu/src/github.com/ai4sre/meltria-analyzer/.venv/lib/python3.10/site-packages/scipy/sparse/_compressed.py:646: RuntimeWarning: overflow encountered in reduceat\n",
      "  value = ufunc.reduceat(data,\n"
     ]
    },
    {
     "data": {
      "text/plain": [
       "[(n-gke-train-ticket-01-default-pool-9df6151e-kng0_softnet_processed_total,\n",
       "  0.022520559703925785),\n",
       " (m-ts-travel2-mongo_mongodb_top_readLock_count, 0.020104584436420745),\n",
       " (m-ts-basic-service_java_lang_OperatingSystem_CommittedVirtualMemorySize,\n",
       "  0.01613403227843816),\n",
       " (m-ts-order-service_java_lang_ClassLoading_LoadedClassCount,\n",
       "  0.015116026903206459),\n",
       " (m-ts-ui-dashboard_nginx_http_request_size_bytes, 0.013549341431549348),\n",
       " (m-ts-route-mongo_mongodb_top_readLock_count, 0.013383501275371882),\n",
       " (m-ts-ticket-office-mongo_mongodb_ss_wt_data_handle_session_sweep_attempts,\n",
       "  0.011685411924610251),\n",
       " (m-ts-config-mongo_mongodb_top_readLock_count, 0.011555659456976959),\n",
       " (s-ts-price_requests_count, 0.011140901910405244),\n",
       " (m-ts-consign-mongo_mongodb_dbstats_indexSize, 0.010487491930990325),\n",
       " (m-ts-admin-basic-info-service_java_lang_Tenured_Gen_PeakUsage_used,\n",
       "  0.009081534333243034),\n",
       " (m-ts-admin-travel-service_java_lang_MemoryPool_PeakUsage_used,\n",
       "  0.008682658745164471),\n",
       " (m-ts-contacts-mongo_mongodb_sys_netstat_TcpExt_TCPSackShiftFallback,\n",
       "  0.008062252272546486),\n",
       " (m-ts-station-service_java_nio_BufferPool_Count, 0.0075968521155791915),\n",
       " (c-ts-travel2-service_cpu_cfs_throttled_seconds_total, 0.00736513344224225)]"
      ]
     },
     "metadata": {},
     "output_type": "display_data"
    }
   ],
   "source": [
    "pr = nx.pagerank(WUDG, alpha=0.85) # default\n",
    "display(sorted(pr.items(), reverse=True, key=lambda x: x[1])[:15])"
   ]
  },
  {
   "cell_type": "markdown",
   "metadata": {},
   "source": [
    "## Evaluate by AC@k and AVG@k"
   ]
  },
  {
   "cell_type": "code",
   "execution_count": 11,
   "metadata": {},
   "outputs": [],
   "source": [
    "from eval import groundtruth"
   ]
  },
  {
   "cell_type": "code",
   "execution_count": 12,
   "metadata": {},
   "outputs": [
    {
     "data": {
      "text/plain": [
       "True"
      ]
     },
     "metadata": {},
     "output_type": "display_data"
    },
    {
     "data": {
      "text/plain": [
       "'no:314'"
      ]
     },
     "metadata": {},
     "output_type": "display_data"
    },
    {
     "data": {
      "text/plain": [
       "c-ts-train-mongo_network_receive_bytes_total"
      ]
     },
     "metadata": {},
     "output_type": "display_data"
    },
    {
     "data": {
      "image/png": "[encoded data removed]",
      "text/plain": [
       "<Figure size 640x480 with 1 Axes>"
      ]
     },
     "metadata": {},
     "output_type": "display_data"
    }
   ],
   "source": [
    "pr: dict[str, float] = nx.pagerank(WUDG, alpha=0.85) # default\n",
    "ranked_metric_to_score: list[tuple[mn.MetricNode, float]] = sorted(pr.items(), reverse=True, key=lambda x: x[1])\n",
    "ranked_metrics = mn.MetricNodes.from_list_of_metric_node([m for m, _ in ranked_metric_to_score])\n",
    "ok, cause_metrics = groundtruth.check_cause_metrics(\n",
    "    record.pk, ranked_metrics, chaos_type=record.chaos_type(), chaos_comp=record.chaos_comp(),\n",
    ")\n",
    "display(ok)\n",
    "for cm in cause_metrics:\n",
    "    display(f\"no:{list(ranked_metrics).index(cm)}\", cm)\n",
    "    plt.plot(reduced_df[str(cm)].to_numpy())"
   ]
  },
  {
   "cell_type": "markdown",
   "metadata": {},
   "source": [
    "## All fault cases"
   ]
  },
  {
   "cell_type": "code",
   "execution_count": 13,
   "metadata": {},
   "outputs": [],
   "source": [
    "from meltria import loader\n",
    "\n",
    "metrics_files = !find /datasets/argowf-chaos-rq54b/ -type f -name \"*.json\"\n",
    "dataset_generator = loader.load_dataset_as_generator(metrics_files, target_metric_types={\n",
    "        \"containers\": True,\n",
    "        \"services\": True,\n",
    "        \"nodes\": True,\n",
    "        \"middlewares\": True,\n",
    "    },\n",
    "    num_datapoints=120,\n",
    ")\n",
    "records = [r for rec in dataset_generator for r in rec]"
   ]
  },
  {
   "cell_type": "code",
   "execution_count": 14,
   "metadata": {},
   "outputs": [],
   "source": [
    "record_and_reduced_df: list = []\n",
    "for record in records:\n",
    "    # run tsdr\n",
    "    reducer = tsdr.Tsdr(\"residual_integral\", **{\n",
    "        \"step1_residual_integral_threshold\": 20,\n",
    "        \"step1_residual_integral_change_start_point\": False,\n",
    "        \"step1_residual_integral_change_start_point_n_sigma\": 3,\n",
    "        \"step2_clustering_method_name\": \"dbscan\",\n",
    "        \"step2_dbscan_min_pts\": 2,\n",
    "        \"step2_dbscan_dist_type\": 'sbd',\n",
    "        \"step2_dbscan_algorithm\": 'hdbscan',\n",
    "        \"step2_clustering_series_type\": 'raw',\n",
    "        \"step2_clustering_choice_method\": 'medoid',\n",
    "    })\n",
    "    tsdr_stat, clustering_info, anomaly_points = reducer.run(\n",
    "        X=record.data_df,\n",
    "        pk=record.pk,\n",
    "        max_workers=cpu_count(),\n",
    "    )\n",
    "    reduced_df = tsdr_stat[-1][0]\n",
    "    no_clustering_reduced_df = tsdr_stat[-2][0]\n",
    "    record_and_reduced_df.append((record, reduced_df, no_clustering_reduced_df))"
   ]
  },
  {
   "cell_type": "code",
   "execution_count": 15,
   "metadata": {},
   "outputs": [
    {
     "name": "stderr",
     "output_type": "stream",
     "text": [
      "/tmp/ipykernel_417947/717067231.py:31: RuntimeWarning: overflow encountered in double_scalars\n",
      "/tmp/ipykernel_417947/717067231.py:31: RuntimeWarning: overflow encountered in double_scalars\n",
      "/tmp/ipykernel_417947/717067231.py:31: RuntimeWarning: overflow encountered in double_scalars\n",
      "/tmp/ipykernel_417947/717067231.py:31: RuntimeWarning: overflow encountered in double_scalars\n",
      "/tmp/ipykernel_417947/717067231.py:31: RuntimeWarning: overflow encountered in double_scalars\n",
      "/tmp/ipykernel_417947/717067231.py:31: RuntimeWarning: overflow encountered in double_scalars\n",
      "/tmp/ipykernel_417947/717067231.py:31: RuntimeWarning: overflow encountered in double_scalars\n",
      "/tmp/ipykernel_417947/717067231.py:31: RuntimeWarning: overflow encountered in double_scalars\n",
      "/tmp/ipykernel_417947/717067231.py:31: RuntimeWarning: overflow encountered in double_scalars\n",
      "/tmp/ipykernel_417947/717067231.py:31: RuntimeWarning: overflow encountered in double_scalars\n",
      "/tmp/ipykernel_417947/717067231.py:31: RuntimeWarning: overflow encountered in double_scalars\n",
      "/tmp/ipykernel_417947/717067231.py:31: RuntimeWarning: overflow encountered in double_scalars\n",
      "/tmp/ipykernel_417947/717067231.py:31: RuntimeWarning: overflow encountered in double_scalars\n",
      "/tmp/ipykernel_417947/717067231.py:31: RuntimeWarning: overflow encountered in double_scalars\n",
      "/tmp/ipykernel_417947/717067231.py:31: RuntimeWarning: overflow encountered in double_scalars\n",
      "/tmp/ipykernel_417947/717067231.py:31: RuntimeWarning: overflow encountered in double_scalars\n",
      "/tmp/ipykernel_417947/717067231.py:31: RuntimeWarning: overflow encountered in double_scalars\n",
      "/tmp/ipykernel_417947/717067231.py:31: RuntimeWarning: overflow encountered in double_scalars\n",
      "/tmp/ipykernel_417947/717067231.py:31: RuntimeWarning: overflow encountered in double_scalars\n",
      "/tmp/ipykernel_417947/717067231.py:31: RuntimeWarning: overflow encountered in double_scalars\n",
      "/tmp/ipykernel_417947/717067231.py:31: RuntimeWarning: overflow encountered in double_scalars\n",
      "/tmp/ipykernel_417947/717067231.py:31: RuntimeWarning: overflow encountered in double_scalars\n",
      "/tmp/ipykernel_417947/717067231.py:31: RuntimeWarning: overflow encountered in double_scalars\n",
      "/tmp/ipykernel_417947/717067231.py:31: RuntimeWarning: overflow encountered in double_scalars\n",
      "/tmp/ipykernel_417947/717067231.py:31: RuntimeWarning: overflow encountered in double_scalars\n",
      "/tmp/ipykernel_417947/717067231.py:31: RuntimeWarning: overflow encountered in double_scalars\n",
      "/tmp/ipykernel_417947/717067231.py:31: RuntimeWarning: overflow encountered in double_scalars\n",
      "/tmp/ipykernel_417947/717067231.py:31: RuntimeWarning: overflow encountered in double_scalars\n",
      "/tmp/ipykernel_417947/717067231.py:31: RuntimeWarning: overflow encountered in double_scalars\n",
      "/tmp/ipykernel_417947/717067231.py:31: RuntimeWarning: overflow encountered in double_scalars\n",
      "/tmp/ipykernel_417947/717067231.py:31: RuntimeWarning: overflow encountered in double_scalars\n",
      "/tmp/ipykernel_417947/717067231.py:31: RuntimeWarning: overflow encountered in double_scalars\n",
      "/tmp/ipykernel_417947/717067231.py:31: RuntimeWarning: overflow encountered in double_scalars\n",
      "/tmp/ipykernel_417947/717067231.py:31: RuntimeWarning: overflow encountered in double_scalars\n",
      "/tmp/ipykernel_417947/717067231.py:31: RuntimeWarning: overflow encountered in double_scalars\n",
      "/tmp/ipykernel_417947/717067231.py:31: RuntimeWarning: overflow encountered in double_scalars\n",
      "/tmp/ipykernel_417947/717067231.py:31: RuntimeWarning: overflow encountered in double_scalars\n",
      "/tmp/ipykernel_417947/717067231.py:31: RuntimeWarning: overflow encountered in double_scalars\n",
      "/tmp/ipykernel_417947/717067231.py:31: RuntimeWarning: overflow encountered in double_scalars\n",
      "/tmp/ipykernel_417947/717067231.py:31: RuntimeWarning: overflow encountered in double_scalars\n",
      "/tmp/ipykernel_417947/717067231.py:31: RuntimeWarning: overflow encountered in double_scalars\n",
      "/tmp/ipykernel_417947/717067231.py:31: RuntimeWarning: overflow encountered in double_scalars\n",
      "/tmp/ipykernel_417947/717067231.py:31: RuntimeWarning: overflow encountered in double_scalars\n",
      "/tmp/ipykernel_417947/717067231.py:31: RuntimeWarning: overflow encountered in double_scalars\n",
      "/tmp/ipykernel_417947/717067231.py:31: RuntimeWarning: overflow encountered in double_scalars\n",
      "/tmp/ipykernel_417947/717067231.py:31: RuntimeWarning: overflow encountered in double_scalars\n",
      "/tmp/ipykernel_417947/717067231.py:31: RuntimeWarning: overflow encountered in double_scalars\n",
      "/tmp/ipykernel_417947/717067231.py:31: RuntimeWarning: overflow encountered in double_scalars\n",
      "/tmp/ipykernel_417947/717067231.py:31: RuntimeWarning: overflow encountered in double_scalars\n",
      "/tmp/ipykernel_417947/717067231.py:31: RuntimeWarning: overflow encountered in double_scalars\n",
      "/tmp/ipykernel_417947/717067231.py:31: RuntimeWarning: overflow encountered in double_scalars\n",
      "/tmp/ipykernel_417947/717067231.py:31: RuntimeWarning: overflow encountered in double_scalars\n",
      "/tmp/ipykernel_417947/717067231.py:31: RuntimeWarning: overflow encountered in double_scalars\n",
      "/tmp/ipykernel_417947/717067231.py:31: RuntimeWarning: overflow encountered in double_scalars\n",
      "/tmp/ipykernel_417947/717067231.py:31: RuntimeWarning: overflow encountered in double_scalars\n",
      "/tmp/ipykernel_417947/717067231.py:31: RuntimeWarning: overflow encountered in double_scalars\n",
      "/tmp/ipykernel_417947/717067231.py:31: RuntimeWarning: overflow encountered in double_scalars\n",
      "/tmp/ipykernel_417947/717067231.py:31: RuntimeWarning: overflow encountered in double_scalars\n",
      "/tmp/ipykernel_417947/717067231.py:31: RuntimeWarning: overflow encountered in double_scalars\n",
      "/tmp/ipykernel_417947/717067231.py:31: RuntimeWarning: overflow encountered in double_scalars\n",
      "/tmp/ipykernel_417947/717067231.py:31: RuntimeWarning: overflow encountered in double_scalars\n",
      "/tmp/ipykernel_417947/717067231.py:31: RuntimeWarning: overflow encountered in double_scalars\n",
      "/tmp/ipykernel_417947/717067231.py:31: RuntimeWarning: overflow encountered in double_scalars\n",
      "/tmp/ipykernel_417947/717067231.py:31: RuntimeWarning: overflow encountered in double_scalars\n",
      "/tmp/ipykernel_417947/717067231.py:31: RuntimeWarning: overflow encountered in double_scalars\n",
      "/tmp/ipykernel_417947/717067231.py:31: RuntimeWarning: overflow encountered in double_scalars\n",
      "/tmp/ipykernel_417947/717067231.py:31: RuntimeWarning: overflow encountered in double_scalars\n",
      "/tmp/ipykernel_417947/717067231.py:31: RuntimeWarning: overflow encountered in double_scalars\n",
      "/tmp/ipykernel_417947/717067231.py:31: RuntimeWarning: overflow encountered in double_scalars\n",
      "/tmp/ipykernel_417947/717067231.py:31: RuntimeWarning: overflow encountered in double_scalars\n",
      "/tmp/ipykernel_417947/717067231.py:31: RuntimeWarning: overflow encountered in double_scalars\n",
      "/tmp/ipykernel_417947/717067231.py:31: RuntimeWarning: overflow encountered in double_scalars\n",
      "/tmp/ipykernel_417947/717067231.py:31: RuntimeWarning: overflow encountered in double_scalars\n",
      "/tmp/ipykernel_417947/717067231.py:31: RuntimeWarning: overflow encountered in double_scalars\n",
      "/tmp/ipykernel_417947/717067231.py:31: RuntimeWarning: overflow encountered in double_scalars\n",
      "/tmp/ipykernel_417947/717067231.py:31: RuntimeWarning: overflow encountered in double_scalars\n",
      "/tmp/ipykernel_417947/717067231.py:31: RuntimeWarning: overflow encountered in double_scalars\n"
     ]
    }
   ],
   "source": [
    "# parallelize\n",
    "import joblib\n",
    "\n",
    "wudgs: list[tuple[nx.Graph, loader.DatasetRecord, pd.DataFrame, pd.DataFrame]]\n",
    "wudgs = joblib.Parallel(n_jobs=-1)(joblib.delayed(build_wudg)(record.pk, reduced_df) for record, reduced_df, no_clustering_reduced_df in record_and_reduced_df)"
   ]
  },
  {
   "cell_type": "code",
   "execution_count": 16,
   "metadata": {},
   "outputs": [
    {
     "name": "stderr",
     "output_type": "stream",
     "text": [
      "/home/ubuntu/src/github.com/ai4sre/meltria-analyzer/.venv/lib/python3.10/site-packages/scipy/sparse/_compressed.py:646: RuntimeWarning: overflow encountered in reduceat\n",
      "  value = ufunc.reduceat(data,\n",
      "/home/ubuntu/src/github.com/ai4sre/meltria-analyzer/.venv/lib/python3.10/site-packages/scipy/sparse/_compressed.py:646: RuntimeWarning: overflow encountered in reduceat\n",
      "  value = ufunc.reduceat(data,\n",
      "/home/ubuntu/src/github.com/ai4sre/meltria-analyzer/.venv/lib/python3.10/site-packages/scipy/sparse/_compressed.py:646: RuntimeWarning: overflow encountered in reduceat\n",
      "  value = ufunc.reduceat(data,\n",
      "/home/ubuntu/src/github.com/ai4sre/meltria-analyzer/.venv/lib/python3.10/site-packages/scipy/sparse/_compressed.py:646: RuntimeWarning: overflow encountered in reduceat\n",
      "  value = ufunc.reduceat(data,\n",
      "/home/ubuntu/src/github.com/ai4sre/meltria-analyzer/.venv/lib/python3.10/site-packages/scipy/sparse/_compressed.py:646: RuntimeWarning: overflow encountered in reduceat\n",
      "  value = ufunc.reduceat(data,\n",
      "/home/ubuntu/src/github.com/ai4sre/meltria-analyzer/.venv/lib/python3.10/site-packages/scipy/sparse/_compressed.py:646: RuntimeWarning: overflow encountered in reduceat\n",
      "  value = ufunc.reduceat(data,\n",
      "/home/ubuntu/src/github.com/ai4sre/meltria-analyzer/.venv/lib/python3.10/site-packages/scipy/sparse/_compressed.py:646: RuntimeWarning: overflow encountered in reduceat\n",
      "  value = ufunc.reduceat(data,\n",
      "/home/ubuntu/src/github.com/ai4sre/meltria-analyzer/.venv/lib/python3.10/site-packages/scipy/sparse/_compressed.py:646: RuntimeWarning: overflow encountered in reduceat\n",
      "  value = ufunc.reduceat(data,\n",
      "/home/ubuntu/src/github.com/ai4sre/meltria-analyzer/.venv/lib/python3.10/site-packages/scipy/sparse/_compressed.py:646: RuntimeWarning: overflow encountered in reduceat\n",
      "  value = ufunc.reduceat(data,\n",
      "/home/ubuntu/src/github.com/ai4sre/meltria-analyzer/.venv/lib/python3.10/site-packages/scipy/sparse/_compressed.py:646: RuntimeWarning: overflow encountered in reduceat\n",
      "  value = ufunc.reduceat(data,\n"
     ]
    }
   ],
   "source": [
    "import joblib\n",
    "\n",
    "prs: list[tuple[dict, loader.DatasetRecord, pd.DataFrame, pd.DataFrame]] = []\n",
    "prs = joblib.Parallel(n_jobs=-1)(joblib.delayed(nx.pagerank)(wudg, alpha=0.85) for wudg in wudgs)"
   ]
  },
  {
   "cell_type": "code",
   "execution_count": 17,
   "metadata": {},
   "outputs": [],
   "source": [
    "from eval import validation\n",
    "\n",
    "def check_validate_record(record) -> bool:\n",
    "    return validation.check_valid_dataset(\n",
    "        record, labbeling={\"n_sigma_rule\": {\"n_sigmas\": [2, 3]}}, fault_inject_time_index=99)"
   ]
  },
  {
   "cell_type": "code",
   "execution_count": 18,
   "metadata": {},
   "outputs": [
    {
     "name": "stdout",
     "output_type": "stream",
     "text": [
      "77 77\n",
      "rank: 394, ts-preserve-service/pod-network-loss/0\n",
      "rank: 309, ts-train-mongo/pod-network-loss/0\n",
      "rank: 134, ts-price-service/pod-memory-hog/0\n",
      "rank: 14, ts-travel-service/pod-cpu-hog/0\n",
      "rank: 272, ts-auth-mongo/pod-memory-hog/0\n",
      "rank: 6, ts-train-service/pod-memory-hog/0\n",
      "rank: 3, ts-order-service/pod-cpu-hog/0\n",
      "rank: 24, ts-auth-mongo/pod-cpu-hog/0\n",
      "rank: 59, ts-basic-service/pod-cpu-hog/0\n",
      "rank: 282, ts-train-mongo/pod-memory-hog/0\n",
      "rank: 99, ts-preserve-service/pod-cpu-hog/0\n",
      "rank: 348, ts-food-mongo/pod-cpu-hog/0\n",
      "rank: 34, ts-price-mongo/pod-cpu-hog/0\n",
      "rank: 368, ts-order-service/pod-network-loss/0\n",
      "rank: 79, ts-station-service/pod-memory-hog/0\n",
      "rank: 408, ts-travel2-service/pod-network-loss/0\n",
      "rank: 364, ts-food-mongo/pod-network-loss/0\n",
      "rank: 5, ts-food-service/pod-memory-hog/0\n",
      "rank: 150, ts-travel2-service/pod-memory-hog/0\n",
      "rank: 10, ts-cancel-service/pod-memory-hog/0\n",
      "rank: 59, ts-payment-mongo/pod-cpu-hog/0\n",
      "rank: 15, ts-basic-service/pod-memory-hog/0\n",
      "rank: 366, ts-price-service/pod-network-loss/0\n",
      "rank: 402, ts-travel2-mongo/pod-network-loss/0\n",
      "rank: 343, ts-station-service/pod-cpu-hog/0\n",
      "rank: 399, ts-auth-service/pod-cpu-hog/0\n",
      "rank: 48, ts-consign-mongo/pod-memory-hog/0\n",
      "rank: 123, ts-station-mongo/pod-memory-hog/0\n",
      "rank: 355, ts-station-mongo/pod-network-loss/0\n",
      "rank: 258, ts-travel2-service/pod-cpu-hog/0\n",
      "rank: 256, ts-order-mongo/pod-network-loss/0\n",
      "rank: 24, ts-price-mongo/pod-memory-hog/0\n",
      "no cause metrics: ts-user-mongo/pod-network-loss/0\n",
      "rank: 481, ts-consign-service/pod-cpu-hog/0\n",
      "rank: 98, ts-payment-service/pod-cpu-hog/0\n",
      "rank: 73, ts-train-mongo/pod-cpu-hog/0\n",
      "rank: 384, ts-travel-service/pod-network-loss/0\n",
      "rank: 273, ts-user-mongo/pod-cpu-hog/0\n",
      "no cause metrics: ts-food-mongo/pod-memory-hog/0\n",
      "rank: 8, ts-order-service/pod-memory-hog/0\n",
      "rank: 411, ts-station-mongo/pod-cpu-hog/0\n",
      "rank: 265, ts-travel-mongo/pod-cpu-hog/0\n",
      "rank: 217, ts-order-mongo/pod-cpu-hog/0\n",
      "rank: 851, ts-train-service/pod-network-loss/0\n",
      "rank: 434, ts-price-mongo/pod-network-loss/0\n",
      "rank: 78, ts-payment-mongo/pod-memory-hog/0\n",
      "rank: 257, ts-order-mongo/pod-memory-hog/0\n",
      "rank: 416, ts-order-other-service/pod-network-loss/0\n",
      "rank: 218, ts-price-service/pod-cpu-hog/0\n",
      "rank: 54, ts-preserve-service/pod-memory-hog/0\n",
      "rank: 411, ts-payment-service/pod-network-loss/0\n",
      "rank: 368, ts-consign-service/pod-network-loss/0\n",
      "no cause metrics: ts-cancel-service/pod-network-loss/0\n",
      "rank: 10, ts-travel-service/pod-memory-hog/0\n",
      "rank: 350, ts-consign-mongo/pod-network-loss/0\n",
      "rank: 15, ts-consign-service/pod-memory-hog/0\n",
      "no cause metrics: ts-food-service/pod-network-loss/0\n",
      "rank: 1, ts-train-service/pod-cpu-hog/0\n",
      "rank: 11, ts-user-service/pod-memory-hog/0\n",
      "rank: 379, ts-auth-service/pod-network-loss/0\n",
      "rank: 384, ts-basic-service/pod-network-loss/0\n",
      "rank: 8, ts-food-service/pod-cpu-hog/0\n",
      "rank: 178, ts-station-service/pod-network-loss/0\n",
      "rank: 150, ts-auth-service/pod-memory-hog/0\n",
      "rank: 45, ts-consign-mongo/pod-cpu-hog/0\n",
      "rank: 9, ts-travel2-mongo/pod-cpu-hog/0\n",
      "rank: 348, ts-auth-mongo/pod-network-loss/0\n",
      "rank: 156, ts-order-other-service/pod-cpu-hog/0\n",
      "rank: 52, ts-order-other-service/pod-memory-hog/0\n",
      "rank: 440, ts-travel-mongo/pod-network-loss/0\n",
      "rank: 367, ts-user-mongo/pod-memory-hog/0\n",
      "rank: 40, ts-payment-service/pod-memory-hog/0\n",
      "rank: 366, ts-travel2-mongo/pod-memory-hog/0\n",
      "rank: 267, ts-cancel-service/pod-cpu-hog/0\n",
      "rank: 208, ts-travel-mongo/pod-memory-hog/0\n",
      "no cause metrics: ts-payment-mongo/pod-network-loss/0\n",
      "rank: 336, ts-user-service/pod-network-loss/0\n"
     ]
    },
    {
     "data": {
      "text/plain": [
       "'AC@K'"
      ]
     },
     "metadata": {},
     "output_type": "display_data"
    },
    {
     "data": {
      "text/plain": [
       "{1: 0.012987012987012988,\n",
       " 2: 0.012987012987012988,\n",
       " 3: 0.025974025974025976,\n",
       " 4: 0.025974025974025976,\n",
       " 5: 0.03896103896103896,\n",
       " 6: 0.05194805194805195,\n",
       " 7: 0.05194805194805195,\n",
       " 8: 0.07792207792207792,\n",
       " 9: 0.09090909090909091,\n",
       " 10: 0.11688311688311688}"
      ]
     },
     "metadata": {},
     "output_type": "display_data"
    },
    {
     "data": {
      "text/plain": [
       "'AVG@k'"
      ]
     },
     "metadata": {},
     "output_type": "display_data"
    },
    {
     "data": {
      "text/plain": [
       "{1: 0.012987012987012988,\n",
       " 2: 0.012987012987012988,\n",
       " 3: 0.017316017316017316,\n",
       " 4: 0.01948051948051948,\n",
       " 5: 0.023376623376623377,\n",
       " 6: 0.02813852813852814,\n",
       " 7: 0.03153988868274583,\n",
       " 8: 0.037337662337662336,\n",
       " 9: 0.043290043290043295,\n",
       " 10: 0.05064935064935065}"
      ]
     },
     "metadata": {},
     "output_type": "display_data"
    }
   ],
   "source": [
    "from itertools import chain\n",
    "\n",
    "anomaly_case_sizes = len(prs)\n",
    "top_k_set = range(1, 11)\n",
    "ac_k: dict[int, float] = {k: 0.0 for k in top_k_set}\n",
    "rank_by_case: dict[str, list[int]] = defaultdict(list)\n",
    "print(len(prs), len(record_and_reduced_df))\n",
    "for pr, (record, reduced_df, non_clustering_reduced_df) in zip(prs, record_and_reduced_df):\n",
    "    ranked_metric_to_score: list[tuple[mn.MetricNode, float]] = sorted(pr.items(), reverse=True, key=lambda x: x[1])\n",
    "    ranked_metrics = mn.MetricNodes.from_list_of_metric_node([m for m, _ in ranked_metric_to_score])\n",
    "    _, cause_metrics = groundtruth.check_cause_metrics(\n",
    "        record.pk, ranked_metrics, chaos_type=record.chaos_type(), chaos_comp=record.chaos_comp(),\n",
    "    )\n",
    "    if len(cause_metrics) == 0:\n",
    "        print(f\"no cause metrics: {record.chaos_case_full()}\")\n",
    "        continue\n",
    "    rank: int = sorted([list(ranked_metrics).index(cm) for cm in cause_metrics])[0] + 1\n",
    "    print(f\"rank: {rank}, {record.chaos_case_full()}\")\n",
    "    rank_by_case[record.chaos_type()].append(rank)\n",
    "    # plt.plot(reduced_df[str(cm)].to_numpy())\n",
    "\n",
    "for k in top_k_set:\n",
    "    ac_k[k] = sum([1 if rank <= k else 0 for rank in chain.from_iterable(rank_by_case.values())]) / anomaly_case_sizes\n",
    "display(\"AC@K\", ac_k)\n",
    "\n",
    "avg_k = {}\n",
    "for k in top_k_set:\n",
    "    avg_k[k] = sum([ac_k[j] for j in range(1, k+1)]) / k\n",
    "display(\"AVG@k\", avg_k)"
   ]
  },
  {
   "cell_type": "markdown",
   "metadata": {},
   "source": [
    "### Evaluation with service granulally"
   ]
  },
  {
   "cell_type": "code",
   "execution_count": 19,
   "metadata": {},
   "outputs": [
    {
     "name": "stdout",
     "output_type": "stream",
     "text": [
      "77 77\n",
      "rank: 280, ts-preserve-service/pod-network-loss/0\n",
      "rank: 56, ts-train-mongo/pod-network-loss/0\n",
      "rank: 14, ts-price-service/pod-memory-hog/0\n",
      "rank: 12, ts-travel-service/pod-cpu-hog/0\n",
      "rank: 20, ts-auth-mongo/pod-memory-hog/0\n",
      "rank: 5, ts-train-service/pod-memory-hog/0\n",
      "rank: 1, ts-order-service/pod-cpu-hog/0\n",
      "rank: 24, ts-auth-mongo/pod-cpu-hog/0\n",
      "rank: 3, ts-basic-service/pod-cpu-hog/0\n",
      "rank: 3, ts-train-mongo/pod-memory-hog/0\n",
      "rank: 19, ts-preserve-service/pod-cpu-hog/0\n",
      "rank: 1, ts-food-mongo/pod-cpu-hog/0\n",
      "rank: 34, ts-price-mongo/pod-cpu-hog/0\n",
      "rank: 15, ts-order-service/pod-network-loss/0\n",
      "rank: 3, ts-station-service/pod-memory-hog/0\n",
      "rank: 66, ts-travel2-service/pod-network-loss/0\n",
      "rank: 4, ts-food-mongo/pod-network-loss/0\n",
      "rank: 1, ts-food-service/pod-memory-hog/0\n",
      "rank: 5, ts-travel2-service/pod-memory-hog/0\n",
      "rank: 10, ts-cancel-service/pod-memory-hog/0\n",
      "rank: 53, ts-payment-mongo/pod-cpu-hog/0\n",
      "rank: 5, ts-basic-service/pod-memory-hog/0\n",
      "rank: 12, ts-price-service/pod-network-loss/0\n",
      "rank: 81, ts-travel2-mongo/pod-network-loss/0\n",
      "rank: 14, ts-station-service/pod-cpu-hog/0\n",
      "rank: 6, ts-auth-service/pod-cpu-hog/0\n",
      "rank: 3, ts-consign-mongo/pod-memory-hog/0\n",
      "rank: 9, ts-station-mongo/pod-memory-hog/0\n",
      "rank: 238, ts-station-mongo/pod-network-loss/0\n",
      "rank: 43, ts-travel2-service/pod-cpu-hog/0\n",
      "rank: 11, ts-order-mongo/pod-network-loss/0\n",
      "rank: 24, ts-price-mongo/pod-memory-hog/0\n",
      "rank: 35, ts-user-mongo/pod-network-loss/0\n",
      "rank: 27, ts-consign-service/pod-cpu-hog/0\n",
      "rank: 5, ts-payment-service/pod-cpu-hog/0\n",
      "rank: 34, ts-train-mongo/pod-cpu-hog/0\n",
      "rank: 13, ts-travel-service/pod-network-loss/0\n",
      "rank: 17, ts-user-mongo/pod-cpu-hog/0\n",
      "rank: 6, ts-food-mongo/pod-memory-hog/0\n",
      "rank: 3, ts-order-service/pod-memory-hog/0\n",
      "rank: 31, ts-station-mongo/pod-cpu-hog/0\n",
      "rank: 8, ts-travel-mongo/pod-cpu-hog/0\n",
      "rank: 10, ts-order-mongo/pod-cpu-hog/0\n",
      "rank: 3, ts-train-service/pod-network-loss/0\n",
      "rank: 13, ts-price-mongo/pod-network-loss/0\n",
      "rank: 1, ts-payment-mongo/pod-memory-hog/0\n",
      "rank: 23, ts-order-mongo/pod-memory-hog/0\n",
      "rank: 6, ts-order-other-service/pod-network-loss/0\n",
      "rank: 24, ts-price-service/pod-cpu-hog/0\n",
      "rank: 21, ts-preserve-service/pod-memory-hog/0\n",
      "rank: 8, ts-payment-service/pod-network-loss/0\n",
      "rank: 31, ts-consign-service/pod-network-loss/0\n",
      "rank: 335, ts-cancel-service/pod-network-loss/0\n",
      "rank: 10, ts-travel-service/pod-memory-hog/0\n",
      "rank: 20, ts-consign-mongo/pod-network-loss/0\n",
      "rank: 14, ts-consign-service/pod-memory-hog/0\n",
      "rank: 1, ts-food-service/pod-network-loss/0\n",
      "rank: 1, ts-train-service/pod-cpu-hog/0\n",
      "rank: 11, ts-user-service/pod-memory-hog/0\n",
      "rank: 47, ts-auth-service/pod-network-loss/0\n",
      "rank: 92, ts-basic-service/pod-network-loss/0\n",
      "rank: 6, ts-food-service/pod-cpu-hog/0\n",
      "rank: 17, ts-station-service/pod-network-loss/0\n",
      "rank: 29, ts-auth-service/pod-memory-hog/0\n",
      "rank: 40, ts-consign-mongo/pod-cpu-hog/0\n",
      "rank: 6, ts-travel2-mongo/pod-cpu-hog/0\n",
      "rank: 1, ts-auth-mongo/pod-network-loss/0\n",
      "rank: 16, ts-order-other-service/pod-cpu-hog/0\n",
      "rank: 6, ts-order-other-service/pod-memory-hog/0\n",
      "rank: 19, ts-travel-mongo/pod-network-loss/0\n",
      "rank: 5, ts-user-mongo/pod-memory-hog/0\n",
      "rank: 11, ts-payment-service/pod-memory-hog/0\n",
      "rank: 15, ts-travel2-mongo/pod-memory-hog/0\n",
      "rank: 250, ts-cancel-service/pod-cpu-hog/0\n",
      "rank: 10, ts-travel-mongo/pod-memory-hog/0\n",
      "rank: 13, ts-payment-mongo/pod-network-loss/0\n",
      "rank: 18, ts-user-service/pod-network-loss/0\n"
     ]
    },
    {
     "data": {
      "text/plain": [
       "'AC@K'"
      ]
     },
     "metadata": {},
     "output_type": "display_data"
    },
    {
     "data": {
      "text/plain": [
       "{1: 0.09090909090909091,\n",
       " 2: 0.09090909090909091,\n",
       " 3: 0.16883116883116883,\n",
       " 4: 0.18181818181818182,\n",
       " 5: 0.24675324675324675,\n",
       " 6: 0.3246753246753247,\n",
       " 7: 0.3246753246753247,\n",
       " 8: 0.35064935064935066,\n",
       " 9: 0.36363636363636365,\n",
       " 10: 0.4155844155844156}"
      ]
     },
     "metadata": {},
     "output_type": "display_data"
    },
    {
     "data": {
      "text/plain": [
       "'AVG@k'"
      ]
     },
     "metadata": {},
     "output_type": "display_data"
    },
    {
     "data": {
      "text/plain": [
       "{1: 0.09090909090909091,\n",
       " 2: 0.09090909090909091,\n",
       " 3: 0.11688311688311688,\n",
       " 4: 0.13311688311688313,\n",
       " 5: 0.15584415584415584,\n",
       " 6: 0.183982683982684,\n",
       " 7: 0.20408163265306123,\n",
       " 8: 0.2224025974025974,\n",
       " 9: 0.23809523809523808,\n",
       " 10: 0.2558441558441559}"
      ]
     },
     "metadata": {},
     "output_type": "display_data"
    },
    {
     "data": {
      "text/plain": [
       "'pod-network-loss:AC@K'"
      ]
     },
     "metadata": {},
     "output_type": "display_data"
    },
    {
     "data": {
      "text/plain": [
       "{1: 0.07692307692307693,\n",
       " 2: 0.07692307692307693,\n",
       " 3: 0.11538461538461539,\n",
       " 4: 0.15384615384615385,\n",
       " 5: 0.15384615384615385,\n",
       " 6: 0.19230769230769232,\n",
       " 7: 0.19230769230769232,\n",
       " 8: 0.23076923076923078,\n",
       " 9: 0.23076923076923078,\n",
       " 10: 0.23076923076923078}"
      ]
     },
     "metadata": {},
     "output_type": "display_data"
    },
    {
     "data": {
      "text/plain": [
       "'pod-network-loss:AVG@K'"
      ]
     },
     "metadata": {},
     "output_type": "display_data"
    },
    {
     "data": {
      "text/plain": [
       "{1: 0.07692307692307693,\n",
       " 2: 0.07692307692307693,\n",
       " 3: 0.08974358974358976,\n",
       " 4: 0.10576923076923078,\n",
       " 5: 0.11538461538461539,\n",
       " 6: 0.12820512820512822,\n",
       " 7: 0.13736263736263737,\n",
       " 8: 0.14903846153846154,\n",
       " 9: 0.1581196581196581,\n",
       " 10: 0.1653846153846154}"
      ]
     },
     "metadata": {},
     "output_type": "display_data"
    },
    {
     "data": {
      "text/plain": [
       "'pod-memory-hog:AC@K'"
      ]
     },
     "metadata": {},
     "output_type": "display_data"
    },
    {
     "data": {
      "text/plain": [
       "{1: 0.07692307692307693,\n",
       " 2: 0.07692307692307693,\n",
       " 3: 0.23076923076923078,\n",
       " 4: 0.23076923076923078,\n",
       " 5: 0.38461538461538464,\n",
       " 6: 0.46153846153846156,\n",
       " 7: 0.46153846153846156,\n",
       " 8: 0.46153846153846156,\n",
       " 9: 0.5,\n",
       " 10: 0.6153846153846154}"
      ]
     },
     "metadata": {},
     "output_type": "display_data"
    },
    {
     "data": {
      "text/plain": [
       "'pod-memory-hog:AVG@K'"
      ]
     },
     "metadata": {},
     "output_type": "display_data"
    },
    {
     "data": {
      "text/plain": [
       "{1: 0.07692307692307693,\n",
       " 2: 0.07692307692307693,\n",
       " 3: 0.12820512820512822,\n",
       " 4: 0.15384615384615385,\n",
       " 5: 0.2,\n",
       " 6: 0.2435897435897436,\n",
       " 7: 0.27472527472527475,\n",
       " 8: 0.29807692307692313,\n",
       " 9: 0.32051282051282054,\n",
       " 10: 0.35000000000000003}"
      ]
     },
     "metadata": {},
     "output_type": "display_data"
    },
    {
     "data": {
      "text/plain": [
       "'pod-cpu-hog:AC@K'"
      ]
     },
     "metadata": {},
     "output_type": "display_data"
    },
    {
     "data": {
      "text/plain": [
       "{1: 0.12,\n",
       " 2: 0.12,\n",
       " 3: 0.16,\n",
       " 4: 0.16,\n",
       " 5: 0.2,\n",
       " 6: 0.32,\n",
       " 7: 0.32,\n",
       " 8: 0.36,\n",
       " 9: 0.36,\n",
       " 10: 0.4}"
      ]
     },
     "metadata": {},
     "output_type": "display_data"
    },
    {
     "data": {
      "text/plain": [
       "'pod-cpu-hog:AVG@K'"
      ]
     },
     "metadata": {},
     "output_type": "display_data"
    },
    {
     "data": {
      "text/plain": [
       "{1: 0.12,\n",
       " 2: 0.12,\n",
       " 3: 0.13333333333333333,\n",
       " 4: 0.14,\n",
       " 5: 0.152,\n",
       " 6: 0.18000000000000002,\n",
       " 7: 0.2,\n",
       " 8: 0.22000000000000003,\n",
       " 9: 0.23555555555555557,\n",
       " 10: 0.252}"
      ]
     },
     "metadata": {},
     "output_type": "display_data"
    }
   ],
   "source": [
    "from itertools import chain\n",
    "\n",
    "anomaly_case_sizes = len(prs)\n",
    "top_k_set = range(1, 11)\n",
    "ac_k: dict[int, float] = {k: 0.0 for k in top_k_set}\n",
    "rank_by_case: dict[str, list[int]] = defaultdict(list)\n",
    "print(len(prs), len(record_and_reduced_df))\n",
    "for pr, (record, reduced_df, non_clustering_reduced_df) in zip(prs, record_and_reduced_df):\n",
    "    chaos_service: str = record.chaos_comp().removesuffix(\"-service\").removesuffix(\"-mongo\")\n",
    "    ranked_metric_to_score: list[tuple[mn.MetricNode, float]] = sorted(pr.items(), reverse=True, key=lambda x: x[1])\n",
    "    rank: int = sorted([i+1 for i, (m, _) in enumerate(ranked_metric_to_score) if m.comp.startswith(chaos_service)])[0]\n",
    "    print(f\"rank: {rank}, {record.chaos_case_full()}\")\n",
    "    rank_by_case[record.chaos_type()].append(rank)\n",
    "    # plt.plot(reduced_df[str(cm)].to_numpy())\n",
    "\n",
    "for k in top_k_set:\n",
    "    ranks = chain.from_iterable(rank_by_case.values())\n",
    "    ac_k[k] = sum([1 if rank <= k else 0 for rank in ranks]) / anomaly_case_sizes\n",
    "display(\"AC@K\", ac_k)\n",
    "\n",
    "avg_k = {}\n",
    "for k in top_k_set:\n",
    "    avg_k[k] = sum([ac_k[j] for j in range(1, k+1)]) / k\n",
    "display(\"AVG@k\", avg_k)\n",
    "\n",
    "for case, ranks in rank_by_case.items():\n",
    "    _ac_k, _avg_k = {}, {}\n",
    "    for k in top_k_set:\n",
    "        _ac_k[k] = sum([1 if rank <= k else 0 for rank in ranks]) / len(ranks)\n",
    "        _avg_k[k] = sum([_ac_k[j] for j in range(1, k+1)]) / k\n",
    "    display(f\"{case}:AC@K\", _ac_k)\n",
    "    display(f\"{case}:AVG@K\", _avg_k)"
   ]
  },
  {
   "cell_type": "markdown",
   "metadata": {},
   "source": [
    "### WUDG with CI edge cut"
   ]
  },
  {
   "cell_type": "code",
   "execution_count": 20,
   "metadata": {},
   "outputs": [
    {
     "name": "stderr",
     "output_type": "stream",
     "text": [
      "/tmp/ipykernel_417947/717067231.py:31: RuntimeWarning: overflow encountered in double_scalars\n",
      "/tmp/ipykernel_417947/717067231.py:31: RuntimeWarning: overflow encountered in double_scalars\n",
      "/tmp/ipykernel_417947/717067231.py:31: RuntimeWarning: overflow encountered in double_scalars\n",
      "/tmp/ipykernel_417947/717067231.py:31: RuntimeWarning: overflow encountered in double_scalars\n",
      "/tmp/ipykernel_417947/717067231.py:31: RuntimeWarning: overflow encountered in double_scalars\n",
      "/tmp/ipykernel_417947/717067231.py:31: RuntimeWarning: overflow encountered in double_scalars\n",
      "/tmp/ipykernel_417947/717067231.py:31: RuntimeWarning: overflow encountered in double_scalars\n",
      "/tmp/ipykernel_417947/717067231.py:31: RuntimeWarning: overflow encountered in double_scalars\n",
      "/tmp/ipykernel_417947/717067231.py:31: RuntimeWarning: overflow encountered in double_scalars\n",
      "/tmp/ipykernel_417947/717067231.py:31: RuntimeWarning: overflow encountered in double_scalars\n",
      "/tmp/ipykernel_417947/717067231.py:31: RuntimeWarning: overflow encountered in double_scalars\n",
      "/tmp/ipykernel_417947/717067231.py:31: RuntimeWarning: overflow encountered in double_scalars\n",
      "/tmp/ipykernel_417947/717067231.py:31: RuntimeWarning: overflow encountered in double_scalars\n",
      "/tmp/ipykernel_417947/717067231.py:31: RuntimeWarning: overflow encountered in double_scalars\n",
      "/tmp/ipykernel_417947/717067231.py:31: RuntimeWarning: overflow encountered in double_scalars\n",
      "/tmp/ipykernel_417947/717067231.py:31: RuntimeWarning: overflow encountered in double_scalars\n",
      "/tmp/ipykernel_417947/717067231.py:31: RuntimeWarning: overflow encountered in double_scalars\n",
      "/tmp/ipykernel_417947/717067231.py:31: RuntimeWarning: overflow encountered in double_scalars\n",
      "/tmp/ipykernel_417947/717067231.py:31: RuntimeWarning: overflow encountered in double_scalars\n",
      "/tmp/ipykernel_417947/717067231.py:31: RuntimeWarning: overflow encountered in double_scalars\n",
      "/tmp/ipykernel_417947/717067231.py:31: RuntimeWarning: overflow encountered in double_scalars\n",
      "/tmp/ipykernel_417947/717067231.py:31: RuntimeWarning: overflow encountered in double_scalars\n",
      "/tmp/ipykernel_417947/717067231.py:31: RuntimeWarning: overflow encountered in double_scalars\n",
      "/tmp/ipykernel_417947/717067231.py:31: RuntimeWarning: overflow encountered in double_scalars\n",
      "/tmp/ipykernel_417947/717067231.py:31: RuntimeWarning: overflow encountered in double_scalars\n",
      "/tmp/ipykernel_417947/717067231.py:31: RuntimeWarning: overflow encountered in double_scalars\n",
      "/tmp/ipykernel_417947/717067231.py:31: RuntimeWarning: overflow encountered in double_scalars\n",
      "/tmp/ipykernel_417947/717067231.py:31: RuntimeWarning: overflow encountered in double_scalars\n",
      "/tmp/ipykernel_417947/717067231.py:31: RuntimeWarning: overflow encountered in double_scalars\n",
      "/tmp/ipykernel_417947/717067231.py:31: RuntimeWarning: overflow encountered in double_scalars\n",
      "/tmp/ipykernel_417947/717067231.py:31: RuntimeWarning: overflow encountered in double_scalars\n",
      "/tmp/ipykernel_417947/717067231.py:31: RuntimeWarning: overflow encountered in double_scalars\n",
      "/tmp/ipykernel_417947/717067231.py:31: RuntimeWarning: overflow encountered in double_scalars\n",
      "/tmp/ipykernel_417947/717067231.py:31: RuntimeWarning: overflow encountered in double_scalars\n",
      "/tmp/ipykernel_417947/717067231.py:31: RuntimeWarning: overflow encountered in double_scalars\n",
      "/tmp/ipykernel_417947/717067231.py:31: RuntimeWarning: overflow encountered in double_scalars\n",
      "/tmp/ipykernel_417947/717067231.py:31: RuntimeWarning: overflow encountered in double_scalars\n",
      "/tmp/ipykernel_417947/717067231.py:31: RuntimeWarning: overflow encountered in double_scalars\n",
      "/tmp/ipykernel_417947/717067231.py:31: RuntimeWarning: overflow encountered in double_scalars\n",
      "/tmp/ipykernel_417947/717067231.py:31: RuntimeWarning: overflow encountered in double_scalars\n",
      "/tmp/ipykernel_417947/717067231.py:31: RuntimeWarning: overflow encountered in double_scalars\n",
      "/tmp/ipykernel_417947/717067231.py:31: RuntimeWarning: overflow encountered in double_scalars\n",
      "/tmp/ipykernel_417947/717067231.py:31: RuntimeWarning: overflow encountered in double_scalars\n",
      "/tmp/ipykernel_417947/717067231.py:31: RuntimeWarning: overflow encountered in double_scalars\n",
      "/tmp/ipykernel_417947/717067231.py:31: RuntimeWarning: overflow encountered in double_scalars\n",
      "/tmp/ipykernel_417947/717067231.py:31: RuntimeWarning: overflow encountered in double_scalars\n",
      "/tmp/ipykernel_417947/717067231.py:31: RuntimeWarning: overflow encountered in double_scalars\n",
      "/tmp/ipykernel_417947/717067231.py:31: RuntimeWarning: overflow encountered in double_scalars\n",
      "/tmp/ipykernel_417947/717067231.py:31: RuntimeWarning: overflow encountered in double_scalars\n",
      "/tmp/ipykernel_417947/717067231.py:31: RuntimeWarning: overflow encountered in double_scalars\n",
      "/tmp/ipykernel_417947/717067231.py:31: RuntimeWarning: overflow encountered in double_scalars\n",
      "/tmp/ipykernel_417947/717067231.py:31: RuntimeWarning: overflow encountered in double_scalars\n",
      "/tmp/ipykernel_417947/717067231.py:31: RuntimeWarning: overflow encountered in double_scalars\n",
      "/tmp/ipykernel_417947/717067231.py:31: RuntimeWarning: overflow encountered in double_scalars\n",
      "/tmp/ipykernel_417947/717067231.py:31: RuntimeWarning: overflow encountered in double_scalars\n",
      "/tmp/ipykernel_417947/717067231.py:31: RuntimeWarning: overflow encountered in double_scalars\n",
      "/tmp/ipykernel_417947/717067231.py:31: RuntimeWarning: overflow encountered in double_scalars\n",
      "/tmp/ipykernel_417947/717067231.py:31: RuntimeWarning: overflow encountered in double_scalars\n",
      "/tmp/ipykernel_417947/717067231.py:31: RuntimeWarning: overflow encountered in double_scalars\n",
      "/tmp/ipykernel_417947/717067231.py:31: RuntimeWarning: overflow encountered in double_scalars\n",
      "/tmp/ipykernel_417947/717067231.py:31: RuntimeWarning: overflow encountered in double_scalars\n",
      "/tmp/ipykernel_417947/717067231.py:31: RuntimeWarning: overflow encountered in double_scalars\n",
      "/tmp/ipykernel_417947/717067231.py:31: RuntimeWarning: overflow encountered in double_scalars\n",
      "/tmp/ipykernel_417947/717067231.py:31: RuntimeWarning: overflow encountered in double_scalars\n",
      "/tmp/ipykernel_417947/717067231.py:31: RuntimeWarning: overflow encountered in double_scalars\n",
      "/tmp/ipykernel_417947/717067231.py:31: RuntimeWarning: overflow encountered in double_scalars\n",
      "/tmp/ipykernel_417947/717067231.py:31: RuntimeWarning: overflow encountered in double_scalars\n",
      "/tmp/ipykernel_417947/717067231.py:31: RuntimeWarning: overflow encountered in double_scalars\n",
      "/tmp/ipykernel_417947/717067231.py:31: RuntimeWarning: overflow encountered in double_scalars\n",
      "/tmp/ipykernel_417947/717067231.py:31: RuntimeWarning: overflow encountered in double_scalars\n",
      "/tmp/ipykernel_417947/717067231.py:31: RuntimeWarning: overflow encountered in double_scalars\n",
      "/tmp/ipykernel_417947/717067231.py:31: RuntimeWarning: overflow encountered in double_scalars\n",
      "/tmp/ipykernel_417947/717067231.py:31: RuntimeWarning: overflow encountered in double_scalars\n",
      "/tmp/ipykernel_417947/717067231.py:31: RuntimeWarning: overflow encountered in double_scalars\n",
      "/tmp/ipykernel_417947/717067231.py:31: RuntimeWarning: overflow encountered in double_scalars\n",
      "/tmp/ipykernel_417947/717067231.py:31: RuntimeWarning: overflow encountered in double_scalars\n"
     ]
    }
   ],
   "source": [
    "# parallelize\n",
    "import joblib\n",
    "\n",
    "wudgs: list[tuple[nx.Graph, loader.DatasetRecord, pd.DataFrame, pd.DataFrame]]\n",
    "wudgs = joblib.Parallel(n_jobs=-1)(joblib.delayed(build_wudg)(record.pk, reduced_df, init_graph_type=\"nw_call\") for record, reduced_df, no_clustering_reduced_df in record_and_reduced_df)"
   ]
  },
  {
   "cell_type": "code",
   "execution_count": 21,
   "metadata": {},
   "outputs": [],
   "source": [
    "prs: list[tuple[dict, loader.DatasetRecord, pd.DataFrame, pd.DataFrame]] = []\n",
    "prs = joblib.Parallel(n_jobs=-1)(joblib.delayed(nx.pagerank)(wudg, alpha=0.85) for wudg in wudgs)"
   ]
  },
  {
   "cell_type": "code",
   "execution_count": 22,
   "metadata": {},
   "outputs": [
    {
     "name": "stdout",
     "output_type": "stream",
     "text": [
      "77 77\n",
      "rank: 4, ts-preserve-service/pod-network-loss/0\n",
      "rank: 4, ts-train-mongo/pod-network-loss/0\n",
      "rank: 8, ts-price-service/pod-memory-hog/0\n",
      "rank: 7, ts-travel-service/pod-cpu-hog/0\n",
      "rank: 23, ts-auth-mongo/pod-memory-hog/0\n",
      "rank: 9, ts-train-service/pod-memory-hog/0\n",
      "rank: 1, ts-order-service/pod-cpu-hog/0\n",
      "rank: 4, ts-auth-mongo/pod-cpu-hog/0\n",
      "rank: 2, ts-basic-service/pod-cpu-hog/0\n",
      "rank: 13, ts-train-mongo/pod-memory-hog/0\n",
      "rank: 1, ts-preserve-service/pod-cpu-hog/0\n",
      "rank: 10, ts-food-mongo/pod-cpu-hog/0\n",
      "rank: 1, ts-price-mongo/pod-cpu-hog/0\n",
      "rank: 7, ts-order-service/pod-network-loss/0\n",
      "rank: 7, ts-station-service/pod-memory-hog/0\n",
      "rank: 24, ts-travel2-service/pod-network-loss/0\n",
      "rank: 24, ts-food-mongo/pod-network-loss/0\n",
      "rank: 5, ts-food-service/pod-memory-hog/0\n",
      "rank: 6, ts-travel2-service/pod-memory-hog/0\n",
      "rank: 5, ts-cancel-service/pod-memory-hog/0\n",
      "rank: 21, ts-payment-mongo/pod-cpu-hog/0\n",
      "rank: 4, ts-basic-service/pod-memory-hog/0\n",
      "rank: 4, ts-price-service/pod-network-loss/0\n",
      "rank: 12, ts-travel2-mongo/pod-network-loss/0\n",
      "rank: 7, ts-station-service/pod-cpu-hog/0\n",
      "rank: 19, ts-auth-service/pod-cpu-hog/0\n",
      "rank: 5, ts-consign-mongo/pod-memory-hog/0\n",
      "rank: 17, ts-station-mongo/pod-memory-hog/0\n",
      "rank: 8, ts-station-mongo/pod-network-loss/0\n",
      "rank: 13, ts-travel2-service/pod-cpu-hog/0\n",
      "rank: 7, ts-order-mongo/pod-network-loss/0\n",
      "rank: 6, ts-price-mongo/pod-memory-hog/0\n",
      "rank: 13, ts-user-mongo/pod-network-loss/0\n",
      "rank: 24, ts-consign-service/pod-cpu-hog/0\n",
      "rank: 30, ts-payment-service/pod-cpu-hog/0\n",
      "rank: 1, ts-train-mongo/pod-cpu-hog/0\n",
      "rank: 37, ts-travel-service/pod-network-loss/0\n",
      "rank: 4, ts-user-mongo/pod-cpu-hog/0\n",
      "rank: 7, ts-food-mongo/pod-memory-hog/0\n",
      "rank: 3, ts-order-service/pod-memory-hog/0\n",
      "rank: 9, ts-station-mongo/pod-cpu-hog/0\n",
      "rank: 8, ts-travel-mongo/pod-cpu-hog/0\n",
      "rank: 3, ts-order-mongo/pod-cpu-hog/0\n",
      "rank: 6, ts-train-service/pod-network-loss/0\n",
      "rank: 30, ts-price-mongo/pod-network-loss/0\n",
      "rank: 3, ts-payment-mongo/pod-memory-hog/0\n",
      "rank: 6, ts-order-mongo/pod-memory-hog/0\n",
      "rank: 5, ts-order-other-service/pod-network-loss/0\n",
      "rank: 24, ts-price-service/pod-cpu-hog/0\n",
      "rank: 9, ts-preserve-service/pod-memory-hog/0\n",
      "rank: 9, ts-payment-service/pod-network-loss/0\n",
      "rank: 1, ts-consign-service/pod-network-loss/0\n",
      "rank: 4, ts-cancel-service/pod-network-loss/0\n",
      "rank: 5, ts-travel-service/pod-memory-hog/0\n",
      "rank: 23, ts-consign-mongo/pod-network-loss/0\n",
      "rank: 4, ts-consign-service/pod-memory-hog/0\n",
      "rank: 11, ts-food-service/pod-network-loss/0\n",
      "rank: 7, ts-train-service/pod-cpu-hog/0\n",
      "rank: 5, ts-user-service/pod-memory-hog/0\n",
      "rank: 11, ts-auth-service/pod-network-loss/0\n",
      "rank: 20, ts-basic-service/pod-network-loss/0\n",
      "rank: 14, ts-food-service/pod-cpu-hog/0\n",
      "rank: 9, ts-station-service/pod-network-loss/0\n",
      "rank: 18, ts-auth-service/pod-memory-hog/0\n",
      "rank: 17, ts-consign-mongo/pod-cpu-hog/0\n",
      "rank: 26, ts-travel2-mongo/pod-cpu-hog/0\n",
      "rank: 14, ts-auth-mongo/pod-network-loss/0\n",
      "rank: 16, ts-order-other-service/pod-cpu-hog/0\n",
      "rank: 7, ts-order-other-service/pod-memory-hog/0\n",
      "rank: 5, ts-travel-mongo/pod-network-loss/0\n",
      "rank: 1, ts-user-mongo/pod-memory-hog/0\n",
      "rank: 7, ts-payment-service/pod-memory-hog/0\n",
      "rank: 3, ts-travel2-mongo/pod-memory-hog/0\n",
      "rank: 4, ts-cancel-service/pod-cpu-hog/0\n",
      "rank: 2, ts-travel-mongo/pod-memory-hog/0\n",
      "rank: 6, ts-payment-mongo/pod-network-loss/0\n",
      "rank: 29, ts-user-service/pod-network-loss/0\n"
     ]
    },
    {
     "data": {
      "text/plain": [
       "'AC@K'"
      ]
     },
     "metadata": {},
     "output_type": "display_data"
    },
    {
     "data": {
      "text/plain": [
       "{1: 0.07792207792207792,\n",
       " 2: 0.1038961038961039,\n",
       " 3: 0.15584415584415584,\n",
       " 4: 0.2727272727272727,\n",
       " 5: 0.36363636363636365,\n",
       " 6: 0.42857142857142855,\n",
       " 7: 0.5454545454545454,\n",
       " 8: 0.5844155844155844,\n",
       " 9: 0.6493506493506493,\n",
       " 10: 0.6623376623376623}"
      ]
     },
     "metadata": {},
     "output_type": "display_data"
    },
    {
     "data": {
      "text/plain": [
       "'AVG@k'"
      ]
     },
     "metadata": {},
     "output_type": "display_data"
    },
    {
     "data": {
      "text/plain": [
       "{1: 0.07792207792207792,\n",
       " 2: 0.09090909090909091,\n",
       " 3: 0.11255411255411256,\n",
       " 4: 0.1525974025974026,\n",
       " 5: 0.19480519480519481,\n",
       " 6: 0.23376623376623376,\n",
       " 7: 0.2782931354359926,\n",
       " 8: 0.31655844155844154,\n",
       " 9: 0.35353535353535354,\n",
       " 10: 0.38441558441558443}"
      ]
     },
     "metadata": {},
     "output_type": "display_data"
    },
    {
     "data": {
      "text/plain": [
       "'pod-network-loss:AC@K'"
      ]
     },
     "metadata": {},
     "output_type": "display_data"
    },
    {
     "data": {
      "text/plain": [
       "{1: 0.038461538461538464,\n",
       " 2: 0.038461538461538464,\n",
       " 3: 0.038461538461538464,\n",
       " 4: 0.19230769230769232,\n",
       " 5: 0.2692307692307692,\n",
       " 6: 0.34615384615384615,\n",
       " 7: 0.4230769230769231,\n",
       " 8: 0.46153846153846156,\n",
       " 9: 0.5384615384615384,\n",
       " 10: 0.5384615384615384}"
      ]
     },
     "metadata": {},
     "output_type": "display_data"
    },
    {
     "data": {
      "text/plain": [
       "'pod-network-loss:AVG@K'"
      ]
     },
     "metadata": {},
     "output_type": "display_data"
    },
    {
     "data": {
      "text/plain": [
       "{1: 0.038461538461538464,\n",
       " 2: 0.038461538461538464,\n",
       " 3: 0.038461538461538464,\n",
       " 4: 0.07692307692307693,\n",
       " 5: 0.11538461538461538,\n",
       " 6: 0.15384615384615383,\n",
       " 7: 0.1923076923076923,\n",
       " 8: 0.22596153846153844,\n",
       " 9: 0.26068376068376065,\n",
       " 10: 0.28846153846153844}"
      ]
     },
     "metadata": {},
     "output_type": "display_data"
    },
    {
     "data": {
      "text/plain": [
       "'pod-memory-hog:AC@K'"
      ]
     },
     "metadata": {},
     "output_type": "display_data"
    },
    {
     "data": {
      "text/plain": [
       "{1: 0.038461538461538464,\n",
       " 2: 0.07692307692307693,\n",
       " 3: 0.19230769230769232,\n",
       " 4: 0.2692307692307692,\n",
       " 5: 0.46153846153846156,\n",
       " 6: 0.5769230769230769,\n",
       " 7: 0.7307692307692307,\n",
       " 8: 0.7692307692307693,\n",
       " 9: 0.8461538461538461,\n",
       " 10: 0.8461538461538461}"
      ]
     },
     "metadata": {},
     "output_type": "display_data"
    },
    {
     "data": {
      "text/plain": [
       "'pod-memory-hog:AVG@K'"
      ]
     },
     "metadata": {},
     "output_type": "display_data"
    },
    {
     "data": {
      "text/plain": [
       "{1: 0.038461538461538464,\n",
       " 2: 0.057692307692307696,\n",
       " 3: 0.10256410256410257,\n",
       " 4: 0.14423076923076922,\n",
       " 5: 0.20769230769230768,\n",
       " 6: 0.2692307692307692,\n",
       " 7: 0.33516483516483514,\n",
       " 8: 0.38942307692307687,\n",
       " 9: 0.44017094017094016,\n",
       " 10: 0.4807692307692307}"
      ]
     },
     "metadata": {},
     "output_type": "display_data"
    },
    {
     "data": {
      "text/plain": [
       "'pod-cpu-hog:AC@K'"
      ]
     },
     "metadata": {},
     "output_type": "display_data"
    },
    {
     "data": {
      "text/plain": [
       "{1: 0.16,\n",
       " 2: 0.2,\n",
       " 3: 0.24,\n",
       " 4: 0.36,\n",
       " 5: 0.36,\n",
       " 6: 0.36,\n",
       " 7: 0.48,\n",
       " 8: 0.52,\n",
       " 9: 0.56,\n",
       " 10: 0.6}"
      ]
     },
     "metadata": {},
     "output_type": "display_data"
    },
    {
     "data": {
      "text/plain": [
       "'pod-cpu-hog:AVG@K'"
      ]
     },
     "metadata": {},
     "output_type": "display_data"
    },
    {
     "data": {
      "text/plain": [
       "{1: 0.16,\n",
       " 2: 0.18,\n",
       " 3: 0.19999999999999998,\n",
       " 4: 0.24,\n",
       " 5: 0.26399999999999996,\n",
       " 6: 0.27999999999999997,\n",
       " 7: 0.30857142857142855,\n",
       " 8: 0.33499999999999996,\n",
       " 9: 0.36,\n",
       " 10: 0.384}"
      ]
     },
     "metadata": {},
     "output_type": "display_data"
    }
   ],
   "source": [
    "from itertools import chain\n",
    "\n",
    "anomaly_case_sizes = len(prs)\n",
    "top_k_set = range(1, 11)\n",
    "ac_k: dict[int, float] = {k: 0.0 for k in top_k_set}\n",
    "rank_by_case: dict[str, list[int]] = defaultdict(list)\n",
    "print(len(prs), len(record_and_reduced_df))\n",
    "for pr, (record, reduced_df, non_clustering_reduced_df) in zip(prs, record_and_reduced_df):\n",
    "    chaos_service: str = record.chaos_comp().removesuffix(\"-service\").removesuffix(\"-mongo\")\n",
    "    ranked_metric_to_score: list[tuple[mn.MetricNode, float]] = sorted(pr.items(), reverse=True, key=lambda x: x[1])\n",
    "    ranked_service = dict.fromkeys([m.comp.removesuffix(\"-service\").removesuffix(\"-mongo\") for m, _ in ranked_metric_to_score])\n",
    "    ranked_service = [s for s in ranked_service if not s.startswith(\"gke-\")]\n",
    "    # ranks_with_service: int = sorted([(i+1, ) for i, (m, _) in enumerate(ranked_metric_to_score) if m.comp.startswith(chaos_service)])\n",
    "    rank: int = sorted([i+1 for i, service in enumerate(ranked_service) if service == chaos_service])[0]\n",
    "    print(f\"rank: {rank}, {record.chaos_case_full()}\")\n",
    "    rank_by_case[record.chaos_type()].append(rank)\n",
    "    # plt.plot(reduced_df[str(cm)].to_numpy())\n",
    "\n",
    "for k in top_k_set:\n",
    "    ranks = chain.from_iterable(rank_by_case.values())\n",
    "    ac_k[k] = sum([1 if rank <= k else 0 for rank in ranks]) / anomaly_case_sizes\n",
    "display(\"AC@K\", ac_k)\n",
    "\n",
    "avg_k = {}\n",
    "for k in top_k_set:\n",
    "    avg_k[k] = sum([ac_k[j] for j in range(1, k+1)]) / k\n",
    "display(\"AVG@k\", avg_k)\n",
    "\n",
    "for case, ranks in rank_by_case.items():\n",
    "    _ac_k, _avg_k = {}, {}\n",
    "    for k in top_k_set:\n",
    "        _ac_k[k] = sum([1 if rank <= k else 0 for rank in ranks]) / len(ranks)\n",
    "        _avg_k[k] = sum([_ac_k[j] for j in range(1, k+1)]) / k\n",
    "    display(f\"{case}:AC@K\", _ac_k)\n",
    "    display(f\"{case}:AVG@K\", _avg_k)"
   ]
  },
  {
   "cell_type": "markdown",
   "metadata": {},
   "source": [
    "### Evaluate only phase 1"
   ]
  },
  {
   "cell_type": "code",
   "execution_count": null,
   "metadata": {},
   "outputs": [],
   "source": [
    "import joblib\n",
    "\n",
    "wudgs: list[tuple[nx.Graph, loader.DatasetRecord, pd.DataFrame, pd.DataFrame]]\n",
    "wudgs = joblib.Parallel(n_jobs=-1)(joblib.delayed(build_wudg)(record.pk, no_clustering_reduced_df, init_graph_type=\"nw_call\") for record, reduced_df, no_clustering_reduced_df in record_and_reduced_df)"
   ]
  },
  {
   "cell_type": "code",
   "execution_count": null,
   "metadata": {},
   "outputs": [],
   "source": [
    "import joblib\n",
    "\n",
    "wudgs: list[tuple[nx.Graph, loader.DatasetRecord, pd.DataFrame, pd.DataFrame]]\n",
    "wudgs = joblib.Parallel(n_jobs=-1)(joblib.delayed(build_wudg)(record.pk, no_clustering_reduced_df, init_graph_type=\"nw_call\") for record, reduced_df, no_clustering_reduced_df in record_and_reduced_df)"
   ]
  },
  {
   "cell_type": "code",
   "execution_count": null,
   "metadata": {},
   "outputs": [],
   "source": [
    "prs: list[tuple[dict, loader.DatasetRecord, pd.DataFrame, pd.DataFrame]] = []\n",
    "prs = joblib.Parallel(n_jobs=-1)(joblib.delayed(nx.pagerank)(wudg, alpha=0.85) for wudg in wudgs)"
   ]
  },
  {
   "cell_type": "code",
   "execution_count": null,
   "metadata": {},
   "outputs": [],
   "source": [
    "from itertools import chain\n",
    "\n",
    "anomaly_case_sizes = len(prs)\n",
    "top_k_set = range(1, 11)\n",
    "ac_k: dict[int, float] = {k: 0.0 for k in top_k_set}\n",
    "rank_by_case: dict[str, list[int]] = defaultdict(list)\n",
    "print(len(prs), len(record_and_reduced_df))\n",
    "for pr, (record, reduced_df, non_clustering_reduced_df) in zip(prs, record_and_reduced_df):\n",
    "    chaos_service: str = record.chaos_comp().removesuffix(\"-service\").removesuffix(\"-mongo\")\n",
    "    ranked_metric_to_score: list[tuple[mn.MetricNode, float]] = sorted(pr.items(), reverse=True, key=lambda x: x[1])\n",
    "    rank: int = sorted([i+1 for i, (m, _) in enumerate(ranked_metric_to_score) if m.comp.startswith(chaos_service)])[0]\n",
    "    print(f\"rank: {rank}, {record.chaos_case_full()}\")\n",
    "    rank_by_case[record.chaos_type()].append(rank)\n",
    "    # plt.plot(reduced_df[str(cm)].to_numpy())\n",
    "\n",
    "for k in top_k_set:\n",
    "    ranks = chain.from_iterable(rank_by_case.values())\n",
    "    ac_k[k] = sum([1 if rank <= k else 0 for rank in ranks]) / anomaly_case_sizes\n",
    "display(\"AC@K\", ac_k)\n",
    "\n",
    "avg_k = {}\n",
    "for k in top_k_set:\n",
    "    avg_k[k] = sum([ac_k[j] for j in range(1, k+1)]) / k\n",
    "display(\"AVG@k\", avg_k)\n",
    "\n",
    "for case, ranks in rank_by_case.items():\n",
    "    _ac_k, _avg_k = {}, {}\n",
    "    for k in top_k_set:\n",
    "        _ac_k[k] = sum([1 if rank <= k else 0 for rank in ranks]) / len(ranks)\n",
    "        _avg_k[k] = sum([_ac_k[j] for j in range(1, k+1)]) / k\n",
    "    display(f\"{case}:AC@K\", _ac_k)"
   ]
  }
 ],
 "metadata": {
  "kernelspec": {
   "display_name": "Python 3.10.4 ('.venv': poetry)",
   "language": "python",
   "name": "python3"
  },
  "language_info": {
   "codemirror_mode": {
    "name": "ipython",
    "version": 3
   },
   "file_extension": ".py",
   "mimetype": "text/x-python",
   "name": "python",
   "nbconvert_exporter": "python",
   "pygments_lexer": "ipython3",
   "version": "3.10.4"
  },
  "orig_nbformat": 4,
  "vscode": {
   "interpreter": {
    "hash": "c0f02f5f97634d426ffcfa502db37ef392cddba0a927ded2fc10600c3b8bead5"
   }
  }
 },
 "nbformat": 4,
 "nbformat_minor": 2
}
