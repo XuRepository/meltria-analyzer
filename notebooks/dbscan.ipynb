{
 "cells": [
  {
   "attachments": {},
   "cell_type": "markdown",
   "metadata": {},
   "source": [
    "# DBSCAN"
   ]
  },
  {
   "cell_type": "code",
   "execution_count": 2,
   "metadata": {},
   "outputs": [],
   "source": [
    "%reload_ext autoreload\n",
    "%autoreload 2"
   ]
  },
  {
   "cell_type": "code",
   "execution_count": 1,
   "metadata": {},
   "outputs": [],
   "source": [
    "import sys\n",
    "sys.path.append(\"../\")\n",
    "\n",
    "from pathlib import Path\n",
    "from collections import defaultdict\n",
    "\n",
    "import pandas as pd\n",
    "from scipy.stats import zscore\n",
    "from tsdr import tsdr\n",
    "from eval import groundtruth\n",
    "from meltria import loader\n",
    "from eval import validation"
   ]
  },
  {
   "cell_type": "code",
   "execution_count": 4,
   "metadata": {},
   "outputs": [],
   "source": [
    "DATASET_ID = \"9n6mf\""
   ]
  },
  {
   "cell_type": "code",
   "execution_count": 6,
   "metadata": {},
   "outputs": [],
   "source": [
    "from eval.tsdr import load_tsdr_by_chaos\n",
    "\n",
    "dataset_by_chaos = load_tsdr_by_chaos(\n",
    "    DATASET_ID, {\n",
    "        \"services\": True,\n",
    "        \"containers\": True,\n",
    "        \"middlewares\": False,\n",
    "        \"nodes\": False,\n",
    "    },\n",
    "    revert_normalized_time_series=True,\n",
    "    tsdr_options={\n",
    "        \"enable_unireducer\": False,\n",
    "        \"enable_multireducer\": False,\n",
    "    },\n",
    "    use_manually_selected_metrics=False,\n",
    ") "
   ]
  },
  {
   "cell_type": "code",
   "execution_count": 7,
   "metadata": {},
   "outputs": [
    {
     "data": {
      "text/plain": [
       "(180, 186)"
      ]
     },
     "execution_count": 7,
     "metadata": {},
     "output_type": "execute_result"
    }
   ],
   "source": [
    "record, data_df_by_metric_type = dataset_by_chaos[(\"pod-cpu-hog\", \"carts\")][0]\n",
    "dataset = pd.concat([\n",
    "    data_df_by_metric_type[\"containers\"][-1],#.iloc[100:180,:],\n",
    "    data_df_by_metric_type[\"services\"][-1],#.iloc[100:180, :],\n",
    "], axis=1)\n",
    "dataset.shape"
   ]
  },
  {
   "cell_type": "code",
   "execution_count": 41,
   "metadata": {},
   "outputs": [],
   "source": [
    "from collections.abc import Callable\n",
    "\n",
    "import numpy as np\n",
    "import sklearn.cluster\n",
    "from sklearn.neighbors import kneighbors_graph, sort_graph_by_row_values\n",
    "\n",
    "def learn_clusters_(\n",
    "    X: np.ndarray,\n",
    "    dist_func: Callable,\n",
    "    min_pts: int = 1,\n",
    "    algorithm: str = \"dbscan\",\n",
    ") -> tuple[np.ndarray, np.ndarray]:\n",
    "    if len(X) <= 2:\n",
    "        # avoid \"ValueError: Expected n_neighbors <= n_samples,  but n_samples = 2, n_neighbors = 3\"\n",
    "        return np.array([]), np.array([])\n",
    "\n",
    "    match algorithm:\n",
    "        case \"dbscan\":\n",
    "            dist_graph = kneighbors_graph(X=X, n_neighbors=min_pts, mode=\"distance\", metric=dist_func)\n",
    "            distances = dist_graph.toarray().flatten()\n",
    "            assert len(distances) != 0, f\"distances is empty: {distances}, {X}\"\n",
    "            assert np.isnan(distances).sum() == 0, f\"distances has NaN: {distances}, {X}\"\n",
    "            eps = np.nanmax(distances) / 4  # see DBSherlock paper\n",
    "            if eps == 0.0:\n",
    "                # avoid \"ValueError: eps=0.0 is invalid: must be greater than or equal to 1e-20.\"\n",
    "                eps = 1e-20\n",
    "\n",
    "            print(\"eps\", eps)\n",
    "            labels = sklearn.cluster.DBSCAN(\n",
    "                eps=eps,\n",
    "                min_samples=min_pts,\n",
    "                metric=\"precomputed\",\n",
    "            ).fit_predict(dist_graph)\n",
    "            return labels, dist_graph.toarray()"
   ]
  },
  {
   "cell_type": "code",
   "execution_count": null,
   "metadata": {},
   "outputs": [],
   "source": [
    "from tsdr.clustering.pearsonr import pearsonr_as_dist"
   ]
  },
  {
   "cell_type": "code",
   "execution_count": 46,
   "metadata": {},
   "outputs": [
    {
     "data": {
      "image/png": "[encoded data removed]",
      "text/plain": [
       "<Figure size 640x480 with 1 Axes>"
      ]
     },
     "metadata": {},
     "output_type": "display_data"
    }
   ],
   "source": [
    "dist_graph = kneighbors_graph(X=dataset.values.T, n_neighbors=1, mode=\"distance\", metric=pearsonr_as_dist)\n",
    "distances = np.sort(dist_graph.toarray().flatten())\n",
    "\n",
    "import matplotlib.pyplot as plt\n",
    "\n",
    "plt.plot(range(len(distances)), distances)\n",
    "plt.xlabel('Data Points (sorted by distance)')\n",
    "plt.ylabel(f'{1}-th Nearest Neighbor Distance')\n",
    "plt.title(f'{1}-distance Plot')\n",
    "plt.show()"
   ]
  },
  {
   "cell_type": "code",
   "execution_count": 43,
   "metadata": {},
   "outputs": [
    {
     "name": "stdout",
     "output_type": "stream",
     "text": [
      "eps 0.21957665099907137\n"
     ]
    },
    {
     "data": {
      "text/plain": [
       "array([ 0,  1,  1,  2,  2,  2,  1,  3,  4,  2,  4,  1,  0,  4,  2,  4,  5,\n",
       "        6,  6,  7,  7,  8,  8,  9,  6, 10, 11,  9, 12,  7,  6,  7,  7, 12,\n",
       "        7, 11, 13, 14, 14, 15, 14, 16,  8, 13, 14, 13, 13, 15, 17, 18, 18,\n",
       "       19, 19, 18, 20, 21, 22, 18, 22, 22, 19, 23, 24, 25, 25, 26, 27, 27,\n",
       "       25,  8, 28, 24, 25, 24, 24, 27, 28, 29, 30, 30, 31, 31, 30, 32, 33,\n",
       "       29, 30, 29, 29, 31, 33, 34, 35, 35, 36, 37, 35, 38,  8, 39, 34, 35,\n",
       "       34, 34, 36, 39, 40, 41, 41, 42, 42, 43, 43, 44, 41, 45,  8, 46, 44,\n",
       "       47, 48, 41, 48, 48, 47, 49, 46, 50, 51, 51, 52, 51, 53, 54, 50, 51,\n",
       "       50, 50, 52, 54, 55, 56, 56, 57, 56, 58, 55, 56, 55, 55, 57, 59, 60,\n",
       "       61, 61, 62, 62, 63, 63, 61, 64,  8, 65, 66, 67, 61, 67, 67, 63, 68,\n",
       "       69, 70, 11, 70, 71, 70, 72, 70, 72, 11, 70, 73, 72, 74, 70, 75])"
      ]
     },
     "execution_count": 43,
     "metadata": {},
     "output_type": "execute_result"
    }
   ],
   "source": [
    "labels, distarrys = learn_clusters_(dataset.values.T, min_pts=1, dist_func=pearsonr_as_dist, algorithm=\"dbscan\")\n",
    "labels"
   ]
  },
  {
   "cell_type": "code",
   "execution_count": null,
   "metadata": {},
   "outputs": [],
   "source": []
  }
 ],
 "metadata": {
  "kernelspec": {
   "display_name": "Python 3 (ipykernel)",
   "language": "python",
   "name": "python3"
  },
  "language_info": {
   "codemirror_mode": {
    "name": "ipython",
    "version": 3
   },
   "file_extension": ".py",
   "mimetype": "text/x-python",
   "name": "python",
   "nbconvert_exporter": "python",
   "pygments_lexer": "ipython3",
   "version": "3.10.4"
  },
  "orig_nbformat": 4
 },
 "nbformat": 4,
 "nbformat_minor": 2
}
