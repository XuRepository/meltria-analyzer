{
 "cells": [
  {
   "cell_type": "code",
   "execution_count": 1,
   "metadata": {},
   "outputs": [],
   "source": [
    "%reload_ext autoreload\n",
    "%autoreload 2"
   ]
  },
  {
   "cell_type": "code",
   "execution_count": 57,
   "metadata": {},
   "outputs": [],
   "source": [
    "import pandas as pd\n",
    "import numpy as np"
   ]
  },
  {
   "cell_type": "code",
   "execution_count": 30,
   "metadata": {},
   "outputs": [],
   "source": [
    "clusters_stat1 = pd.DataFrame([\n",
    "    {\"component\": \"s-carts\", \"rep_metric\": \"s-carts_latency\", \"sub_metrics\": [\"s-carts_errors\", \"s-carts_throughput\"]},\n",
    "    {\"component\": \"c-user\", \"rep_metric\": \"c-user_cpu_user\", \"sub_metrics\": [\"c-user_cpu_sys\", \"c-user_cpu_wait\"]},\n",
    "    {\"component\": \"c-user\", \"rep_metric\": \"c-user_mem\", \"sub_metrics\": []},\n",
    "])\n",
    "clusters_stat1[\"dataset_id\"] = \"xxx\"\n",
    "clusters_stat1[\"chaos_type\"] = \"pod-cpu-hog\"\n",
    "clusters_stat1[\"chaos_comp\"] = \"user\"\n",
    "clusters_stat1[\"chaos_case_num\"] = \"0\"\n",
    "clusters_stat2 = pd.DataFrame([\n",
    "    {\"component\": \"s-carts\", \"rep_metric\": \"s-carts_latency\", \"sub_metrics\": [\"s-carts_errors\", \"s-carts_throughput\", \"s-carts_lat99\"]},\n",
    "    {\"component\": \"c-user\", \"rep_metric\": \"c-user_cpu_user\", \"sub_metrics\": [\"c-user_cpu_sys\", \"c-user_cpu_wait\"]},\n",
    "    {\"component\": \"c-user\", \"rep_metric\": \"c-user_mem\", \"sub_metrics\": []},\n",
    "])\n",
    "clusters_stat2[\"dataset_id\"] = \"xxx\"\n",
    "clusters_stat2[\"chaos_type\"] = \"pod-cpu-hog\"\n",
    "clusters_stat2[\"chaos_comp\"] = \"user\"\n",
    "clusters_stat2[\"chaos_case_num\"] = \"1\""
   ]
  },
  {
   "cell_type": "code",
   "execution_count": 31,
   "metadata": {},
   "outputs": [
    {
     "data": {
      "text/html": [
       "<div>\n",
       "<style scoped>\n",
       "    .dataframe tbody tr th:only-of-type {\n",
       "        vertical-align: middle;\n",
       "    }\n",
       "\n",
       "    .dataframe tbody tr th {\n",
       "        vertical-align: top;\n",
       "    }\n",
       "\n",
       "    .dataframe thead th {\n",
       "        text-align: right;\n",
       "    }\n",
       "</style>\n",
       "<table border=\"1\" class=\"dataframe\">\n",
       "  <thead>\n",
       "    <tr style=\"text-align: right;\">\n",
       "      <th></th>\n",
       "      <th>component</th>\n",
       "      <th>rep_metric</th>\n",
       "      <th>sub_metrics</th>\n",
       "      <th>dataset_id</th>\n",
       "      <th>chaos_type</th>\n",
       "      <th>chaos_comp</th>\n",
       "      <th>chaos_case_num</th>\n",
       "    </tr>\n",
       "  </thead>\n",
       "  <tbody>\n",
       "    <tr>\n",
       "      <th>0</th>\n",
       "      <td>s-carts</td>\n",
       "      <td>s-carts_latency</td>\n",
       "      <td>[s-carts_errors, s-carts_throughput]</td>\n",
       "      <td>xxx</td>\n",
       "      <td>pod-cpu-hog</td>\n",
       "      <td>user</td>\n",
       "      <td>0</td>\n",
       "    </tr>\n",
       "    <tr>\n",
       "      <th>1</th>\n",
       "      <td>c-user</td>\n",
       "      <td>c-user_cpu_user</td>\n",
       "      <td>[c-user_cpu_sys, c-user_cpu_wait]</td>\n",
       "      <td>xxx</td>\n",
       "      <td>pod-cpu-hog</td>\n",
       "      <td>user</td>\n",
       "      <td>0</td>\n",
       "    </tr>\n",
       "    <tr>\n",
       "      <th>2</th>\n",
       "      <td>c-user</td>\n",
       "      <td>c-user_mem</td>\n",
       "      <td>[]</td>\n",
       "      <td>xxx</td>\n",
       "      <td>pod-cpu-hog</td>\n",
       "      <td>user</td>\n",
       "      <td>0</td>\n",
       "    </tr>\n",
       "    <tr>\n",
       "      <th>0</th>\n",
       "      <td>s-carts</td>\n",
       "      <td>s-carts_latency</td>\n",
       "      <td>[s-carts_errors, s-carts_throughput, s-carts_l...</td>\n",
       "      <td>xxx</td>\n",
       "      <td>pod-cpu-hog</td>\n",
       "      <td>user</td>\n",
       "      <td>1</td>\n",
       "    </tr>\n",
       "    <tr>\n",
       "      <th>1</th>\n",
       "      <td>c-user</td>\n",
       "      <td>c-user_cpu_user</td>\n",
       "      <td>[c-user_cpu_sys, c-user_cpu_wait]</td>\n",
       "      <td>xxx</td>\n",
       "      <td>pod-cpu-hog</td>\n",
       "      <td>user</td>\n",
       "      <td>1</td>\n",
       "    </tr>\n",
       "    <tr>\n",
       "      <th>2</th>\n",
       "      <td>c-user</td>\n",
       "      <td>c-user_mem</td>\n",
       "      <td>[]</td>\n",
       "      <td>xxx</td>\n",
       "      <td>pod-cpu-hog</td>\n",
       "      <td>user</td>\n",
       "      <td>1</td>\n",
       "    </tr>\n",
       "  </tbody>\n",
       "</table>\n",
       "</div>"
      ],
      "text/plain": [
       "  component       rep_metric  \\\n",
       "0   s-carts  s-carts_latency   \n",
       "1    c-user  c-user_cpu_user   \n",
       "2    c-user       c-user_mem   \n",
       "0   s-carts  s-carts_latency   \n",
       "1    c-user  c-user_cpu_user   \n",
       "2    c-user       c-user_mem   \n",
       "\n",
       "                                         sub_metrics dataset_id   chaos_type  \\\n",
       "0               [s-carts_errors, s-carts_throughput]        xxx  pod-cpu-hog   \n",
       "1                  [c-user_cpu_sys, c-user_cpu_wait]        xxx  pod-cpu-hog   \n",
       "2                                                 []        xxx  pod-cpu-hog   \n",
       "0  [s-carts_errors, s-carts_throughput, s-carts_l...        xxx  pod-cpu-hog   \n",
       "1                  [c-user_cpu_sys, c-user_cpu_wait]        xxx  pod-cpu-hog   \n",
       "2                                                 []        xxx  pod-cpu-hog   \n",
       "\n",
       "  chaos_comp chaos_case_num  \n",
       "0       user              0  \n",
       "1       user              0  \n",
       "2       user              0  \n",
       "0       user              1  \n",
       "1       user              1  \n",
       "2       user              1  "
      ]
     },
     "execution_count": 31,
     "metadata": {},
     "output_type": "execute_result"
    }
   ],
   "source": [
    "clusters_stats = pd.DataFrame(pd.concat([clusters_stat1, clusters_stat2], axis=0))\n",
    "clusters_stats"
   ]
  },
  {
   "cell_type": "code",
   "execution_count": 32,
   "metadata": {},
   "outputs": [
    {
     "data": {
      "text/html": [
       "<div>\n",
       "<style scoped>\n",
       "    .dataframe tbody tr th:only-of-type {\n",
       "        vertical-align: middle;\n",
       "    }\n",
       "\n",
       "    .dataframe tbody tr th {\n",
       "        vertical-align: top;\n",
       "    }\n",
       "\n",
       "    .dataframe thead th {\n",
       "        text-align: right;\n",
       "    }\n",
       "</style>\n",
       "<table border=\"1\" class=\"dataframe\">\n",
       "  <thead>\n",
       "    <tr style=\"text-align: right;\">\n",
       "      <th></th>\n",
       "      <th></th>\n",
       "      <th></th>\n",
       "      <th></th>\n",
       "      <th>component</th>\n",
       "      <th>rep_metric</th>\n",
       "      <th>sub_metrics</th>\n",
       "    </tr>\n",
       "    <tr>\n",
       "      <th>dataset_id</th>\n",
       "      <th>chaos_type</th>\n",
       "      <th>chaos_comp</th>\n",
       "      <th>chaos_case_num</th>\n",
       "      <th></th>\n",
       "      <th></th>\n",
       "      <th></th>\n",
       "    </tr>\n",
       "  </thead>\n",
       "  <tbody>\n",
       "    <tr>\n",
       "      <th rowspan=\"6\" valign=\"top\">xxx</th>\n",
       "      <th rowspan=\"6\" valign=\"top\">pod-cpu-hog</th>\n",
       "      <th rowspan=\"6\" valign=\"top\">user</th>\n",
       "      <th>0</th>\n",
       "      <td>s-carts</td>\n",
       "      <td>s-carts_latency</td>\n",
       "      <td>[s-carts_errors, s-carts_throughput]</td>\n",
       "    </tr>\n",
       "    <tr>\n",
       "      <th>0</th>\n",
       "      <td>c-user</td>\n",
       "      <td>c-user_cpu_user</td>\n",
       "      <td>[c-user_cpu_sys, c-user_cpu_wait]</td>\n",
       "    </tr>\n",
       "    <tr>\n",
       "      <th>0</th>\n",
       "      <td>c-user</td>\n",
       "      <td>c-user_mem</td>\n",
       "      <td>[]</td>\n",
       "    </tr>\n",
       "    <tr>\n",
       "      <th>1</th>\n",
       "      <td>s-carts</td>\n",
       "      <td>s-carts_latency</td>\n",
       "      <td>[s-carts_errors, s-carts_throughput, s-carts_l...</td>\n",
       "    </tr>\n",
       "    <tr>\n",
       "      <th>1</th>\n",
       "      <td>c-user</td>\n",
       "      <td>c-user_cpu_user</td>\n",
       "      <td>[c-user_cpu_sys, c-user_cpu_wait]</td>\n",
       "    </tr>\n",
       "    <tr>\n",
       "      <th>1</th>\n",
       "      <td>c-user</td>\n",
       "      <td>c-user_mem</td>\n",
       "      <td>[]</td>\n",
       "    </tr>\n",
       "  </tbody>\n",
       "</table>\n",
       "</div>"
      ],
      "text/plain": [
       "                                                 component       rep_metric  \\\n",
       "dataset_id chaos_type  chaos_comp chaos_case_num                              \n",
       "xxx        pod-cpu-hog user       0                s-carts  s-carts_latency   \n",
       "                                  0                 c-user  c-user_cpu_user   \n",
       "                                  0                 c-user       c-user_mem   \n",
       "                                  1                s-carts  s-carts_latency   \n",
       "                                  1                 c-user  c-user_cpu_user   \n",
       "                                  1                 c-user       c-user_mem   \n",
       "\n",
       "                                                                                        sub_metrics  \n",
       "dataset_id chaos_type  chaos_comp chaos_case_num                                                     \n",
       "xxx        pod-cpu-hog user       0                            [s-carts_errors, s-carts_throughput]  \n",
       "                                  0                               [c-user_cpu_sys, c-user_cpu_wait]  \n",
       "                                  0                                                              []  \n",
       "                                  1               [s-carts_errors, s-carts_throughput, s-carts_l...  \n",
       "                                  1                               [c-user_cpu_sys, c-user_cpu_wait]  \n",
       "                                  1                                                              []  "
      ]
     },
     "execution_count": 32,
     "metadata": {},
     "output_type": "execute_result"
    }
   ],
   "source": [
    "clusters_stats.set_index([\"dataset_id\", \"chaos_type\", \"chaos_comp\", \"chaos_case_num\"], inplace=True)\n",
    "clusters_stats"
   ]
  },
  {
   "cell_type": "code",
   "execution_count": 64,
   "metadata": {},
   "outputs": [
    {
     "data": {
      "text/plain": [
       "dataset_id  chaos_type   chaos_comp  chaos_case_num  component\n",
       "xxx         pod-cpu-hog  user        0               c-user       2\n",
       "                                                     s-carts      1\n",
       "                                     1               c-user       2\n",
       "                                                     s-carts      1\n",
       "dtype: int64"
      ]
     },
     "execution_count": 64,
     "metadata": {},
     "output_type": "execute_result"
    }
   ],
   "source": [
    "# num_clusters\n",
    "num_clusters = clusters_stats.groupby([\"dataset_id\", \"chaos_type\", \"chaos_comp\", \"chaos_case_num\", \"component\"]).size()\n",
    "num_clusters"
   ]
  },
  {
   "cell_type": "code",
   "execution_count": 65,
   "metadata": {},
   "outputs": [
    {
     "data": {
      "text/plain": [
       "dataset_id  chaos_type   chaos_comp  chaos_case_num  component  rep_metric     \n",
       "xxx         pod-cpu-hog  user        0               c-user     c-user_cpu_user    3\n",
       "                                                                c-user_mem         1\n",
       "                                                     s-carts    s-carts_latency    3\n",
       "                                     1               c-user     c-user_cpu_user    3\n",
       "                                                                c-user_mem         1\n",
       "                                                     s-carts    s-carts_latency    4\n",
       "Name: sub_metrics, dtype: int64"
      ]
     },
     "execution_count": 65,
     "metadata": {},
     "output_type": "execute_result"
    }
   ],
   "source": [
    "# cluster size\n",
    "cluster_size = clusters_stats.groupby([\"dataset_id\", \"chaos_type\", \"chaos_comp\", \"chaos_case_num\", \"component\", \"rep_metric\"])[\"sub_metrics\"].apply(lambda x: np.array(x[0]).flatten().size + 1)\n",
    "cluster_size"
   ]
  },
  {
   "cell_type": "code",
   "execution_count": 69,
   "metadata": {},
   "outputs": [
    {
     "data": {
      "text/plain": [
       "{'mean': 1.5, 'std': 0.5773502691896257, 'min': 1.0, 'max': 2.0}"
      ]
     },
     "execution_count": 69,
     "metadata": {},
     "output_type": "execute_result"
    }
   ],
   "source": [
    "num_clusters.agg([\"mean\", \"std\", \"min\", \"max\"]).to_dict()"
   ]
  },
  {
   "cell_type": "code",
   "execution_count": 68,
   "metadata": {},
   "outputs": [
    {
     "data": {
      "text/plain": [
       "mean    2.500000\n",
       "std     1.224745\n",
       "min     1.000000\n",
       "max     4.000000\n",
       "Name: sub_metrics, dtype: float64"
      ]
     },
     "execution_count": 68,
     "metadata": {},
     "output_type": "execute_result"
    }
   ],
   "source": [
    "cluster_size.agg([\"mean\", \"std\", \"min\", \"max\"])"
   ]
  }
 ],
 "metadata": {
  "kernelspec": {
   "display_name": "Python 3 (ipykernel)",
   "language": "python",
   "name": "python3"
  },
  "orig_nbformat": 4
 },
 "nbformat": 4,
 "nbformat_minor": 2
}
