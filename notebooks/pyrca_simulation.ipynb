{
 "cells": [
  {
   "cell_type": "code",
   "execution_count": 1,
   "metadata": {},
   "outputs": [],
   "source": [
    "%reload_ext autoreload\n",
    "%autoreload 2\n"
   ]
  },
  {
   "cell_type": "code",
   "execution_count": 2,
   "metadata": {},
   "outputs": [],
   "source": [
    "import numpy as np\n",
    "import pandas as pd\n",
    "import matplotlib.pyplot as plt\n",
    "import scipy\n",
    "\n",
    "plt.rcParams[\"font.family\"] = \"DejaVu Sans\"\n",
    "plt.rcParams[\"font.size\"] = 7\n",
    "plt.rcParams['xtick.labelsize'] = 8\n",
    "plt.rcParams['ytick.labelsize'] = 8\n",
    "plt.rcParams['xtick.direction'] = 'in'\n",
    "plt.rcParams['ytick.direction'] = 'in'\n",
    "plt.rcParams['axes.linewidth'] = 1.0\n",
    "plt.rcParams['axes.grid'] = True\n"
   ]
  },
  {
   "cell_type": "code",
   "execution_count": 3,
   "metadata": {},
   "outputs": [],
   "source": [
    "import sys\n",
    "sys.path.append('../')\n",
    "sys.path.append('../PyRCA')\n"
   ]
  },
  {
   "cell_type": "code",
   "execution_count": 4,
   "metadata": {},
   "outputs": [
    {
     "ename": "ModuleNotFoundError",
     "evalue": "No module named 'pyrca'",
     "output_type": "error",
     "traceback": [
      "\u001b[0;31m---------------------------------------------------------------------------\u001b[0m",
      "\u001b[0;31mModuleNotFoundError\u001b[0m                       Traceback (most recent call last)",
      "\u001b[0;32m/tmp/ipykernel_1484202/2518797733.py\u001b[0m in \u001b[0;36m<cell line: 0>\u001b[0;34m()\u001b[0m\n\u001b[0;32m----> 1\u001b[0;31m \u001b[0;32mfrom\u001b[0m \u001b[0msimulation\u001b[0m\u001b[0;34m.\u001b[0m\u001b[0msynthetic_data\u001b[0m \u001b[0;32mimport\u001b[0m \u001b[0msweep_and_save_generated_data\u001b[0m\u001b[0;34m\u001b[0m\u001b[0;34m\u001b[0m\u001b[0m\n\u001b[0m\u001b[1;32m      2\u001b[0m \u001b[0;34m\u001b[0m\u001b[0m\n\u001b[1;32m      3\u001b[0m \u001b[0mnum_trials\u001b[0m \u001b[0;34m=\u001b[0m \u001b[0;36m5\u001b[0m\u001b[0;34m\u001b[0m\u001b[0;34m\u001b[0m\u001b[0m\n\u001b[1;32m      4\u001b[0m \u001b[0manomaly_types\u001b[0m \u001b[0;34m=\u001b[0m \u001b[0;34m[\u001b[0m\u001b[0;36m0\u001b[0m\u001b[0;34m,\u001b[0m \u001b[0;36m1\u001b[0m\u001b[0;34m,\u001b[0m \u001b[0;36m2\u001b[0m\u001b[0;34m]\u001b[0m\u001b[0;34m\u001b[0m\u001b[0;34m\u001b[0m\u001b[0m\n\u001b[1;32m      5\u001b[0m \u001b[0mfunc_types\u001b[0m \u001b[0;34m=\u001b[0m \u001b[0;34m[\u001b[0m\u001b[0;34m\"identity\"\u001b[0m\u001b[0;34m]\u001b[0m\u001b[0;31m#\"square\", \"sin\", \"tanh\"]\u001b[0m\u001b[0;34m\u001b[0m\u001b[0;34m\u001b[0m\u001b[0m\n",
      "\u001b[0;32m~/src/github.com/ai4sre/meltria-analyzer/notebooks/../simulation/synthetic_data.py\u001b[0m in \u001b[0;36m<module>\u001b[0;34m\u001b[0m\n\u001b[1;32m      8\u001b[0m \u001b[0;32mimport\u001b[0m \u001b[0mnumpy\u001b[0m \u001b[0;32mas\u001b[0m \u001b[0mnp\u001b[0m\u001b[0;34m\u001b[0m\u001b[0;34m\u001b[0m\u001b[0m\n\u001b[1;32m      9\u001b[0m \u001b[0;32mimport\u001b[0m \u001b[0mpandas\u001b[0m \u001b[0;32mas\u001b[0m \u001b[0mpd\u001b[0m\u001b[0;34m\u001b[0m\u001b[0;34m\u001b[0m\u001b[0m\n\u001b[0;32m---> 10\u001b[0;31m \u001b[0;32mfrom\u001b[0m \u001b[0mpyrca\u001b[0m\u001b[0;34m.\u001b[0m\u001b[0msimulation\u001b[0m \u001b[0;32mimport\u001b[0m \u001b[0mdata_gen\u001b[0m\u001b[0;34m\u001b[0m\u001b[0;34m\u001b[0m\u001b[0m\n\u001b[0m\u001b[1;32m     11\u001b[0m \u001b[0;34m\u001b[0m\u001b[0m\n\u001b[1;32m     12\u001b[0m \u001b[0mlogger\u001b[0m \u001b[0;34m=\u001b[0m \u001b[0mlogging\u001b[0m\u001b[0;34m.\u001b[0m\u001b[0mgetLogger\u001b[0m\u001b[0;34m(\u001b[0m\u001b[0m__name__\u001b[0m\u001b[0;34m)\u001b[0m\u001b[0;34m\u001b[0m\u001b[0;34m\u001b[0m\u001b[0m\n",
      "\u001b[0;31mModuleNotFoundError\u001b[0m: No module named 'pyrca'"
     ]
    }
   ],
   "source": [
    "from simulation.synthetic_data import sweep_and_save_generated_data\n",
    "\n",
    "num_trials = 5\n",
    "anomaly_types = [0, 1, 2]\n",
    "func_types = [\"identity\"]#\"square\", \"sin\", \"tanh\"]\n",
    "noise_types = [\"normal\", \"exponential\", \"uniform\", \"laplace\"]\n",
    "weight_generators = [\"normal\", \"uniform\"]\n",
    "# _VALID_FUNC = [\"identity\", \"square\", \"sin\", \"tanh\"]\n",
    "# _VALID_NOISE = [\"normal\", \"exponential\", \"uniform\", \"laplace\"]\n",
    "# _VALID_WEIGHT = [\"normal\", \"uniform\"]\n",
    "data_scale_params = [\n",
    "    {\"num_node\": 50, \"num_edge\": 100, \"num_normal_samples\": 160, \"num_abnormal_samples\": 20},\n",
    "    {\"num_node\": 50, \"num_edge\": 200, \"num_normal_samples\": 160, \"num_abnormal_samples\": 20},\n",
    "    {\"num_node\": 100, \"num_edge\": 500, \"num_normal_samples\": 160, \"num_abnormal_samples\": 20},\n",
    "    {\"num_node\": 100, \"num_edge\": 750, \"num_normal_samples\": 160, \"num_abnormal_samples\": 20},\n",
    "    # {\"num_node\": 500, \"num_edge\": 5000, \"num_normal_samples\": 160, \"num_abnormal_samples\": 20},\n",
    "    # {\"num_node\": 50, \"num_edge\": 100, \"num_normal_samples\": 480, \"num_abnormal_samples\": 60},\n",
    "    # {\"num_node\": 50, \"num_edge\": 100, \"num_normal_samples\": 60, \"num_abnormal_samples\": 60},\n",
    "    # {\"num_node\": 100, \"num_edge\": 500, \"num_normal_samples\": 160, \"num_abnormal_samples\": 20},\n",
    "    # {\"num_node\": 100, \"num_edge\": 500, \"num_normal_samples\": 480, \"num_abnormal_samples\": 60},\n",
    "    # {\"num_node\": 200, \"num_edge\": 1000, \"num_normal_samples\": 160, \"num_abnormal_samples\": 20},\n",
    "    # {\"num_node\": 500, \"num_edge\": 5000, \"num_normal_samples\": 160, \"num_abnormal_samples\": 20},\n",
    "    # {\"num_node\": 200, \"num_edge\": 1000, \"num_normal_samples\": 480, \"num_abnormal_samples\": 60},\n",
    "    # {\"num_node\": 1200, \"num_edge\": 6000, \"num_normal_samples\": 160, \"num_abnormal_samples\": 80},\n",
    "    # {\"num_node\": 300, \"num_edge\": 600, \"num_normal_samples\": 160, \"num_abnormal_samples\": 20},\n",
    "    # {\"num_node\": 50, \"num_edge\": 100, \"num_normal_samples\": 20, \"num_abnormal_samples\": 20},\n",
    "    # {\"num_node\": 50, \"num_edge\": 100, \"num_normal_samples\": 60, \"num_abnormal_samples\": 60},\n",
    "    # {\"num_node\": 1200, \"num_edge\": 6000, \"num_normal_samples\": 60, \"num_abnormal_samples\": 60},\n",
    "]\n",
    "\n",
    "sweep_and_save_generated_data(\n",
    "    anomaly_types,\n",
    "    data_scale_params,\n",
    "    func_types,\n",
    "    noise_types,\n",
    "    weight_generators,\n",
    "    list(range(1, num_trials+1)),\n",
    ")\n"
   ]
  }
 ],
 "metadata": {
  "kernelspec": {
   "display_name": "Python 3 (ipykernel)",
   "language": "python",
   "name": "python3"
  },
  "language_info": {
   "codemirror_mode": {
    "name": "ipython",
    "version": 3
   },
   "file_extension": ".py",
   "mimetype": "text/x-python",
   "name": "python",
   "nbconvert_exporter": "python",
   "pygments_lexer": "ipython3",
   "version": "3.11.4"
  }
 },
 "nbformat": 4,
 "nbformat_minor": 2
}
