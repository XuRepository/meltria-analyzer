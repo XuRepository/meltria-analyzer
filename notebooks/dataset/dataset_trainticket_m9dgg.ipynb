{
 "cells": [
  {
   "attachments": {},
   "cell_type": "markdown",
   "metadata": {},
   "source": [
    "## Dataset trainticket m9dgg"
   ]
  },
  {
   "cell_type": "code",
   "execution_count": 5,
   "metadata": {},
   "outputs": [],
   "source": [
    "%reload_ext autoreload\n",
    "%autoreload 2"
   ]
  },
  {
   "cell_type": "code",
   "execution_count": 4,
   "metadata": {},
   "outputs": [],
   "source": [
    "DATASET_ID = \"m9dgg\""
   ]
  },
  {
   "cell_type": "code",
   "execution_count": 1,
   "metadata": {},
   "outputs": [],
   "source": [
    "import numpy as np\n",
    "import pandas as pd\n",
    "import matplotlib.pyplot as plt\n",
    "\n",
    "plt.rcParams[\"font.family\"] = \"DejaVu Sans\"\n",
    "plt.rcParams[\"font.size\"] = 7\n",
    "plt.rcParams['xtick.labelsize'] = 8\n",
    "plt.rcParams['ytick.labelsize'] = 8\n",
    "plt.rcParams['xtick.direction'] = 'in'\n",
    "plt.rcParams['ytick.direction'] = 'in'\n",
    "plt.rcParams['axes.linewidth'] = 1.0\n",
    "plt.rcParams['axes.grid'] = True"
   ]
  },
  {
   "cell_type": "code",
   "execution_count": 2,
   "metadata": {},
   "outputs": [],
   "source": [
    "import sys\n",
    "sys.path.append('../../')\n",
    "\n",
    "from tsdr import tsdr\n",
    "from eval import groundtruth\n",
    "from meltria import loader\n",
    "from eval import validation"
   ]
  },
  {
   "cell_type": "code",
   "execution_count": 6,
   "metadata": {},
   "outputs": [],
   "source": [
    "metrics_files = !find \"/datasets/argowf-chaos-{DATASET_ID}/\" -type f -name \"*.json\"\n",
    "records = loader.load_dataset(metrics_files, target_metric_types={\n",
    "        \"containers\": True,\n",
    "        \"services\": True,\n",
    "        \"nodes\": True,\n",
    "        \"middlewares\": True,\n",
    "    },\n",
    "    num_datapoints=4*45, # 45min\n",
    ")"
   ]
  },
  {
   "cell_type": "code",
   "execution_count": 7,
   "metadata": {},
   "outputs": [
    {
     "data": {
      "text/plain": [
       "93"
      ]
     },
     "execution_count": 7,
     "metadata": {},
     "output_type": "execute_result"
    }
   ],
   "source": [
    "len(records)"
   ]
  },
  {
   "cell_type": "code",
   "execution_count": 8,
   "metadata": {},
   "outputs": [],
   "source": [
    "well_injected_records = validation.find_records_detected_anomalies_of_sli(records, faulty_datapoints=4*5, sli_index=0)"
   ]
  },
  {
   "cell_type": "code",
   "execution_count": 9,
   "metadata": {},
   "outputs": [
    {
     "data": {
      "text/plain": [
       "3"
      ]
     },
     "execution_count": 9,
     "metadata": {},
     "output_type": "execute_result"
    }
   ],
   "source": [
    "len(well_injected_records)"
   ]
  },
  {
   "cell_type": "code",
   "execution_count": 10,
   "metadata": {},
   "outputs": [],
   "source": [
    "well_injected_records = validation.find_records_detected_anomalies_of_cause_metrics(well_injected_records, faulty_datapoints=4*5)"
   ]
  },
  {
   "cell_type": "code",
   "execution_count": 11,
   "metadata": {},
   "outputs": [
    {
     "data": {
      "text/plain": [
       "3"
      ]
     },
     "execution_count": 11,
     "metadata": {},
     "output_type": "execute_result"
    }
   ],
   "source": [
    "len(well_injected_records)"
   ]
  },
  {
   "cell_type": "code",
   "execution_count": 15,
   "metadata": {},
   "outputs": [],
   "source": [
    "import sys\n",
    "sys.path.append(\"../\")\n",
    "from notebooklib.save import run_and_save_tsdr_to_each_set, load_tsdr_by_chaos"
   ]
  },
  {
   "cell_type": "code",
   "execution_count": 13,
   "metadata": {},
   "outputs": [],
   "source": [
    "run_and_save_tsdr_to_each_set(\n",
    "    DATASET_ID,\n",
    "    well_injected_records, tsdr_options={\n",
    "        \"step2_clustering_method_name\": \"hierarchy\",\n",
    "        \"step2_hierarchy_dist_threshold\": 0.02,  # should be <1.0 if 'sbd' is specified\n",
    "        \"step2_hierarchy_dist_type\": \"sbd\", # 'sbd' or 'hamming'\n",
    "        \"step2_hierarchy_linkage_method\": \"single\",  # 'single','complete','average','weighted', 'centroid', 'median', 'ward'\n",
    "        \"step2_clustering_series_type\": \"raw\",  # 'raw', 'anomaly_score' or 'binary_anomaly_score'\n",
    "        \"step2_clustering_choice_method\": \"medoid\",  # 'medoid' or 'maxsum'\n",
    "    },\n",
    "    suffix=\"hierarchy-single_sbd_medoid\",\n",
    ")"
   ]
  },
  {
   "cell_type": "code",
   "execution_count": null,
   "metadata": {},
   "outputs": [],
   "source": [
    "run_and_save_tsdr_to_each_set(\n",
    "    DATASET_ID,\n",
    "    well_injected_records, tsdr_options={\n",
    "        \"step2_dbscan_min_pts\": 1,\n",
    "        \"step2_dbscan_dist_type\": \"sbd\",  # 'pearsonr' or 'sbd'\n",
    "        \"step2_dbscan_algorithm\": \"dbscan\",  # 'dbscan' or 'hdbscan'\n",
    "        \"step2_clustering_series_type\": \"raw\",  # 'raw', 'anomaly_score' or 'binary_anomaly_score'\n",
    "        \"step2_clustering_choice_method\": \"medoid\",  # 'medoid' or 'maxsum'\n",
    "    },\n",
    "    suffix=\"fluxrank_sbd_medoid\",\n",
    ")"
   ]
  }
 ],
 "metadata": {
  "kernelspec": {
   "display_name": "Python 3 (ipykernel)",
   "language": "python",
   "name": "python3"
  },
  "language_info": {
   "codemirror_mode": {
    "name": "ipython",
    "version": 3
   },
   "file_extension": ".py",
   "mimetype": "text/x-python",
   "name": "python",
   "nbconvert_exporter": "python",
   "pygments_lexer": "ipython3",
   "version": "3.10.4"
  },
  "orig_nbformat": 4
 },
 "nbformat": 4,
 "nbformat_minor": 2
}
