{
 "cells": [
  {
   "attachments": {},
   "cell_type": "markdown",
   "metadata": {},
   "source": [
    "## Dataset trainticket m9dgg"
   ]
  },
  {
   "cell_type": "code",
   "execution_count": 1,
   "metadata": {},
   "outputs": [],
   "source": [
    "%reload_ext autoreload\n",
    "%autoreload 2"
   ]
  },
  {
   "cell_type": "code",
   "execution_count": 2,
   "metadata": {},
   "outputs": [],
   "source": [
    "DATASET_ID = \"m9dgg\""
   ]
  },
  {
   "cell_type": "code",
   "execution_count": 3,
   "metadata": {},
   "outputs": [],
   "source": [
    "import numpy as np\n",
    "import pandas as pd\n",
    "import matplotlib.pyplot as plt\n",
    "\n",
    "plt.rcParams[\"font.family\"] = \"DejaVu Sans\"\n",
    "plt.rcParams[\"font.size\"] = 7\n",
    "plt.rcParams['xtick.labelsize'] = 8\n",
    "plt.rcParams['ytick.labelsize'] = 8\n",
    "plt.rcParams['xtick.direction'] = 'in'\n",
    "plt.rcParams['ytick.direction'] = 'in'\n",
    "plt.rcParams['axes.linewidth'] = 1.0\n",
    "plt.rcParams['axes.grid'] = True"
   ]
  },
  {
   "cell_type": "code",
   "execution_count": 4,
   "metadata": {},
   "outputs": [],
   "source": [
    "import sys\n",
    "sys.path.append('../../')\n",
    "\n",
    "from tsdr import tsdr\n",
    "from eval import groundtruth\n",
    "from meltria import loader\n",
    "from eval import validation"
   ]
  },
  {
   "cell_type": "code",
   "execution_count": 5,
   "metadata": {},
   "outputs": [],
   "source": [
    "metrics_files = !find \"/datasets/argowf-chaos-{DATASET_ID}/\" -type f -name \"*.json\"\n",
    "records = loader.load_dataset(metrics_files, target_metric_types={\n",
    "        \"containers\": True,\n",
    "        \"services\": True,\n",
    "        \"nodes\": True,\n",
    "        \"middlewares\": True,\n",
    "    },\n",
    "    num_datapoints=4*45, # 45min\n",
    ")"
   ]
  },
  {
   "cell_type": "code",
   "execution_count": 6,
   "metadata": {},
   "outputs": [
    {
     "data": {
      "text/plain": [
       "93"
      ]
     },
     "execution_count": 6,
     "metadata": {},
     "output_type": "execute_result"
    }
   ],
   "source": [
    "len(records)"
   ]
  },
  {
   "cell_type": "code",
   "execution_count": 7,
   "metadata": {},
   "outputs": [],
   "source": [
    "well_injected_records = validation.find_records_detected_anomalies_of_sli(records, faulty_datapoints=4*5)"
   ]
  },
  {
   "cell_type": "code",
   "execution_count": 8,
   "metadata": {},
   "outputs": [
    {
     "data": {
      "text/plain": [
       "52"
      ]
     },
     "execution_count": 8,
     "metadata": {},
     "output_type": "execute_result"
    }
   ],
   "source": [
    "len(well_injected_records)"
   ]
  },
  {
   "cell_type": "code",
   "execution_count": 9,
   "metadata": {},
   "outputs": [],
   "source": [
    "well_injected_records = validation.find_records_detected_anomalies_of_cause_metrics(well_injected_records, faulty_datapoints=4*5)"
   ]
  },
  {
   "cell_type": "code",
   "execution_count": 10,
   "metadata": {},
   "outputs": [
    {
     "data": {
      "text/plain": [
       "52"
      ]
     },
     "execution_count": 10,
     "metadata": {},
     "output_type": "execute_result"
    }
   ],
   "source": [
    "len(well_injected_records)"
   ]
  },
  {
   "cell_type": "code",
   "execution_count": null,
   "metadata": {},
   "outputs": [],
   "source": [
    "record_by_chaos = loader.transform_records_to_dict(well_injected_records)\n",
    "_display = {(chaos_type, chaos_comp, len(records)) for (chaos_type, chaos_comp), records in record_by_chaos.items()}\n",
    "pd.DataFrame(_display, columns=['chaos_type', 'chaos_comp', 'count']).set_index(['chaos_type', 'chaos_comp']).sort_index()"
   ]
  },
  {
   "cell_type": "code",
   "execution_count": 11,
   "metadata": {},
   "outputs": [],
   "source": [
    "from eval.tsdr import sweep_tsdr_and_save_as_cache"
   ]
  },
  {
   "cell_type": "code",
   "execution_count": 18,
   "metadata": {},
   "outputs": [
    {
     "name": "stdout",
     "output_type": "stream",
     "text": [
      "https://app.neptune.ai/yuuk1/tsdr/e/TSDR-163\n"
     ]
    },
    {
     "ename": "",
     "evalue": "",
     "output_type": "error",
     "traceback": [
      "\u001b[1;31mThe Kernel crashed while executing code in the the current cell or a previous cell. Please review the code in the cell(s) to identify a possible cause of the failure. Click <a href='https://aka.ms/vscodeJupyterKernelCrash'>here</a> for more info. View Jupyter <a href='command:jupyter.viewOutput'>log</a> for further details."
     ]
    },
    {
     "ename": "",
     "evalue": "",
     "output_type": "error",
     "traceback": [
      "\u001b[1;31mCanceled future for execute_request message before replies were done"
     ]
    }
   ],
   "source": [
    "import os\n",
    "\n",
    "os.environ[\"TSDR_NEPTUNE_PROJECT\"] = \"yuuk1/tsdr\"\n",
    "\n",
    "sweep_tsdr_and_save_as_cache(\n",
    "    dataset_id=DATASET_ID,\n",
    "    records=well_injected_records,\n",
    "    # use_manually_selected_metrics=[True, False],\n",
    "    use_manually_selected_metrics=[False],\n",
    "    list_of_tsdr_options=[\n",
    "        {\n",
    "            \"enable_unireducer\": False,\n",
    "            \"enable_multireducer\": False,\n",
    "        },\n",
    "        {\n",
    "            \"enable_unireducer\": True,\n",
    "            \"enable_multireducer\": False,\n",
    "            \"step1_method_name\": \"residual_integral\",\n",
    "            \"step1_residual_integral_threshold\": 20,\n",
    "            \"step1_residual_integral_change_start_point\": False,\n",
    "            \"step1_residual_integral_change_start_point_n_sigma\": 3,\n",
    "        },\n",
    "        {\n",
    "            \"enable_unireducer\": False,\n",
    "            \"enable_multireducer\": True,\n",
    "            \"step2_clustering_method_name\": \"dbscan\",\n",
    "            \"step2_dbscan_min_pts\": 2,\n",
    "            \"step2_dbscan_dist_type\": \"sbd\",\n",
    "            \"step2_dbscan_algorithm\": \"hdbscan\",\n",
    "            \"step2_clustering_series_type\": \"raw\",\n",
    "            \"step2_clustering_choice_method\": \"medoid\",\n",
    "        },\n",
    "        {\n",
    "            \"enable_unireducer\": True,\n",
    "            \"enable_multireducer\": True,\n",
    "            \"step1_method_name\": \"residual_integral\",\n",
    "            \"step1_residual_integral_threshold\": 20,\n",
    "            \"step1_residual_integral_change_start_point\": False,\n",
    "            \"step1_residual_integral_change_start_point_n_sigma\": 3,\n",
    "            \"step2_clustering_method_name\": \"dbscan\",\n",
    "            \"step2_dbscan_min_pts\": 2,\n",
    "            \"step2_dbscan_dist_type\": \"sbd\",\n",
    "            \"step2_dbscan_algorithm\": \"hdbscan\",\n",
    "            \"step2_clustering_series_type\": \"raw\",\n",
    "            \"step2_clustering_choice_method\": \"medoid\",\n",
    "        }, {\n",
    "            \"enable_unireducer\": True,\n",
    "            \"enable_multireducer\": True,\n",
    "            \"step1_method_name\": \"residual_integral\",\n",
    "            \"step1_residual_integral_threshold\": 20,\n",
    "            \"step1_residual_integral_change_start_point\": False,\n",
    "            \"step1_residual_integral_change_start_point_n_sigma\": 3,\n",
    "            \"step2_clustering_method_name\": \"hierarchy\",\n",
    "            \"step2_hierarchy_dist_threshold\": 0.02,  # should be <1.0 if 'sbd' is specified\n",
    "            \"step2_hierarchy_dist_type\": \"sbd\", # 'sbd' or 'hamming'\n",
    "            \"step2_hierarchy_linkage_method\": \"single\",  # 'single','complete','average','weighted', 'centroid', 'median', 'ward'\n",
    "            \"step2_clustering_series_type\": \"raw\",  # 'raw', 'anomaly_score' or 'binary_anomaly_score'\n",
    "            \"step2_clustering_choice_method\": \"medoid\",  # 'medoid' or 'maxsum'\n",
    "        }, \n",
    "        {\n",
    "            \"enable_unireducer\": False,\n",
    "            \"enable_multireducer\": True,\n",
    "            \"step2_clustering_method_name\": \"dbscan\",\n",
    "            \"step2_dbscan_min_pts\": 1,\n",
    "            \"step2_dbscan_dist_type\": \"pearsonr\",  # 'pearsonr' or 'sbd'\n",
    "            \"step2_dbscan_algorithm\": \"dbscan\",  # 'dbscan' or 'hdbscan'\n",
    "            \"step2_clustering_series_type\": \"raw\",  # 'raw', 'anomaly_score' or 'binary_anomaly_score'\n",
    "            \"step2_clustering_choice_method\": \"medoid\",  # 'medoid' or 'maxsum'\n",
    "        }, \n",
    "        {\n",
    "            \"enable_unireducer\": True,\n",
    "            \"enable_multireducer\": True,\n",
    "            \"step1_method_name\": \"residual_integral\",\n",
    "            \"step1_residual_integral_threshold\": 20,\n",
    "            \"step1_residual_integral_change_start_point\": False,\n",
    "            \"step1_residual_integral_change_start_point_n_sigma\": 3,\n",
    "            \"step2_clustering_method_name\": \"dbscan\",\n",
    "            \"step2_dbscan_min_pts\": 1,\n",
    "            \"step2_dbscan_dist_type\": \"pearsonr\",  # 'pearsonr' or 'sbd'\n",
    "            \"step2_dbscan_algorithm\": \"dbscan\",  # 'dbscan' or 'hdbscan'\n",
    "            \"step2_clustering_series_type\": \"raw\",  # 'raw', 'anomaly_score' or 'binary_anomaly_score'\n",
    "            \"step2_clustering_choice_method\": \"medoid\",  # 'medoid' or 'maxsum'\n",
    "        }, \n",
    "        {\n",
    "            \"enable_unireducer\": False,\n",
    "            \"enable_multireducer\": True,\n",
    "            \"step1_method_name\": \"residual_integral\",\n",
    "            \"step2_clustering_method_name\": \"dbscan\",\n",
    "            \"step2_dbscan_min_pts\": 1,\n",
    "            \"step2_dbscan_dist_type\": \"sbd\",  # 'pearsonr' or 'sbd'\n",
    "            \"step2_dbscan_algorithm\": \"dbscan\",  # 'dbscan' or 'hdbscan'\n",
    "            \"step2_clustering_series_type\": \"raw\",  # 'raw', 'anomaly_score' or 'binary_anomaly_score'\n",
    "            \"step2_clustering_choice_method\": \"medoid\",  # 'medoid' or 'maxsum'\n",
    "        }, {\n",
    "            \"enable_unireducer\": True,\n",
    "            \"enable_multireducer\": True,\n",
    "            \"step1_method_name\": \"residual_integral\",\n",
    "            \"step1_residual_integral_threshold\": 20,\n",
    "            \"step1_residual_integral_change_start_point\": False,\n",
    "            \"step1_residual_integral_change_start_point_n_sigma\": 3,\n",
    "            \"step2_clustering_method_name\": \"dbscan\",\n",
    "            \"step2_dbscan_min_pts\": 1,\n",
    "            \"step2_dbscan_dist_type\": \"sbd\",  # 'pearsonr' or 'sbd'\n",
    "            \"step2_dbscan_algorithm\": \"dbscan\",  # 'dbscan' or 'hdbscan'\n",
    "            \"step2_clustering_series_type\": \"raw\",  # 'raw', 'anomaly_score' or 'binary_anomaly_score'\n",
    "            \"step2_clustering_choice_method\": \"medoid\",  # 'medoid' or 'maxsum'\n",
    "        }\n",
    "    ],\n",
    ")"
   ]
  },
  {
   "cell_type": "code",
   "execution_count": 15,
   "metadata": {},
   "outputs": [
    {
     "name": "stdout",
     "output_type": "stream",
     "text": [
      "https://app.neptune.ai/yuuk1/tsdr/e/TSDR-165\n",
      "Shutting down background jobs, please wait a moment...\n",
      "Done!\n",
      "Waiting for the remaining 20 operations to synchronize with Neptune. Do not kill this process.\n",
      "All 20 operations synced, thanks for waiting!\n",
      "Explore the metadata in the Neptune app:\n",
      "https://app.neptune.ai/yuuk1/tsdr/e/TSDR-165/metadata\n"
     ]
    }
   ],
   "source": [
    "import os\n",
    "\n",
    "os.environ[\"TSDR_NEPTUNE_PROJECT\"] = \"yuuk1/tsdr\"\n",
    "os.environ[\"NEPTUNE_MODE\"] = \"async\"\n",
    "\n",
    "sweep_tsdr_and_save_as_cache(\n",
    "    dataset_id=DATASET_ID,\n",
    "    records=well_injected_records,\n",
    "    use_manually_selected_metrics=[False],\n",
    "    metric_types_pairs=[{\n",
    "        \"services\": True,\n",
    "        \"containers\": True,\n",
    "        \"middlewares\": True,\n",
    "        \"nodes\": False,\n",
    "    }],\n",
    "    list_of_tsdr_options=[\n",
    "        {\n",
    "            \"enable_unireducer\": True,\n",
    "            \"enable_multireducer\": True,\n",
    "            \"step1_method_name\": \"residual_integral\",\n",
    "            \"step1_residual_integral_threshold\": 20,\n",
    "            \"step1_residual_integral_change_start_point\": False,\n",
    "            \"step1_residual_integral_change_start_point_n_sigma\": 3,\n",
    "            \"step2_clustering_method_name\": \"dbscan\",\n",
    "            \"step2_dbscan_min_pts\": 1,\n",
    "            \"step2_dbscan_dist_type\": \"pearsonr\",  # 'pearsonr' or 'sbd'\n",
    "            \"step2_dbscan_algorithm\": \"dbscan\",  # 'dbscan' or 'hdbscan'\n",
    "            \"step2_clustering_series_type\": \"raw\",  # 'raw', 'anomaly_score' or 'binary_anomaly_score'\n",
    "            \"step2_clustering_choice_method\": \"medoid\",  # 'medoid' or 'maxsum'\n",
    "        }, \n",
    "    ],\n",
    ")"
   ]
  },
  {
   "cell_type": "code",
   "execution_count": 17,
   "metadata": {},
   "outputs": [
    {
     "name": "stdout",
     "output_type": "stream",
     "text": [
      "https://app.neptune.ai/yuuk1/tsdr/e/TSDR-167\n",
      "Shutting down background jobs, please wait a moment...\n",
      "Done!\n",
      "Waiting for the remaining 20 operations to synchronize with Neptune. Do not kill this process.\n",
      "All 20 operations synced, thanks for waiting!\n",
      "Explore the metadata in the Neptune app:\n",
      "https://app.neptune.ai/yuuk1/tsdr/e/TSDR-167/metadata\n"
     ]
    }
   ],
   "source": [
    "import os\n",
    "\n",
    "os.environ[\"TSDR_NEPTUNE_PROJECT\"] = \"yuuk1/tsdr\"\n",
    "os.environ[\"NEPTUNE_MODE\"] = \"async\"\n",
    "\n",
    "sweep_tsdr_and_save_as_cache(\n",
    "    dataset_id=DATASET_ID,\n",
    "    records=well_injected_records,\n",
    "    use_manually_selected_metrics=[False],\n",
    "    metric_types_pairs=[{\n",
    "        \"services\": True,\n",
    "        \"containers\": True,\n",
    "        \"middlewares\": True,\n",
    "        \"nodes\": False,\n",
    "    }],\n",
    "    list_of_tsdr_options=[\n",
    "        {\n",
    "            \"enable_unireducer\": True,\n",
    "            \"enable_multireducer\": True,\n",
    "            \"step1_method_name\": \"residual_integral\",\n",
    "            \"step1_residual_integral_threshold\": 20,\n",
    "            \"step1_residual_integral_change_start_point\": False,\n",
    "            \"step1_residual_integral_change_start_point_n_sigma\": 3,\n",
    "            \"step2_clustering_method_name\": \"dbscan\",\n",
    "            \"step2_dbscan_min_pts\": 2,\n",
    "            \"step2_dbscan_dist_type\": \"pearsonr\",  # 'pearsonr' or 'sbd'\n",
    "            \"step2_dbscan_algorithm\": \"dbscan\",  # 'dbscan' or 'hdbscan'\n",
    "            \"step2_clustering_series_type\": \"raw\",  # 'raw', 'anomaly_score' or 'binary_anomaly_score'\n",
    "            \"step2_clustering_choice_method\": \"medoid\",  # 'medoid' or 'maxsum'\n",
    "        }, \n",
    "    ],\n",
    ")"
   ]
  },
  {
   "attachments": {},
   "cell_type": "markdown",
   "metadata": {},
   "source": [
    "## Change point based clustering"
   ]
  },
  {
   "cell_type": "code",
   "execution_count": 12,
   "metadata": {},
   "outputs": [
    {
     "name": "stderr",
     "output_type": "stream",
     "text": [
      "/home/ubuntu/src/github.com/ai4sre/meltria-analyzer/notebooks/dataset/../../eval/tsdr.py:113: NeptuneWarning: To avoid unintended consumption of logging hours during interactive sessions, the following monitoring options are disabled unless set to 'True' when initializing the run: 'capture_stdout', 'capture_stderr', and 'capture_hardware_metrics'.\n",
      "  run = neptune.init_run(project=os.environ[\"TSDR_NEPTUNE_PROJECT\"])\n"
     ]
    },
    {
     "name": "stdout",
     "output_type": "stream",
     "text": [
      "https://app.neptune.ai/yuuk1/tsdr/e/TSDR-347\n",
      "Shutting down background jobs, please wait a moment...\n",
      "Done!\n",
      "Waiting for the remaining 33 operations to synchronize with Neptune. Do not kill this process.\n",
      "All 33 operations synced, thanks for waiting!\n",
      "Explore the metadata in the Neptune app:\n",
      "https://app.neptune.ai/yuuk1/tsdr/e/TSDR-347/metadata\n",
      "https://app.neptune.ai/yuuk1/tsdr/e/TSDR-348\n",
      "Shutting down background jobs, please wait a moment...\n",
      "Done!\n",
      "Waiting for the remaining 11 operations to synchronize with Neptune. Do not kill this process.\n",
      "All 11 operations synced, thanks for waiting!\n",
      "Explore the metadata in the Neptune app:\n",
      "https://app.neptune.ai/yuuk1/tsdr/e/TSDR-348/metadata\n"
     ]
    }
   ],
   "source": [
    "sweep_tsdr_and_save_as_cache(\n",
    "    dataset_id=DATASET_ID,\n",
    "    records=well_injected_records,\n",
    "    list_of_tsdr_options=[\n",
    "        # {\n",
    "        #     \"enable_unireducer\": False,\n",
    "        #     \"enable_multireducer\": True,\n",
    "        #     # \"step2_enable_smoother\": True,\n",
    "        #     # \"step2_smoother_window_size\": 4,\n",
    "        #     \"step2_clustering_method_name\": \"changepoint\",\n",
    "        #     \"step2_clustering_n_workers\": 1,\n",
    "        #     \"step2_changepoint_n_bkps\": 1,\n",
    "        #     \"step2_changepoint_proba_threshold\": 0.5,\n",
    "        #     \"step2_clustering_choice_method\": \"max_members_changepoint\",\n",
    "        #     \"step2_changepoint_cluster_selection_method\": \"leaf\",\n",
    "        #     \"step2_changepoint_cluster_selection_epsilon\": 3.0,\n",
    "        #     \"step2_changepoint_allow_single_cluster\": True,\n",
    "        #     # \"step2_clustering_choice_method\": \"nearest_sli_changepoint\",\n",
    "        # },\n",
    "        {\n",
    "            \"enable_unireducer\": False,\n",
    "            \"enable_multireducer\": True,\n",
    "            # \"step2_enable_smoother\": True,\n",
    "            # \"step2_smoother_window_size\": 4,\n",
    "            \"step2_clustering_method_name\": \"changepoint-kde\",\n",
    "            \"step2_clustering_n_workers\": 1,\n",
    "            \"step2_changepoint_n_bkps\": 1,\n",
    "            \"step2_changepoint_kde_bandwidth\": 0.1,\n",
    "        },\n",
    "        # {\n",
    "        #     \"enable_unireducer\": False,\n",
    "        #     \"enable_multireducer\": True,\n",
    "        #     \"step2_clustering_method_name\": \"changepoint\",\n",
    "        #     \"step2_changepoint_n_bkps\": 1,\n",
    "        #     \"step2_changepoint_proba_threshold\": 0.5,\n",
    "        # },\n",
    "    ],\n",
    "    # use_manually_selected_metrics=[True, False],\n",
    "    use_manually_selected_metrics=[False],\n",
    ")"
   ]
  },
  {
   "attachments": {},
   "cell_type": "markdown",
   "metadata": {},
   "source": [
    "## root cause canidte "
   ]
  },
  {
   "cell_type": "code",
   "execution_count": 18,
   "metadata": {},
   "outputs": [
    {
     "ename": "KeyError",
     "evalue": "\"['s-ts-ui-dashboard_requests_errors_count', 'm-ts-ui-dashboard_nginx_http_request_duration_seconds'] not in index\"",
     "output_type": "error",
     "traceback": [
      "\u001b[0;31m---------------------------------------------------------------------------\u001b[0m",
      "\u001b[0;31mKeyError\u001b[0m                                  Traceback (most recent call last)",
      "\u001b[0;32m/tmp/ipykernel_3797844/2276536272.py\u001b[0m in \u001b[0;36m<cell line: 3>\u001b[0;34m()\u001b[0m\n\u001b[1;32m      2\u001b[0m \u001b[0;34m\u001b[0m\u001b[0m\n\u001b[1;32m      3\u001b[0m \u001b[0;32mfor\u001b[0m \u001b[0mrecord\u001b[0m \u001b[0;32min\u001b[0m \u001b[0mwell_injected_records\u001b[0m\u001b[0;34m:\u001b[0m\u001b[0;34m\u001b[0m\u001b[0;34m\u001b[0m\u001b[0m\n\u001b[0;32m----> 4\u001b[0;31m     \u001b[0mplot_sli_and_causal_metrics\u001b[0m\u001b[0;34m(\u001b[0m\u001b[0mrecord\u001b[0m\u001b[0;34m.\u001b[0m\u001b[0mdata_df\u001b[0m\u001b[0;34m,\u001b[0m \u001b[0mrecord\u001b[0m\u001b[0;34m,\u001b[0m \u001b[0mstacked\u001b[0m\u001b[0;34m=\u001b[0m\u001b[0;32mTrue\u001b[0m\u001b[0;34m,\u001b[0m \u001b[0mn_metrics_per_graph\u001b[0m\u001b[0;34m=\u001b[0m\u001b[0;36m3\u001b[0m\u001b[0;34m)\u001b[0m\u001b[0;34m\u001b[0m\u001b[0;34m\u001b[0m\u001b[0m\n\u001b[0m",
      "\u001b[0;32m~/src/github.com/ai4sre/meltria-analyzer/notebooks/dataset/../../notebooks/notebooklib/plot.py\u001b[0m in \u001b[0;36mplot_sli_and_causal_metrics\u001b[0;34m(data_df, record, optional_cause, fig_width, graph_height, ncols, stacked, n_metrics_per_graph)\u001b[0m\n\u001b[1;32m     78\u001b[0m     \u001b[0;32massert\u001b[0m \u001b[0mok\u001b[0m\u001b[0;34m,\u001b[0m \u001b[0;34m\"The causal metrics are not correct.\"\u001b[0m\u001b[0;34m\u001b[0m\u001b[0;34m\u001b[0m\u001b[0m\n\u001b[1;32m     79\u001b[0m \u001b[0;34m\u001b[0m\u001b[0m\n\u001b[0;32m---> 80\u001b[0;31m     \u001b[0mdata_df\u001b[0m \u001b[0;34m=\u001b[0m \u001b[0mrecord\u001b[0m\u001b[0;34m.\u001b[0m\u001b[0mdata_df\u001b[0m\u001b[0;34m.\u001b[0m\u001b[0mloc\u001b[0m\u001b[0;34m[\u001b[0m\u001b[0;34m:\u001b[0m\u001b[0;34m,\u001b[0m \u001b[0mroot_metrics\u001b[0m \u001b[0;34m+\u001b[0m \u001b[0mcause_metrics\u001b[0m\u001b[0;34m.\u001b[0m\u001b[0mtolist\u001b[0m\u001b[0;34m(\u001b[0m\u001b[0;34m)\u001b[0m\u001b[0;34m]\u001b[0m\u001b[0;34m\u001b[0m\u001b[0;34m\u001b[0m\u001b[0m\n\u001b[0m\u001b[1;32m     81\u001b[0m     \u001b[0;32mif\u001b[0m \u001b[0mstacked\u001b[0m\u001b[0;34m:\u001b[0m\u001b[0;34m\u001b[0m\u001b[0;34m\u001b[0m\u001b[0m\n\u001b[1;32m     82\u001b[0m         \u001b[0mnrows\u001b[0m \u001b[0;34m=\u001b[0m \u001b[0mmath\u001b[0m\u001b[0;34m.\u001b[0m\u001b[0mceil\u001b[0m\u001b[0;34m(\u001b[0m\u001b[0mdata_df\u001b[0m\u001b[0;34m.\u001b[0m\u001b[0mshape\u001b[0m\u001b[0;34m[\u001b[0m\u001b[0;36m1\u001b[0m\u001b[0;34m]\u001b[0m \u001b[0;34m/\u001b[0m \u001b[0;34m(\u001b[0m\u001b[0mncols\u001b[0m \u001b[0;34m*\u001b[0m \u001b[0mn_metrics_per_graph\u001b[0m\u001b[0;34m)\u001b[0m\u001b[0;34m)\u001b[0m\u001b[0;34m\u001b[0m\u001b[0;34m\u001b[0m\u001b[0m\n",
      "\u001b[0;32m~/src/github.com/ai4sre/meltria-analyzer/.venv/lib/python3.10/site-packages/pandas/core/indexing.py\u001b[0m in \u001b[0;36m__getitem__\u001b[0;34m(self, key)\u001b[0m\n\u001b[1;32m   1065\u001b[0m             \u001b[0;32mif\u001b[0m \u001b[0mself\u001b[0m\u001b[0;34m.\u001b[0m\u001b[0m_is_scalar_access\u001b[0m\u001b[0;34m(\u001b[0m\u001b[0mkey\u001b[0m\u001b[0;34m)\u001b[0m\u001b[0;34m:\u001b[0m\u001b[0;34m\u001b[0m\u001b[0;34m\u001b[0m\u001b[0m\n\u001b[1;32m   1066\u001b[0m                 \u001b[0;32mreturn\u001b[0m \u001b[0mself\u001b[0m\u001b[0;34m.\u001b[0m\u001b[0mobj\u001b[0m\u001b[0;34m.\u001b[0m\u001b[0m_get_value\u001b[0m\u001b[0;34m(\u001b[0m\u001b[0;34m*\u001b[0m\u001b[0mkey\u001b[0m\u001b[0;34m,\u001b[0m \u001b[0mtakeable\u001b[0m\u001b[0;34m=\u001b[0m\u001b[0mself\u001b[0m\u001b[0;34m.\u001b[0m\u001b[0m_takeable\u001b[0m\u001b[0;34m)\u001b[0m\u001b[0;34m\u001b[0m\u001b[0;34m\u001b[0m\u001b[0m\n\u001b[0;32m-> 1067\u001b[0;31m             \u001b[0;32mreturn\u001b[0m \u001b[0mself\u001b[0m\u001b[0;34m.\u001b[0m\u001b[0m_getitem_tuple\u001b[0m\u001b[0;34m(\u001b[0m\u001b[0mkey\u001b[0m\u001b[0;34m)\u001b[0m\u001b[0;34m\u001b[0m\u001b[0;34m\u001b[0m\u001b[0m\n\u001b[0m\u001b[1;32m   1068\u001b[0m         \u001b[0;32melse\u001b[0m\u001b[0;34m:\u001b[0m\u001b[0;34m\u001b[0m\u001b[0;34m\u001b[0m\u001b[0m\n\u001b[1;32m   1069\u001b[0m             \u001b[0;31m# we by definition only have the 0th axis\u001b[0m\u001b[0;34m\u001b[0m\u001b[0;34m\u001b[0m\u001b[0m\n",
      "\u001b[0;32m~/src/github.com/ai4sre/meltria-analyzer/.venv/lib/python3.10/site-packages/pandas/core/indexing.py\u001b[0m in \u001b[0;36m_getitem_tuple\u001b[0;34m(self, tup)\u001b[0m\n\u001b[1;32m   1254\u001b[0m             \u001b[0;32mreturn\u001b[0m \u001b[0mself\u001b[0m\u001b[0;34m.\u001b[0m\u001b[0m_multi_take\u001b[0m\u001b[0;34m(\u001b[0m\u001b[0mtup\u001b[0m\u001b[0;34m)\u001b[0m\u001b[0;34m\u001b[0m\u001b[0;34m\u001b[0m\u001b[0m\n\u001b[1;32m   1255\u001b[0m \u001b[0;34m\u001b[0m\u001b[0m\n\u001b[0;32m-> 1256\u001b[0;31m         \u001b[0;32mreturn\u001b[0m \u001b[0mself\u001b[0m\u001b[0;34m.\u001b[0m\u001b[0m_getitem_tuple_same_dim\u001b[0m\u001b[0;34m(\u001b[0m\u001b[0mtup\u001b[0m\u001b[0;34m)\u001b[0m\u001b[0;34m\u001b[0m\u001b[0;34m\u001b[0m\u001b[0m\n\u001b[0m\u001b[1;32m   1257\u001b[0m \u001b[0;34m\u001b[0m\u001b[0m\n\u001b[1;32m   1258\u001b[0m     \u001b[0;32mdef\u001b[0m \u001b[0m_get_label\u001b[0m\u001b[0;34m(\u001b[0m\u001b[0mself\u001b[0m\u001b[0;34m,\u001b[0m \u001b[0mlabel\u001b[0m\u001b[0;34m,\u001b[0m \u001b[0maxis\u001b[0m\u001b[0;34m:\u001b[0m \u001b[0mint\u001b[0m\u001b[0;34m)\u001b[0m\u001b[0;34m:\u001b[0m\u001b[0;34m\u001b[0m\u001b[0;34m\u001b[0m\u001b[0m\n",
      "\u001b[0;32m~/src/github.com/ai4sre/meltria-analyzer/.venv/lib/python3.10/site-packages/pandas/core/indexing.py\u001b[0m in \u001b[0;36m_getitem_tuple_same_dim\u001b[0;34m(self, tup)\u001b[0m\n\u001b[1;32m    922\u001b[0m                 \u001b[0;32mcontinue\u001b[0m\u001b[0;34m\u001b[0m\u001b[0;34m\u001b[0m\u001b[0m\n\u001b[1;32m    923\u001b[0m \u001b[0;34m\u001b[0m\u001b[0m\n\u001b[0;32m--> 924\u001b[0;31m             \u001b[0mretval\u001b[0m \u001b[0;34m=\u001b[0m \u001b[0mgetattr\u001b[0m\u001b[0;34m(\u001b[0m\u001b[0mretval\u001b[0m\u001b[0;34m,\u001b[0m \u001b[0mself\u001b[0m\u001b[0;34m.\u001b[0m\u001b[0mname\u001b[0m\u001b[0;34m)\u001b[0m\u001b[0;34m.\u001b[0m\u001b[0m_getitem_axis\u001b[0m\u001b[0;34m(\u001b[0m\u001b[0mkey\u001b[0m\u001b[0;34m,\u001b[0m \u001b[0maxis\u001b[0m\u001b[0;34m=\u001b[0m\u001b[0mi\u001b[0m\u001b[0;34m)\u001b[0m\u001b[0;34m\u001b[0m\u001b[0;34m\u001b[0m\u001b[0m\n\u001b[0m\u001b[1;32m    925\u001b[0m             \u001b[0;31m# We should never have retval.ndim < self.ndim, as that should\u001b[0m\u001b[0;34m\u001b[0m\u001b[0;34m\u001b[0m\u001b[0m\n\u001b[1;32m    926\u001b[0m             \u001b[0;31m#  be handled by the _getitem_lowerdim call above.\u001b[0m\u001b[0;34m\u001b[0m\u001b[0;34m\u001b[0m\u001b[0m\n",
      "\u001b[0;32m~/src/github.com/ai4sre/meltria-analyzer/.venv/lib/python3.10/site-packages/pandas/core/indexing.py\u001b[0m in \u001b[0;36m_getitem_axis\u001b[0;34m(self, key, axis)\u001b[0m\n\u001b[1;32m   1299\u001b[0m                     \u001b[0;32mraise\u001b[0m \u001b[0mValueError\u001b[0m\u001b[0;34m(\u001b[0m\u001b[0;34m\"Cannot index with multidimensional key\"\u001b[0m\u001b[0;34m)\u001b[0m\u001b[0;34m\u001b[0m\u001b[0;34m\u001b[0m\u001b[0m\n\u001b[1;32m   1300\u001b[0m \u001b[0;34m\u001b[0m\u001b[0m\n\u001b[0;32m-> 1301\u001b[0;31m                 \u001b[0;32mreturn\u001b[0m \u001b[0mself\u001b[0m\u001b[0;34m.\u001b[0m\u001b[0m_getitem_iterable\u001b[0m\u001b[0;34m(\u001b[0m\u001b[0mkey\u001b[0m\u001b[0;34m,\u001b[0m \u001b[0maxis\u001b[0m\u001b[0;34m=\u001b[0m\u001b[0maxis\u001b[0m\u001b[0;34m)\u001b[0m\u001b[0;34m\u001b[0m\u001b[0;34m\u001b[0m\u001b[0m\n\u001b[0m\u001b[1;32m   1302\u001b[0m \u001b[0;34m\u001b[0m\u001b[0m\n\u001b[1;32m   1303\u001b[0m             \u001b[0;31m# nested tuple slicing\u001b[0m\u001b[0;34m\u001b[0m\u001b[0;34m\u001b[0m\u001b[0m\n",
      "\u001b[0;32m~/src/github.com/ai4sre/meltria-analyzer/.venv/lib/python3.10/site-packages/pandas/core/indexing.py\u001b[0m in \u001b[0;36m_getitem_iterable\u001b[0;34m(self, key, axis)\u001b[0m\n\u001b[1;32m   1237\u001b[0m \u001b[0;34m\u001b[0m\u001b[0m\n\u001b[1;32m   1238\u001b[0m         \u001b[0;31m# A collection of keys\u001b[0m\u001b[0;34m\u001b[0m\u001b[0;34m\u001b[0m\u001b[0m\n\u001b[0;32m-> 1239\u001b[0;31m         \u001b[0mkeyarr\u001b[0m\u001b[0;34m,\u001b[0m \u001b[0mindexer\u001b[0m \u001b[0;34m=\u001b[0m \u001b[0mself\u001b[0m\u001b[0;34m.\u001b[0m\u001b[0m_get_listlike_indexer\u001b[0m\u001b[0;34m(\u001b[0m\u001b[0mkey\u001b[0m\u001b[0;34m,\u001b[0m \u001b[0maxis\u001b[0m\u001b[0;34m)\u001b[0m\u001b[0;34m\u001b[0m\u001b[0;34m\u001b[0m\u001b[0m\n\u001b[0m\u001b[1;32m   1240\u001b[0m         return self.obj._reindex_with_indexers(\n\u001b[1;32m   1241\u001b[0m             \u001b[0;34m{\u001b[0m\u001b[0maxis\u001b[0m\u001b[0;34m:\u001b[0m \u001b[0;34m[\u001b[0m\u001b[0mkeyarr\u001b[0m\u001b[0;34m,\u001b[0m \u001b[0mindexer\u001b[0m\u001b[0;34m]\u001b[0m\u001b[0;34m}\u001b[0m\u001b[0;34m,\u001b[0m \u001b[0mcopy\u001b[0m\u001b[0;34m=\u001b[0m\u001b[0;32mTrue\u001b[0m\u001b[0;34m,\u001b[0m \u001b[0mallow_dups\u001b[0m\u001b[0;34m=\u001b[0m\u001b[0;32mTrue\u001b[0m\u001b[0;34m\u001b[0m\u001b[0;34m\u001b[0m\u001b[0m\n",
      "\u001b[0;32m~/src/github.com/ai4sre/meltria-analyzer/.venv/lib/python3.10/site-packages/pandas/core/indexing.py\u001b[0m in \u001b[0;36m_get_listlike_indexer\u001b[0;34m(self, key, axis)\u001b[0m\n\u001b[1;32m   1430\u001b[0m         \u001b[0maxis_name\u001b[0m \u001b[0;34m=\u001b[0m \u001b[0mself\u001b[0m\u001b[0;34m.\u001b[0m\u001b[0mobj\u001b[0m\u001b[0;34m.\u001b[0m\u001b[0m_get_axis_name\u001b[0m\u001b[0;34m(\u001b[0m\u001b[0maxis\u001b[0m\u001b[0;34m)\u001b[0m\u001b[0;34m\u001b[0m\u001b[0;34m\u001b[0m\u001b[0m\n\u001b[1;32m   1431\u001b[0m \u001b[0;34m\u001b[0m\u001b[0m\n\u001b[0;32m-> 1432\u001b[0;31m         \u001b[0mkeyarr\u001b[0m\u001b[0;34m,\u001b[0m \u001b[0mindexer\u001b[0m \u001b[0;34m=\u001b[0m \u001b[0max\u001b[0m\u001b[0;34m.\u001b[0m\u001b[0m_get_indexer_strict\u001b[0m\u001b[0;34m(\u001b[0m\u001b[0mkey\u001b[0m\u001b[0;34m,\u001b[0m \u001b[0maxis_name\u001b[0m\u001b[0;34m)\u001b[0m\u001b[0;34m\u001b[0m\u001b[0;34m\u001b[0m\u001b[0m\n\u001b[0m\u001b[1;32m   1433\u001b[0m \u001b[0;34m\u001b[0m\u001b[0m\n\u001b[1;32m   1434\u001b[0m         \u001b[0;32mreturn\u001b[0m \u001b[0mkeyarr\u001b[0m\u001b[0;34m,\u001b[0m \u001b[0mindexer\u001b[0m\u001b[0;34m\u001b[0m\u001b[0;34m\u001b[0m\u001b[0m\n",
      "\u001b[0;32m~/src/github.com/ai4sre/meltria-analyzer/.venv/lib/python3.10/site-packages/pandas/core/indexes/base.py\u001b[0m in \u001b[0;36m_get_indexer_strict\u001b[0;34m(self, key, axis_name)\u001b[0m\n\u001b[1;32m   6068\u001b[0m             \u001b[0mkeyarr\u001b[0m\u001b[0;34m,\u001b[0m \u001b[0mindexer\u001b[0m\u001b[0;34m,\u001b[0m \u001b[0mnew_indexer\u001b[0m \u001b[0;34m=\u001b[0m \u001b[0mself\u001b[0m\u001b[0;34m.\u001b[0m\u001b[0m_reindex_non_unique\u001b[0m\u001b[0;34m(\u001b[0m\u001b[0mkeyarr\u001b[0m\u001b[0;34m)\u001b[0m\u001b[0;34m\u001b[0m\u001b[0;34m\u001b[0m\u001b[0m\n\u001b[1;32m   6069\u001b[0m \u001b[0;34m\u001b[0m\u001b[0m\n\u001b[0;32m-> 6070\u001b[0;31m         \u001b[0mself\u001b[0m\u001b[0;34m.\u001b[0m\u001b[0m_raise_if_missing\u001b[0m\u001b[0;34m(\u001b[0m\u001b[0mkeyarr\u001b[0m\u001b[0;34m,\u001b[0m \u001b[0mindexer\u001b[0m\u001b[0;34m,\u001b[0m \u001b[0maxis_name\u001b[0m\u001b[0;34m)\u001b[0m\u001b[0;34m\u001b[0m\u001b[0;34m\u001b[0m\u001b[0m\n\u001b[0m\u001b[1;32m   6071\u001b[0m \u001b[0;34m\u001b[0m\u001b[0m\n\u001b[1;32m   6072\u001b[0m         \u001b[0mkeyarr\u001b[0m \u001b[0;34m=\u001b[0m \u001b[0mself\u001b[0m\u001b[0;34m.\u001b[0m\u001b[0mtake\u001b[0m\u001b[0;34m(\u001b[0m\u001b[0mindexer\u001b[0m\u001b[0;34m)\u001b[0m\u001b[0;34m\u001b[0m\u001b[0;34m\u001b[0m\u001b[0m\n",
      "\u001b[0;32m~/src/github.com/ai4sre/meltria-analyzer/.venv/lib/python3.10/site-packages/pandas/core/indexes/base.py\u001b[0m in \u001b[0;36m_raise_if_missing\u001b[0;34m(self, key, indexer, axis_name)\u001b[0m\n\u001b[1;32m   6131\u001b[0m \u001b[0;34m\u001b[0m\u001b[0m\n\u001b[1;32m   6132\u001b[0m             \u001b[0mnot_found\u001b[0m \u001b[0;34m=\u001b[0m \u001b[0mlist\u001b[0m\u001b[0;34m(\u001b[0m\u001b[0mensure_index\u001b[0m\u001b[0;34m(\u001b[0m\u001b[0mkey\u001b[0m\u001b[0;34m)\u001b[0m\u001b[0;34m[\u001b[0m\u001b[0mmissing_mask\u001b[0m\u001b[0;34m.\u001b[0m\u001b[0mnonzero\u001b[0m\u001b[0;34m(\u001b[0m\u001b[0;34m)\u001b[0m\u001b[0;34m[\u001b[0m\u001b[0;36m0\u001b[0m\u001b[0;34m]\u001b[0m\u001b[0;34m]\u001b[0m\u001b[0;34m.\u001b[0m\u001b[0munique\u001b[0m\u001b[0;34m(\u001b[0m\u001b[0;34m)\u001b[0m\u001b[0;34m)\u001b[0m\u001b[0;34m\u001b[0m\u001b[0;34m\u001b[0m\u001b[0m\n\u001b[0;32m-> 6133\u001b[0;31m             \u001b[0;32mraise\u001b[0m \u001b[0mKeyError\u001b[0m\u001b[0;34m(\u001b[0m\u001b[0;34mf\"{not_found} not in index\"\u001b[0m\u001b[0;34m)\u001b[0m\u001b[0;34m\u001b[0m\u001b[0;34m\u001b[0m\u001b[0m\n\u001b[0m\u001b[1;32m   6134\u001b[0m \u001b[0;34m\u001b[0m\u001b[0m\n\u001b[1;32m   6135\u001b[0m     \u001b[0;34m@\u001b[0m\u001b[0moverload\u001b[0m\u001b[0;34m\u001b[0m\u001b[0;34m\u001b[0m\u001b[0m\n",
      "\u001b[0;31mKeyError\u001b[0m: \"['s-ts-ui-dashboard_requests_errors_count', 'm-ts-ui-dashboard_nginx_http_request_duration_seconds'] not in index\""
     ]
    }
   ],
   "source": [
    "from notebooks.notebooklib.plot import plot_sli_and_causal_metrics\n",
    "import logging\n",
    "\n",
    "for record in well_injected_records:\n",
    "    logging.info(f\"Plotting {record.chaos_case_full}\")\n",
    "    plot_sli_and_causal_metrics(record.data_df, record, stacked=True, n_metrics_per_graph=3)"
   ]
  }
 ],
 "metadata": {
  "kernelspec": {
   "display_name": "Python 3 (ipykernel)",
   "language": "python",
   "name": "python3"
  },
  "orig_nbformat": 4
 },
 "nbformat": 4,
 "nbformat_minor": 2
}
