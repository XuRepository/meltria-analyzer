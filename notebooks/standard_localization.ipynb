{
 "cells": [
  {
   "attachments": {},
   "cell_type": "markdown",
   "metadata": {},
   "source": [
    "# Evaluation of Standard Localization methods"
   ]
  },
  {
   "cell_type": "code",
   "execution_count": 1,
   "metadata": {},
   "outputs": [],
   "source": [
    "%reload_ext autoreload\n",
    "%autoreload 2"
   ]
  },
  {
   "cell_type": "code",
   "execution_count": 2,
   "metadata": {},
   "outputs": [],
   "source": [
    "SOCKSHOP_DATASET_ID = \"9n6mf\""
   ]
  },
  {
   "cell_type": "code",
   "execution_count": 3,
   "metadata": {},
   "outputs": [],
   "source": [
    "import numpy as np\n",
    "import pandas as pd\n",
    "import matplotlib.pyplot as plt\n",
    "import scipy\n",
    "\n",
    "plt.rcParams[\"font.family\"] = \"DejaVu Sans\"\n",
    "plt.rcParams[\"font.size\"] = 7\n",
    "plt.rcParams['xtick.labelsize'] = 8\n",
    "plt.rcParams['ytick.labelsize'] = 8\n",
    "plt.rcParams['xtick.direction'] = 'in'\n",
    "plt.rcParams['ytick.direction'] = 'in'\n",
    "plt.rcParams['axes.linewidth'] = 1.0\n",
    "plt.rcParams['axes.grid'] = True"
   ]
  },
  {
   "cell_type": "code",
   "execution_count": 4,
   "metadata": {},
   "outputs": [],
   "source": [
    "import sys\n",
    "sys.path.append('../')"
   ]
  },
  {
   "cell_type": "code",
   "execution_count": 5,
   "metadata": {},
   "outputs": [],
   "source": [
    "from eval.tsdr import load_tsdr_by_chaos\n",
    "\n",
    "dataset_by_chaos = load_tsdr_by_chaos(\n",
    "    SOCKSHOP_DATASET_ID, \n",
    "    metric_types={\n",
    "        \"services\": True,\n",
    "        \"containers\": True,\n",
    "        \"middlewares\": True,\n",
    "        \"nodes\": False,\n",
    "    },\n",
    "    revert_normalized_time_series=False,\n",
    "    tsdr_options={\n",
    "        \"enable_unireducer\": False,\n",
    "        \"enable_multireducer\": False,\n",
    "    },\n",
    "    target_chaos_types={\"pod-cpu-hog\", \"pod-memory-hog\", \"pod-network-latency\"},\n",
    "    use_manually_selected_metrics=False,\n",
    "    validation_filtering=(True, 4*5)\n",
    ")"
   ]
  },
  {
   "cell_type": "code",
   "execution_count": 31,
   "metadata": {},
   "outputs": [
    {
     "name": "stdout",
     "output_type": "stream",
     "text": [
      "carts/pod-cpu-hog/3\n"
     ]
    },
    {
     "data": {
      "text/plain": [
       "(180, 183)"
      ]
     },
     "execution_count": 31,
     "metadata": {},
     "output_type": "execute_result"
    }
   ],
   "source": [
    "import pandas as pd\n",
    "\n",
    "record, data_df_by_metric_type = dataset_by_chaos[(\"pod-cpu-hog\", \"carts\")][0]\n",
    "print(record.chaos_case_full())\n",
    "dataset = pd.concat([\n",
    "    data_df_by_metric_type[\"containers\"][0],\n",
    "    data_df_by_metric_type[\"services\"][0],\n",
    "    # data_df_by_metric_type[\"middlewares\"][0],\n",
    "], axis=1)\n",
    "dataset.shape"
   ]
  },
  {
   "cell_type": "code",
   "execution_count": 41,
   "metadata": {},
   "outputs": [],
   "source": [
    "from joblib import Parallel, delayed\n",
    "from collections import defaultdict\n",
    "\n",
    "from diagnoser import diag\n",
    "\n",
    "results = Parallel(n_jobs=10)(delayed(diag.build_and_walk_causal_graph)(\n",
    "    dataset, record.pk, \n",
    "    root_metric_type=\"latency\",\n",
    "    enable_prior_knowledge=True,\n",
    "    use_call_graph=False,\n",
    "    use_complete_graph=False,\n",
    "    pc_library=\"causallearn\",\n",
    "    cg_algo=\"pc\",\n",
    "    pc_citest=\"gsq\",\n",
    "    pc_citest_alpha=0.10,\n",
    "    pc_citest_bins=5,\n",
    "    pc_stable=False,\n",
    "    disable_orientation=False,\n",
    "    disable_ci_edge_cut=False,\n",
    "    use_indep_test_instead_of_ci=False,\n",
    "    walk_method=\"monitorrank\",\n",
    "    corr_method=\"left_shift\",\n",
    "    corr_left_shift_lp=5,\n",
    ") for _ in range(10))"
   ]
  },
  {
   "cell_type": "code",
   "execution_count": 42,
   "metadata": {},
   "outputs": [
    {
     "data": {
      "text/plain": [
       "[('s-orders_throughput', 0.9),\n",
       " ('s-shipping_throughput', 0.9),\n",
       " ('s-front-end_throughput', 0.9),\n",
       " ('s-front-end_errors', 0.6),\n",
       " ('c-carts-db_cpu_cfs_throttled_periods_total', 0.4),\n",
       " ('c-carts-db_memory_working_set_bytes', 0.3),\n",
       " ('c-carts-db_memory_rss', 0.3),\n",
       " ('s-user_latency', 0.2),\n",
       " ('c-orders-db_network_receive_bytes_total', 0.2),\n",
       " ('s-orders_latency', 0.1),\n",
       " ('c-orders-db_memory_working_set_bytes', 0.1),\n",
       " ('c-carts_threads', 0.1)]"
      ]
     },
     "execution_count": 42,
     "metadata": {},
     "output_type": "execute_result"
    }
   ],
   "source": [
    "k = 5\n",
    "scores: dict[str, int] = defaultdict(int)\n",
    "for g, ranks in results:\n",
    "    for m, r in ranks[:k]:\n",
    "        scores[m] += 1\n",
    "sorted([(metric, n / 10) for (metric, n) in scores.items()], key=lambda x: x[1], reverse=True)"
   ]
  }
 ],
 "metadata": {
  "kernelspec": {
   "display_name": "Python 3 (ipykernel)",
   "language": "python",
   "name": "python3"
  },
  "language_info": {
   "codemirror_mode": {
    "name": "ipython",
    "version": 3
   },
   "file_extension": ".py",
   "mimetype": "text/x-python",
   "name": "python",
   "nbconvert_exporter": "python",
   "pygments_lexer": "ipython3",
   "version": "3.10.4"
  },
  "orig_nbformat": 4
 },
 "nbformat": 4,
 "nbformat_minor": 2
}
