{
 "cells": [
  {
   "cell_type": "markdown",
   "metadata": {},
   "source": [
    "# trian and error for detecting liner trending"
   ]
  },
  {
   "cell_type": "code",
   "execution_count": 2,
   "metadata": {},
   "outputs": [
    {
     "data": {
      "text/plain": [
       "[<matplotlib.lines.Line2D at 0x7fd41af747c0>]"
      ]
     },
     "execution_count": 2,
     "metadata": {},
     "output_type": "execute_result"
    },
    {
     "data": {
      "image/png": "[encoded data removed]",
      "text/plain": [
       "<Figure size 432x288 with 1 Axes>"
      ]
     },
     "metadata": {
      "needs_background": "light"
     },
     "output_type": "display_data"
    }
   ],
   "source": [
    "\n",
    "import os\n",
    "import sys\n",
    "import warnings\n",
    "warnings.filterwarnings('ignore')\n",
    "\n",
    "import matplotlib.pyplot as plt\n",
    "import numpy as np\n",
    "from statsmodels.tsa.stattools import adfuller\n",
    "\n",
    "sys.path.append('../')\n",
    "import lib.metrics\n",
    "from tsdr import tsdr\n",
    "\n",
    "# retrieved metrics\n",
    "filepath = '/datasets/argowf-chaos-hg68n/2021-12-09-argowf-chaos-hg68n-user-db_pod-cpu-hog_0.json'\n",
    "data_df, _, metrics_meta = tsdr.read_metrics_json(filepath)\n",
    "series = data_df['c-catalogue_last_seen'].to_numpy()\n",
    "plt.plot(series)"
   ]
  },
  {
   "cell_type": "code",
   "execution_count": 9,
   "metadata": {},
   "outputs": [
    {
     "name": "stdout",
     "output_type": "stream",
     "text": [
      "0.9982042850\n"
     ]
    }
   ],
   "source": [
    "print(f\"{adfuller(series, regression='c')[1]:.10f}\") # p_value"
   ]
  },
  {
   "cell_type": "code",
   "execution_count": 8,
   "metadata": {},
   "outputs": [
    {
     "name": "stdout",
     "output_type": "stream",
     "text": [
      "1.0000000000\n"
     ]
    }
   ],
   "source": [
    "print(f\"{adfuller(series, regression='c', maxlag=1, autolag=None)[1]:.10f}\") # p_value\n"
   ]
  },
  {
   "cell_type": "code",
   "execution_count": 7,
   "metadata": {},
   "outputs": [
    {
     "name": "stdout",
     "output_type": "stream",
     "text": [
      "1.0000000000\n"
     ]
    }
   ],
   "source": [
    "print(f\"{adfuller(series, regression='ct', maxlag=1, autolag=None)[1]:.10f}\") # p_value"
   ]
  },
  {
   "cell_type": "code",
   "execution_count": 10,
   "metadata": {},
   "outputs": [
    {
     "name": "stdout",
     "output_type": "stream",
     "text": [
      "1.0000000000\n"
     ]
    }
   ],
   "source": [
    "print(f\"{adfuller(series, regression='ctt', maxlag=1, autolag=None)[1]:.10f}\") # p_value"
   ]
  },
  {
   "cell_type": "code",
   "execution_count": 12,
   "metadata": {},
   "outputs": [
    {
     "name": "stdout",
     "output_type": "stream",
     "text": [
      "1.0000000000\n"
     ]
    }
   ],
   "source": [
    "print(f\"{adfuller(series, regression='nc', maxlag=1, autolag=None)[1]:.10f}\") # p_value"
   ]
  },
  {
   "cell_type": "code",
   "execution_count": 17,
   "metadata": {},
   "outputs": [
    {
     "name": "stdout",
     "output_type": "stream",
     "text": [
      "0.9803961677\n"
     ]
    }
   ],
   "source": [
    "print(f\"{adfuller(series, regression='nc', autolag='AIC')[1]:.10f}\") # p_value"
   ]
  },
  {
   "cell_type": "code",
   "execution_count": 18,
   "metadata": {},
   "outputs": [
    {
     "name": "stdout",
     "output_type": "stream",
     "text": [
      "0.0000000000\n"
     ]
    }
   ],
   "source": [
    "print(f\"{adfuller(np.diff(series), regression='c', maxlag=1, autolag=None)[1]:.10f}\") # p_value\n",
    "np.diff(series)"
   ]
  }
 ],
 "metadata": {
  "interpreter": {
   "hash": "10af311f55de40e8e2b5066231383d9f1c60e9dfe97e5139dcf83292c8af81d4"
  },
  "kernelspec": {
   "display_name": "Python 3.9.5 64-bit ('.venv': poetry)",
   "language": "python",
   "name": "python3"
  },
  "language_info": {
   "codemirror_mode": {
    "name": "ipython",
    "version": 3
   },
   "file_extension": ".py",
   "mimetype": "text/x-python",
   "name": "python",
   "nbconvert_exporter": "python",
   "pygments_lexer": "ipython3",
   "version": "3.9.5"
  },
  "orig_nbformat": 4
 },
 "nbformat": 4,
 "nbformat_minor": 2
}
