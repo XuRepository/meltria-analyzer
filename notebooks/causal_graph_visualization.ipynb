{
 "cells": [
  {
   "cell_type": "markdown",
   "metadata": {},
   "source": [
    "# Causal Graph Visualization\n",
    "\n",
    "- Bokeh"
   ]
  },
  {
   "cell_type": "code",
   "execution_count": 1,
   "metadata": {},
   "outputs": [
    {
     "data": {
      "text/html": [
       "\n",
       "    <div class=\"bk-root\">\n",
       "        <a href=\"https://bokeh.org\" target=\"_blank\" class=\"bk-logo bk-logo-small bk-logo-notebook\"></a>\n",
       "        <span id=\"1002\">Loading BokehJS ...</span>\n",
       "    </div>"
      ]
     },
     "metadata": {},
     "output_type": "display_data"
    },
    {
     "data": {
      "application/javascript": "\n(function(root) {\n  function now() {\n    return new Date();\n  }\n\n  const force = true;\n\n  if (typeof root._bokeh_onload_callbacks === \"undefined\" || force === true) {\n    root._bokeh_onload_callbacks = [];\n    root._bokeh_is_loading = undefined;\n  }\n\n  const JS_MIME_TYPE = 'application/javascript';\n  const HTML_MIME_TYPE = 'text/html';\n  const EXEC_MIME_TYPE = 'application/vnd.bokehjs_exec.v0+json';\n  const CLASS_NAME = 'output_bokeh rendered_html';\n\n  /**\n   * Render data to the DOM node\n   */\n  function render(props, node) {\n    const script = document.createElement(\"script\");\n    node.appendChild(script);\n  }\n\n  /**\n   * Handle when an output is cleared or removed\n   */\n  function handleClearOutput(event, handle) {\n    const cell = handle.cell;\n\n    const id = cell.output_area._bokeh_element_id;\n    const server_id = cell.output_area._bokeh_server_id;\n    // Clean up Bokeh references\n    if (id != null && id in Bokeh.index) {\n      Bokeh.index[id].model.document.clear();\n      delete Bokeh.index[id];\n    }\n\n    if (server_id !== undefined) {\n      // Clean up Bokeh references\n      const cmd_clean = \"from bokeh.io.state import curstate; print(curstate().uuid_to_server['\" + server_id + \"'].get_sessions()[0].document.roots[0]._id)\";\n      cell.notebook.kernel.execute(cmd_clean, {\n        iopub: {\n          output: function(msg) {\n            const id = msg.content.text.trim();\n            if (id in Bokeh.index) {\n              Bokeh.index[id].model.document.clear();\n              delete Bokeh.index[id];\n            }\n          }\n        }\n      });\n      // Destroy server and session\n      const cmd_destroy = \"import bokeh.io.notebook as ion; ion.destroy_server('\" + server_id + \"')\";\n      cell.notebook.kernel.execute(cmd_destroy);\n    }\n  }\n\n  /**\n   * Handle when a new output is added\n   */\n  function handleAddOutput(event, handle) {\n    const output_area = handle.output_area;\n    const output = handle.output;\n\n    // limit handleAddOutput to display_data with EXEC_MIME_TYPE content only\n    if ((output.output_type != \"display_data\") || (!Object.prototype.hasOwnProperty.call(output.data, EXEC_MIME_TYPE))) {\n      return\n    }\n\n    const toinsert = output_area.element.find(\".\" + CLASS_NAME.split(' ')[0]);\n\n    if (output.metadata[EXEC_MIME_TYPE][\"id\"] !== undefined) {\n      toinsert[toinsert.length - 1].firstChild.textContent = output.data[JS_MIME_TYPE];\n      // store reference to embed id on output_area\n      output_area._bokeh_element_id = output.metadata[EXEC_MIME_TYPE][\"id\"];\n    }\n    if (output.metadata[EXEC_MIME_TYPE][\"server_id\"] !== undefined) {\n      const bk_div = document.createElement(\"div\");\n      bk_div.innerHTML = output.data[HTML_MIME_TYPE];\n      const script_attrs = bk_div.children[0].attributes;\n      for (let i = 0; i < script_attrs.length; i++) {\n        toinsert[toinsert.length - 1].firstChild.setAttribute(script_attrs[i].name, script_attrs[i].value);\n        toinsert[toinsert.length - 1].firstChild.textContent = bk_div.children[0].textContent\n      }\n      // store reference to server id on output_area\n      output_area._bokeh_server_id = output.metadata[EXEC_MIME_TYPE][\"server_id\"];\n    }\n  }\n\n  function register_renderer(events, OutputArea) {\n\n    function append_mime(data, metadata, element) {\n      // create a DOM node to render to\n      const toinsert = this.create_output_subarea(\n        metadata,\n        CLASS_NAME,\n        EXEC_MIME_TYPE\n      );\n      this.keyboard_manager.register_events(toinsert);\n      // Render to node\n      const props = {data: data, metadata: metadata[EXEC_MIME_TYPE]};\n      render(props, toinsert[toinsert.length - 1]);\n      element.append(toinsert);\n      return toinsert\n    }\n\n    /* Handle when an output is cleared or removed */\n    events.on('clear_output.CodeCell', handleClearOutput);\n    events.on('delete.Cell', handleClearOutput);\n\n    /* Handle when a new output is added */\n    events.on('output_added.OutputArea', handleAddOutput);\n\n    /**\n     * Register the mime type and append_mime function with output_area\n     */\n    OutputArea.prototype.register_mime_type(EXEC_MIME_TYPE, append_mime, {\n      /* Is output safe? */\n      safe: true,\n      /* Index of renderer in `output_area.display_order` */\n      index: 0\n    });\n  }\n\n  // register the mime type if in Jupyter Notebook environment and previously unregistered\n  if (root.Jupyter !== undefined) {\n    const events = require('base/js/events');\n    const OutputArea = require('notebook/js/outputarea').OutputArea;\n\n    if (OutputArea.prototype.mime_types().indexOf(EXEC_MIME_TYPE) == -1) {\n      register_renderer(events, OutputArea);\n    }\n  }\n\n  \n  if (typeof (root._bokeh_timeout) === \"undefined\" || force === true) {\n    root._bokeh_timeout = Date.now() + 5000;\n    root._bokeh_failed_load = false;\n  }\n\n  const NB_LOAD_WARNING = {'data': {'text/html':\n     \"<div style='background-color: #fdd'>\\n\"+\n     \"<p>\\n\"+\n     \"BokehJS does not appear to have successfully loaded. If loading BokehJS from CDN, this \\n\"+\n     \"may be due to a slow or bad network connection. Possible fixes:\\n\"+\n     \"</p>\\n\"+\n     \"<ul>\\n\"+\n     \"<li>re-rerun `output_notebook()` to attempt to load from CDN again, or</li>\\n\"+\n     \"<li>use INLINE resources instead, as so:</li>\\n\"+\n     \"</ul>\\n\"+\n     \"<code>\\n\"+\n     \"from bokeh.resources import INLINE\\n\"+\n     \"output_notebook(resources=INLINE)\\n\"+\n     \"</code>\\n\"+\n     \"</div>\"}};\n\n  function display_loaded() {\n    const el = document.getElementById(\"1002\");\n    if (el != null) {\n      el.textContent = \"BokehJS is loading...\";\n    }\n    if (root.Bokeh !== undefined) {\n      if (el != null) {\n        el.textContent = \"BokehJS \" + root.Bokeh.version + \" successfully loaded.\";\n      }\n    } else if (Date.now() < root._bokeh_timeout) {\n      setTimeout(display_loaded, 100)\n    }\n  }\n\n\n  function run_callbacks() {\n    try {\n      root._bokeh_onload_callbacks.forEach(function(callback) {\n        if (callback != null)\n          callback();\n      });\n    } finally {\n      delete root._bokeh_onload_callbacks\n    }\n    console.debug(\"Bokeh: all callbacks have finished\");\n  }\n\n  function load_libs(css_urls, js_urls, callback) {\n    if (css_urls == null) css_urls = [];\n    if (js_urls == null) js_urls = [];\n\n    root._bokeh_onload_callbacks.push(callback);\n    if (root._bokeh_is_loading > 0) {\n      console.debug(\"Bokeh: BokehJS is being loaded, scheduling callback at\", now());\n      return null;\n    }\n    if (js_urls == null || js_urls.length === 0) {\n      run_callbacks();\n      return null;\n    }\n    console.debug(\"Bokeh: BokehJS not loaded, scheduling load and callback at\", now());\n    root._bokeh_is_loading = css_urls.length + js_urls.length;\n\n    function on_load() {\n      root._bokeh_is_loading--;\n      if (root._bokeh_is_loading === 0) {\n        console.debug(\"Bokeh: all BokehJS libraries/stylesheets loaded\");\n        run_callbacks()\n      }\n    }\n\n    function on_error(url) {\n      console.error(\"failed to load \" + url);\n    }\n\n    for (let i = 0; i < css_urls.length; i++) {\n      const url = css_urls[i];\n      const element = document.createElement(\"link\");\n      element.onload = on_load;\n      element.onerror = on_error.bind(null, url);\n      element.rel = \"stylesheet\";\n      element.type = \"text/css\";\n      element.href = url;\n      console.debug(\"Bokeh: injecting link tag for BokehJS stylesheet: \", url);\n      document.body.appendChild(element);\n    }\n\n    for (let i = 0; i < js_urls.length; i++) {\n      const url = js_urls[i];\n      const element = document.createElement('script');\n      element.onload = on_load;\n      element.onerror = on_error.bind(null, url);\n      element.async = false;\n      element.src = url;\n      console.debug(\"Bokeh: injecting script tag for BokehJS library: \", url);\n      document.head.appendChild(element);\n    }\n  };\n\n  function inject_raw_css(css) {\n    const element = document.createElement(\"style\");\n    element.appendChild(document.createTextNode(css));\n    document.body.appendChild(element);\n  }\n\n  \n  const js_urls = [\"https://cdn.bokeh.org/bokeh/release/bokeh-2.4.2.min.js\", \"https://cdn.bokeh.org/bokeh/release/bokeh-gl-2.4.2.min.js\", \"https://cdn.bokeh.org/bokeh/release/bokeh-widgets-2.4.2.min.js\", \"https://cdn.bokeh.org/bokeh/release/bokeh-tables-2.4.2.min.js\", \"https://cdn.bokeh.org/bokeh/release/bokeh-mathjax-2.4.2.min.js\"];\n  const css_urls = [];\n  \n\n  const inline_js = [\n    function(Bokeh) {\n      Bokeh.set_log_level(\"info\");\n    },\n    function(Bokeh) {\n    \n    \n    }\n  ];\n\n  function run_inline_js() {\n    \n    if (root.Bokeh !== undefined || force === true) {\n      \n    for (let i = 0; i < inline_js.length; i++) {\n      inline_js[i].call(root, root.Bokeh);\n    }\n    if (force === true) {\n        display_loaded();\n      }} else if (Date.now() < root._bokeh_timeout) {\n      setTimeout(run_inline_js, 100);\n    } else if (!root._bokeh_failed_load) {\n      console.log(\"Bokeh: BokehJS failed to load within specified timeout.\");\n      root._bokeh_failed_load = true;\n    } else if (force !== true) {\n      const cell = $(document.getElementById(\"1002\")).parents('.cell').data().cell;\n      cell.output_area.append_execute_result(NB_LOAD_WARNING)\n    }\n\n  }\n\n  if (root._bokeh_is_loading === 0) {\n    console.debug(\"Bokeh: BokehJS loaded, going straight to plotting\");\n    run_inline_js();\n  } else {\n    load_libs(css_urls, js_urls, function() {\n      console.debug(\"Bokeh: BokehJS plotting callback run at\", now());\n      run_inline_js();\n    });\n  }\n}(window));",
      "application/vnd.bokehjs_load.v0+json": ""
     },
     "metadata": {},
     "output_type": "display_data"
    }
   ],
   "source": [
    "import networkx as nx\n",
    "\n",
    "from bokeh.io import output_notebook\n",
    "from bokeh.plotting import figure, show, from_networkx\n",
    "\n",
    "G = nx.karate_club_graph()\n",
    "output_notebook()"
   ]
  },
  {
   "cell_type": "code",
   "execution_count": 2,
   "metadata": {},
   "outputs": [
    {
     "data": {
      "text/html": [
       "\n",
       "\n",
       "\n",
       "\n",
       "\n",
       "\n",
       "  <div class=\"bk-root\" id=\"edfe0f8e-beee-4943-86e5-25e358d2571f\" data-root-id=\"1003\"></div>\n"
      ]
     },
     "metadata": {},
     "output_type": "display_data"
    },
    {
     "data": {
      "application/javascript": "(function(root) {\n  function embed_document(root) {\n    \n  const docs_json = {\"ce960d57-557f-481d-82c2-41d167120b33\":{\"defs\":[],\"roots\":{\"references\":[{\"attributes\":{\"below\":[{\"id\":\"1014\"}],\"center\":[{\"id\":\"1017\"},{\"id\":\"1021\"}],\"left\":[{\"id\":\"1018\"}],\"renderers\":[{\"id\":\"1023\"}],\"title\":{\"id\":\"1004\"},\"toolbar\":{\"id\":\"1022\"},\"toolbar_location\":null,\"x_range\":{\"id\":\"1006\"},\"x_scale\":{\"id\":\"1010\"},\"y_range\":{\"id\":\"1008\"},\"y_scale\":{\"id\":\"1012\"}},\"id\":\"1003\",\"subtype\":\"Figure\",\"type\":\"Plot\"},{\"attributes\":{\"source\":{\"id\":\"1025\"}},\"id\":\"1027\",\"type\":\"CDSView\"},{\"attributes\":{\"axis\":{\"id\":\"1018\"},\"coordinates\":null,\"dimension\":1,\"group\":null,\"ticker\":null},\"id\":\"1021\",\"type\":\"Grid\"},{\"attributes\":{},\"id\":\"1022\",\"type\":\"Toolbar\"},{\"attributes\":{\"coordinates\":null,\"data_source\":{\"id\":\"1025\"},\"glyph\":{\"id\":\"1024\"},\"group\":null,\"hover_glyph\":null,\"view\":{\"id\":\"1027\"}},\"id\":\"1026\",\"type\":\"GlyphRenderer\"},{\"attributes\":{\"data\":{\"club\":[\"Mr. Hi\",\"Mr. Hi\",\"Mr. Hi\",\"Mr. Hi\",\"Mr. Hi\",\"Mr. Hi\",\"Mr. Hi\",\"Mr. Hi\",\"Mr. Hi\",\"Officer\",\"Mr. Hi\",\"Mr. Hi\",\"Mr. Hi\",\"Mr. Hi\",\"Officer\",\"Officer\",\"Mr. Hi\",\"Mr. Hi\",\"Officer\",\"Mr. Hi\",\"Officer\",\"Mr. Hi\",\"Officer\",\"Officer\",\"Officer\",\"Officer\",\"Officer\",\"Officer\",\"Officer\",\"Officer\",\"Officer\",\"Officer\",\"Officer\",\"Officer\"],\"index\":[0,1,2,3,4,5,6,7,8,9,10,11,12,13,14,15,16,17,18,19,20,21,22,23,24,25,26,27,28,29,30,31,32,33]},\"selected\":{\"id\":\"1051\"},\"selection_policy\":{\"id\":\"1050\"}},\"id\":\"1025\",\"type\":\"ColumnDataSource\"},{\"attributes\":{\"coordinates\":null,\"edge_renderer\":{\"id\":\"1030\"},\"group\":null,\"inspection_policy\":{\"id\":\"1043\"},\"layout_provider\":{\"id\":\"1032\"},\"node_renderer\":{\"id\":\"1026\"},\"selection_policy\":{\"id\":\"1042\"}},\"id\":\"1023\",\"type\":\"GraphRenderer\"},{\"attributes\":{\"coordinates\":null,\"data_source\":{\"id\":\"1029\"},\"glyph\":{\"id\":\"1028\"},\"group\":null,\"hover_glyph\":null,\"view\":{\"id\":\"1031\"}},\"id\":\"1030\",\"type\":\"GlyphRenderer\"},{\"attributes\":{\"source\":{\"id\":\"1029\"}},\"id\":\"1031\",\"type\":\"CDSView\"},{\"attributes\":{\"data\":{\"end\":[1,2,3,4,5,6,7,8,10,11,12,13,17,19,21,31,2,3,7,13,17,19,21,30,3,7,8,9,13,27,28,32,7,12,13,6,10,6,10,16,16,30,32,33,33,33,32,33,32,33,32,33,33,32,33,32,33,25,27,29,32,33,25,27,31,31,29,33,33,31,33,32,33,32,33,32,33,33],\"start\":[0,0,0,0,0,0,0,0,0,0,0,0,0,0,0,0,1,1,1,1,1,1,1,1,2,2,2,2,2,2,2,2,3,3,3,4,4,5,5,5,6,8,8,8,9,13,14,14,15,15,18,18,19,20,20,22,22,23,23,23,23,23,24,24,24,25,26,26,27,28,28,29,29,30,30,31,31,32]},\"selected\":{\"id\":\"1053\"},\"selection_policy\":{\"id\":\"1052\"}},\"id\":\"1029\",\"type\":\"ColumnDataSource\"},{\"attributes\":{\"end\":1.1,\"start\":-1.1},\"id\":\"1006\",\"type\":\"Range1d\"},{\"attributes\":{},\"id\":\"1024\",\"type\":\"Circle\"},{\"attributes\":{},\"id\":\"1048\",\"type\":\"BasicTickFormatter\"},{\"attributes\":{},\"id\":\"1052\",\"type\":\"UnionRenderers\"},{\"attributes\":{\"coordinates\":null,\"formatter\":{\"id\":\"1048\"},\"group\":null,\"major_label_policy\":{\"id\":\"1049\"},\"ticker\":{\"id\":\"1015\"}},\"id\":\"1014\",\"type\":\"LinearAxis\"},{\"attributes\":{},\"id\":\"1051\",\"type\":\"Selection\"},{\"attributes\":{},\"id\":\"1015\",\"type\":\"BasicTicker\"},{\"attributes\":{},\"id\":\"1050\",\"type\":\"UnionRenderers\"},{\"attributes\":{},\"id\":\"1028\",\"type\":\"MultiLine\"},{\"attributes\":{},\"id\":\"1045\",\"type\":\"BasicTickFormatter\"},{\"attributes\":{\"coordinates\":null,\"group\":null,\"text\":\"Networkx Integration Demonstration\"},\"id\":\"1004\",\"type\":\"Title\"},{\"attributes\":{},\"id\":\"1043\",\"type\":\"NodesOnly\"},{\"attributes\":{},\"id\":\"1049\",\"type\":\"AllLabels\"},{\"attributes\":{},\"id\":\"1053\",\"type\":\"Selection\"},{\"attributes\":{\"graph_layout\":{\"0\":[0.1345949843969095,0.7788263965655581],\"1\":[0.5550668440215264,0.3594168493967786],\"10\":[-0.18216204532290334,1.3627213860213836],\"11\":[0.4768563418681567,1.5826836859383329],\"12\":[0.6277979081610574,1.2003079099349225],\"13\":[0.38793231508251846,0.10205073375707557],\"14\":[0.3815473013748321,-1.3283711560631244],\"15\":[0.5193179547191469,-1.1289997079250194],\"16\":[-0.7688593687849405,2.0],\"17\":[0.9332641595536598,0.7408221176893884],\"18\":[0.18092953832045916,-1.4518332309410498],\"19\":[0.020645820588996968,0.1609894233104912],\"2\":[0.17779360023350374,-0.027686952293739894],\"20\":[-0.4504782271558225,-1.0080717683384457],\"21\":[0.7793016900943694,0.943707952702468],\"22\":[-0.056158756132655634,-1.4057018723696943],\"23\":[-0.6639551249230671,-0.9424400573891563],\"24\":[-1.1230719332743149,-0.31873991741998975],\"25\":[-1.136760010345633,-0.6341330382458253],\"26\":[-0.31685958520078344,-1.6408540138975245],\"27\":[-0.551491413255627,-0.48585540360502244],\"28\":[-0.22503556179423648,-0.34801993960361904],\"29\":[-0.40805956149082717,-1.3167858189069355],\"3\":[0.529057239259926,0.614885662717984],\"30\":[0.41174298833912576,-0.4154356597040378],\"31\":[-0.4789727665600743,-0.20309632305288475],\"32\":[-0.013382674910552231,-0.8727846164377875],\"33\":[-0.01865187088324947,-0.7515359098777796],\"4\":[0.0343366112989904,1.5732212465759519],\"5\":[-0.49413656721580074,1.4781684231023164],\"6\":[-0.3110303377440233,1.6545080041506492],\"7\":[0.29318905664598865,0.5427037557050779],\"8\":[0.11945633652338791,-0.21973074220765773],\"9\":[0.6362351145119503,-0.5949374192890874]}},\"id\":\"1032\",\"type\":\"StaticLayoutProvider\"},{\"attributes\":{},\"id\":\"1012\",\"type\":\"LinearScale\"},{\"attributes\":{\"coordinates\":null,\"formatter\":{\"id\":\"1045\"},\"group\":null,\"major_label_policy\":{\"id\":\"1046\"},\"ticker\":{\"id\":\"1019\"}},\"id\":\"1018\",\"type\":\"LinearAxis\"},{\"attributes\":{\"axis\":{\"id\":\"1014\"},\"coordinates\":null,\"group\":null,\"ticker\":null},\"id\":\"1017\",\"type\":\"Grid\"},{\"attributes\":{\"end\":1.1,\"start\":-1.1},\"id\":\"1008\",\"type\":\"Range1d\"},{\"attributes\":{},\"id\":\"1019\",\"type\":\"BasicTicker\"},{\"attributes\":{},\"id\":\"1010\",\"type\":\"LinearScale\"},{\"attributes\":{},\"id\":\"1042\",\"type\":\"NodesOnly\"},{\"attributes\":{},\"id\":\"1046\",\"type\":\"AllLabels\"}],\"root_ids\":[\"1003\"]},\"title\":\"Bokeh Application\",\"version\":\"2.4.2\"}};\n  const render_items = [{\"docid\":\"ce960d57-557f-481d-82c2-41d167120b33\",\"root_ids\":[\"1003\"],\"roots\":{\"1003\":\"edfe0f8e-beee-4943-86e5-25e358d2571f\"}}];\n  root.Bokeh.embed.embed_items_notebook(docs_json, render_items);\n\n  }\n  if (root.Bokeh !== undefined) {\n    embed_document(root);\n  } else {\n    let attempts = 0;\n    const timer = setInterval(function(root) {\n      if (root.Bokeh !== undefined) {\n        clearInterval(timer);\n        embed_document(root);\n      } else {\n        attempts++;\n        if (attempts > 100) {\n          clearInterval(timer);\n          console.log(\"Bokeh: ERROR: Unable to run BokehJS code because BokehJS library is missing\");\n        }\n      }\n    }, 10, root)\n  }\n})(window);",
      "application/vnd.bokehjs_exec.v0+json": ""
     },
     "metadata": {
      "application/vnd.bokehjs_exec.v0+json": {
       "id": "1003"
      }
     },
     "output_type": "display_data"
    }
   ],
   "source": [
    "p = figure(title=\"Networkx Integration Demonstration\", x_range=(-1.1,1.1), y_range=(-1.1,1.1),\n",
    "              tools=\"\", toolbar_location=None)\n",
    "\n",
    "graph = from_networkx(G, nx.spring_layout, scale=2, center=(0,0))\n",
    "p.renderers.append(graph)\n",
    "show(p)"
   ]
  },
  {
   "cell_type": "code",
   "execution_count": 3,
   "metadata": {},
   "outputs": [
    {
     "name": "stdout",
     "output_type": "stream",
     "text": [
      "16\n",
      "{<diagnoser.metric_node.MetricNode object at 0x7f0d7b52c4c0>: 'c-front-end_sockets', <diagnoser.metric_node.MetricNode object at 0x7f0d7b52ca00>: 'c-front-end_memory_usage_bytes', <diagnoser.metric_node.MetricNode object at 0x7f0d7b52c880>: 'c-front-end_network_receive_bytes_total', <diagnoser.metric_node.MetricNode object at 0x7f0d7b52c070>: 'c-carts_cpu_cfs_throttled_seconds_total', <diagnoser.metric_node.MetricNode object at 0x7f0d7b5263d0>: 'c-orders_cpu_cfs_throttled_seconds_total', <diagnoser.metric_node.MetricNode object at 0x7f0d7b526670>: 'c-orders_cpu_cfs_throttled_periods_total', <diagnoser.metric_node.MetricNode object at 0x7f0d7b526af0>: 'c-orders_cpu_cfs_periods_total', <diagnoser.metric_node.MetricNode object at 0x7f0d7b51f2e0>: 'c-user_sockets', <diagnoser.metric_node.MetricNode object at 0x7f0d7b51ff70>: 'c-user_threads', <diagnoser.metric_node.MetricNode object at 0x7f0d7b51f190>: 'c-user_last_seen', <diagnoser.metric_node.MetricNode object at 0x7f0d7b51f610>: 's-carts_latency', <diagnoser.metric_node.MetricNode object at 0x7f0d7b51fd00>: 's-front-end_throughput', <diagnoser.metric_node.MetricNode object at 0x7f0d7b51fbb0>: 's-front-end_latency', <diagnoser.metric_node.MetricNode object at 0x7f0d7b51f6d0>: 's-catalogue_throughput', <diagnoser.metric_node.MetricNode object at 0x7f0d7b51ffa0>: 's-orders_latency', <diagnoser.metric_node.MetricNode object at 0x7f0d7b51f0d0>: 's-user_throughput'}\n"
     ]
    }
   ],
   "source": [
    "from multiprocessing import cpu_count\n",
    "import sys\n",
    "\n",
    "sys.path.append('../')\n",
    "from tsdr import tsdr\n",
    "from diagnoser import diag\n",
    "from meltria import loader\n",
    "import diagnoser.metric_node as mn\n",
    "\n",
    "filepath = '/datasets/argowf-chaos-hg68n/2021-12-09-argowf-chaos-hg68n-user_pod-memory-hog_0.json'\n",
    "data_df, mappings = loader.read_metrics_file(filepath)\n",
    "\n",
    "reducer = tsdr.Tsdr(tsdr.ar_based_ad_model, **{\n",
    "    'tsifter_step1_ar_regression': 'n',\n",
    "    'tsifter_step1_ar_anomaly_score_threshold': 0.01,\n",
    "    'tsifter_step1_cv_threshold': 0.05,\n",
    "    'tsifter_step1_ar_dynamic_prediction': False,\n",
    "    'tsifter_step2_clustering_threshold': 0.01,\n",
    "    'tsifter_step2_clustered_series_type': 'raw',\n",
    "    'tsifter_step2_clustering_dist_type': 'sbd',\n",
    "    'tsifter_step2_clustering_choice_method': 'medoid',\n",
    "    'tsifter_step2_clustering_linkage_method': 'single',\n",
    "})\n",
    "_, reduced_df_by_step, metrics_dimension, _ = reducer.run(\n",
    "    series=data_df,\n",
    "    max_workers=cpu_count(),\n",
    ")\n",
    "reduced_df = reduced_df_by_step['step2']\n",
    "causal_graph, stats = diag.run(\n",
    "    reduced_df, mappings, **{\n",
    "        'pc_library': 'pcalg',\n",
    "        'pc_citest': 'fisher-z',\n",
    "        'pc_citest_alpha': 0.01,\n",
    "        'pc_variant': None,\n",
    "    }\n",
    ")\n",
    "print(len(causal_graph.nodes))\n",
    "relabeled_mapping = mn.MetricNodes.from_list_of_metric_node(list(causal_graph.nodes)).node_to_label()\n",
    "print(relabeled_mapping)\n",
    "relabeled_graph = nx.relabel_nodes(causal_graph, relabeled_mapping, copy=True)"
   ]
  },
  {
   "cell_type": "code",
   "execution_count": 4,
   "metadata": {},
   "outputs": [
    {
     "data": {
      "text/html": [
       "\n",
       "\n",
       "\n",
       "\n",
       "\n",
       "\n",
       "  <div class=\"bk-root\" id=\"4907e914-bd0f-49a9-bc1a-a53c61193ae2\" data-root-id=\"1171\"></div>\n"
      ]
     },
     "metadata": {},
     "output_type": "display_data"
    },
    {
     "data": {
      "application/javascript": "(function(root) {\n  function embed_document(root) {\n    \n  const docs_json = {\"4a7b2f17-a3ef-4a44-9e6f-153cdd4515d3\":{\"defs\":[],\"roots\":{\"references\":[{\"attributes\":{\"below\":[{\"id\":\"1182\"}],\"center\":[{\"id\":\"1185\"},{\"id\":\"1189\"}],\"left\":[{\"id\":\"1186\"}],\"renderers\":[{\"id\":\"1201\"}],\"title\":{\"id\":\"1172\"},\"toolbar\":{\"id\":\"1195\"},\"x_range\":{\"id\":\"1174\"},\"x_scale\":{\"id\":\"1178\"},\"y_range\":{\"id\":\"1176\"},\"y_scale\":{\"id\":\"1180\"}},\"id\":\"1171\",\"subtype\":\"Figure\",\"type\":\"Plot\"},{\"attributes\":{},\"id\":\"1260\",\"type\":\"UnionRenderers\"},{\"attributes\":{},\"id\":\"1193\",\"type\":\"ResetTool\"},{\"attributes\":{\"data\":{\"end\":[\"s-front-end_latency\",\"s-carts_latency\",\"c-orders_cpu_cfs_throttled_periods_total\",\"s-orders_latency\",\"c-orders_cpu_cfs_throttled_seconds_total\",\"c-orders_cpu_cfs_periods_total\",\"c-orders_cpu_cfs_throttled_periods_total\",\"c-front-end_memory_usage_bytes\",\"c-user_threads\",\"c-user_last_seen\",\"c-user_sockets\",\"s-user_throughput\",\"c-user_sockets\",\"s-orders_latency\",\"s-front-end_throughput\",\"s-front-end_latency\",\"s-front-end_latency\",\"c-front-end_network_receive_bytes_total\",\"s-front-end_throughput\"],\"start\":[\"c-front-end_sockets\",\"c-carts_cpu_cfs_throttled_seconds_total\",\"c-orders_cpu_cfs_throttled_seconds_total\",\"c-orders_cpu_cfs_throttled_seconds_total\",\"c-orders_cpu_cfs_throttled_periods_total\",\"c-orders_cpu_cfs_throttled_periods_total\",\"c-orders_cpu_cfs_periods_total\",\"c-user_sockets\",\"c-user_sockets\",\"c-user_sockets\",\"c-user_threads\",\"c-user_threads\",\"c-user_last_seen\",\"s-carts_latency\",\"s-catalogue_throughput\",\"s-orders_latency\",\"s-user_throughput\",\"s-user_throughput\",\"s-user_throughput\"]},\"selected\":{\"id\":\"1263\"},\"selection_policy\":{\"id\":\"1262\"}},\"id\":\"1207\",\"type\":\"ColumnDataSource\"},{\"attributes\":{},\"id\":\"1261\",\"type\":\"Selection\"},{\"attributes\":{\"coordinates\":null,\"group\":null,\"text\":\"caulsal graph visualization\"},\"id\":\"1172\",\"type\":\"Title\"},{\"attributes\":{},\"id\":\"1253\",\"type\":\"NodesOnly\"},{\"attributes\":{},\"id\":\"1190\",\"type\":\"PanTool\"},{\"attributes\":{},\"id\":\"1258\",\"type\":\"BasicTickFormatter\"},{\"attributes\":{\"end\":1.1,\"start\":-1.1},\"id\":\"1176\",\"type\":\"Range1d\"},{\"attributes\":{\"data\":{\"color\":[\"blue\",\"blue\",\"blue\",\"blue\",\"blue\",\"blue\",\"blue\",\"blue\",\"blue\",\"blue\",\"red\",\"red\",\"red\",\"red\",\"red\",\"red\"],\"index\":[\"c-front-end_sockets\",\"c-front-end_memory_usage_bytes\",\"c-front-end_network_receive_bytes_total\",\"c-carts_cpu_cfs_throttled_seconds_total\",\"c-orders_cpu_cfs_throttled_seconds_total\",\"c-orders_cpu_cfs_throttled_periods_total\",\"c-orders_cpu_cfs_periods_total\",\"c-user_sockets\",\"c-user_threads\",\"c-user_last_seen\",\"s-carts_latency\",\"s-front-end_throughput\",\"s-front-end_latency\",\"s-catalogue_throughput\",\"s-orders_latency\",\"s-user_throughput\"]},\"selected\":{\"id\":\"1261\"},\"selection_policy\":{\"id\":\"1260\"}},\"id\":\"1203\",\"type\":\"ColumnDataSource\"},{\"attributes\":{\"source\":{\"id\":\"1203\"}},\"id\":\"1205\",\"type\":\"CDSView\"},{\"attributes\":{\"coordinates\":null,\"formatter\":{\"id\":\"1258\"},\"group\":null,\"major_label_policy\":{\"id\":\"1259\"},\"ticker\":{\"id\":\"1183\"}},\"id\":\"1182\",\"type\":\"LinearAxis\"},{\"attributes\":{\"source\":{\"id\":\"1207\"}},\"id\":\"1209\",\"type\":\"CDSView\"},{\"attributes\":{},\"id\":\"1262\",\"type\":\"UnionRenderers\"},{\"attributes\":{\"coordinates\":null,\"edge_renderer\":{\"id\":\"1208\"},\"group\":null,\"inspection_policy\":{\"id\":\"1221\"},\"layout_provider\":{\"id\":\"1210\"},\"node_renderer\":{\"id\":\"1204\"},\"selection_policy\":{\"id\":\"1253\"}},\"id\":\"1201\",\"type\":\"GraphRenderer\"},{\"attributes\":{\"coordinates\":null,\"formatter\":{\"id\":\"1255\"},\"group\":null,\"major_label_policy\":{\"id\":\"1256\"},\"ticker\":{\"id\":\"1187\"}},\"id\":\"1186\",\"type\":\"LinearAxis\"},{\"attributes\":{},\"id\":\"1259\",\"type\":\"AllLabels\"},{\"attributes\":{},\"id\":\"1180\",\"type\":\"LinearScale\"},{\"attributes\":{\"axis\":{\"id\":\"1186\"},\"coordinates\":null,\"dimension\":1,\"group\":null,\"ticker\":null},\"id\":\"1189\",\"type\":\"Grid\"},{\"attributes\":{\"axis\":{\"id\":\"1182\"},\"coordinates\":null,\"group\":null,\"ticker\":null},\"id\":\"1185\",\"type\":\"Grid\"},{\"attributes\":{},\"id\":\"1192\",\"type\":\"SaveTool\"},{\"attributes\":{},\"id\":\"1221\",\"type\":\"NodesAndLinkedEdges\"},{\"attributes\":{},\"id\":\"1263\",\"type\":\"Selection\"},{\"attributes\":{\"callback\":null,\"tooltips\":[[\"Metric\",\"@index\"]]},\"id\":\"1194\",\"type\":\"HoverTool\"},{\"attributes\":{\"coordinates\":null,\"data_source\":{\"id\":\"1203\"},\"glyph\":{\"id\":\"1211\"},\"group\":null,\"hover_glyph\":null,\"view\":{\"id\":\"1205\"}},\"id\":\"1204\",\"type\":\"GlyphRenderer\"},{\"attributes\":{\"coordinates\":null,\"data_source\":{\"id\":\"1207\"},\"glyph\":{\"id\":\"1216\"},\"group\":null,\"hover_glyph\":null,\"view\":{\"id\":\"1209\"}},\"id\":\"1208\",\"type\":\"GlyphRenderer\"},{\"attributes\":{\"line_alpha\":{\"value\":0.8}},\"id\":\"1216\",\"type\":\"MultiLine\"},{\"attributes\":{},\"id\":\"1178\",\"type\":\"LinearScale\"},{\"attributes\":{\"fill_color\":{\"value\":\"#2b83ba\"},\"size\":{\"value\":20}},\"id\":\"1211\",\"type\":\"Circle\"},{\"attributes\":{},\"id\":\"1255\",\"type\":\"BasicTickFormatter\"},{\"attributes\":{},\"id\":\"1191\",\"type\":\"WheelZoomTool\"},{\"attributes\":{\"active_scroll\":{\"id\":\"1191\"},\"tools\":[{\"id\":\"1190\"},{\"id\":\"1191\"},{\"id\":\"1192\"},{\"id\":\"1193\"},{\"id\":\"1194\"}]},\"id\":\"1195\",\"type\":\"Toolbar\"},{\"attributes\":{},\"id\":\"1183\",\"type\":\"BasicTicker\"},{\"attributes\":{\"graph_layout\":{\"c-carts_cpu_cfs_throttled_seconds_total\":[-0.11661794296816849,0.17281703204428076],\"c-front-end_memory_usage_bytes\":[0.28317713182518245,-0.4983026021038325],\"c-front-end_network_receive_bytes_total\":[-0.5959998877776548,0.6524734823252066],\"c-front-end_sockets\":[-0.3441212210086312,-0.12366643965652085],\"c-orders_cpu_cfs_periods_total\":[-0.14044933861779565,0.46119801080103706],\"c-orders_cpu_cfs_throttled_periods_total\":[-0.23723128918905204,0.3262970024235551],\"c-orders_cpu_cfs_throttled_seconds_total\":[-0.33952447840612526,0.14209774158883992],\"c-user_last_seen\":[0.3348774152627351,-0.18440414526238974],\"c-user_sockets\":[0.24454205734351844,-0.2811311284673721],\"c-user_threads\":[0.14011675761709025,-0.09238108776209833],\"s-carts_latency\":[-0.21971634243940566,0.07384711828498068],\"s-catalogue_throughput\":[1.0,-0.2540948126959857],\"s-front-end_latency\":[-0.5055622685555164,-0.18928796829012864],\"s-front-end_throughput\":[0.9045438473369294,-0.22413005914061582],\"s-orders_latency\":[-0.431736456952467,-0.07487766307059954],\"s-user_throughput\":[0.023702016529361034,0.09354551898164332]}},\"id\":\"1210\",\"type\":\"StaticLayoutProvider\"},{\"attributes\":{},\"id\":\"1256\",\"type\":\"AllLabels\"},{\"attributes\":{\"end\":1.1,\"start\":-1.1},\"id\":\"1174\",\"type\":\"Range1d\"},{\"attributes\":{},\"id\":\"1187\",\"type\":\"BasicTicker\"}],\"root_ids\":[\"1171\"]},\"title\":\"Bokeh Application\",\"version\":\"2.4.2\"}};\n  const render_items = [{\"docid\":\"4a7b2f17-a3ef-4a44-9e6f-153cdd4515d3\",\"notebook_comms_target\":\"1264\",\"root_ids\":[\"1171\"],\"roots\":{\"1171\":\"4907e914-bd0f-49a9-bc1a-a53c61193ae2\"}}];\n  root.Bokeh.embed.embed_items_notebook(docs_json, render_items);\n\n  }\n  if (root.Bokeh !== undefined) {\n    embed_document(root);\n  } else {\n    let attempts = 0;\n    const timer = setInterval(function(root) {\n      if (root.Bokeh !== undefined) {\n        clearInterval(timer);\n        embed_document(root);\n      } else {\n        attempts++;\n        if (attempts > 100) {\n          clearInterval(timer);\n          console.log(\"Bokeh: ERROR: Unable to run BokehJS code because BokehJS library is missing\");\n        }\n      }\n    }, 10, root)\n  }\n})(window);",
      "application/vnd.bokehjs_exec.v0+json": ""
     },
     "metadata": {
      "application/vnd.bokehjs_exec.v0+json": {
       "id": "1171"
      }
     },
     "output_type": "display_data"
    },
    {
     "data": {
      "text/html": [
       "<p><code>&lt;Bokeh Notebook handle for <strong>In[4]</strong>&gt;</code></p>"
      ],
      "text/plain": [
       "<bokeh.io.notebook.CommsHandle at 0x7f0df216cfa0>"
      ]
     },
     "execution_count": 4,
     "metadata": {},
     "output_type": "execute_result"
    }
   ],
   "source": [
    "from bokeh.models import (BoxZoomTool, Circle, HoverTool,\n",
    "                          MultiLine, Plot, Range1d, ResetTool, NodesAndLinkedEdges)\n",
    "from bokeh.palettes import Spectral4\n",
    "\n",
    "\n",
    "HOVER_TOOLTIPS = [(\"Metric\", \"@index\")]\n",
    "p = figure(title=\"caulsal graph visualization\", x_range=(-1.1,1.1), y_range=(-1.1,1.1),\n",
    "            tooltips = HOVER_TOOLTIPS, tools=\"pan,wheel_zoom,save,reset\", active_scroll='wheel_zoom')\n",
    "gr = from_networkx(relabeled_graph, nx.spring_layout, scale=1, center=(0,0))\n",
    "gr.node_renderer.glyph = Circle(size=20, fill_color=Spectral4[0])\n",
    "gr.edge_renderer.glyph = MultiLine(line_alpha=0.8, line_width=1)\n",
    "gr.inspection_policy = NodesAndLinkedEdges()\n",
    "p.renderers.append(gr)\n",
    "show(p, notebook_handle=True)"
   ]
  },
  {
   "cell_type": "code",
   "execution_count": 26,
   "metadata": {},
   "outputs": [
    {
     "data": {
      "text/html": [
       "\n",
       "        <iframe\n",
       "            width=\"500px\"\n",
       "            height=\"500px\"\n",
       "            src=\"../tmp/nw.html\"\n",
       "            frameborder=\"0\"\n",
       "            allowfullscreen\n",
       "            \n",
       "        ></iframe>\n",
       "        "
      ],
      "text/plain": [
       "<IPython.lib.display.IFrame at 0x7f0d7b412820>"
      ]
     },
     "execution_count": 26,
     "metadata": {},
     "output_type": "execute_result"
    }
   ],
   "source": [
    "from pyvis.network import Network\n",
    "from IPython.display import IFrame, HTML, display_html\n",
    "import os\n",
    "\n",
    "\n",
    "nwg = Network(notebook=True)\n",
    "relabeled_mapping = mn.MetricNodes.from_list_of_metric_node(list(causal_graph.nodes)).node_to_label()\n",
    "relabeled_graph = nx.relabel_nodes(causal_graph, relabeled_mapping, copy=True)\n",
    "nwg.from_nx(relabeled_graph)\n",
    "nwg.toggle_physics(True)\n",
    "nwg.show('../tmp/nw.html')"
   ]
  }
 ],
 "metadata": {
  "interpreter": {
   "hash": "c0f02f5f97634d426ffcfa502db37ef392cddba0a927ded2fc10600c3b8bead5"
  },
  "kernelspec": {
   "display_name": "Python 3.9.5 ('.venv': poetry)",
   "language": "python",
   "name": "python3"
  },
  "language_info": {
   "codemirror_mode": {
    "name": "ipython",
    "version": 3
   },
   "file_extension": ".py",
   "mimetype": "text/x-python",
   "name": "python",
   "nbconvert_exporter": "python",
   "pygments_lexer": "ipython3",
   "version": "3.9.5"
  },
  "orig_nbformat": 4
 },
 "nbformat": 4,
 "nbformat_minor": 2
}
