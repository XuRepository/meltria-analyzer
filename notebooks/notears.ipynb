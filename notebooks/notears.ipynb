{
 "cells": [
  {
   "attachments": {},
   "cell_type": "markdown",
   "metadata": {},
   "source": [
    "# NOTEARS"
   ]
  },
  {
   "cell_type": "code",
   "execution_count": 1,
   "metadata": {},
   "outputs": [],
   "source": [
    "%reload_ext autoreload\n",
    "%autoreload 2"
   ]
  },
  {
   "cell_type": "code",
   "execution_count": null,
   "metadata": {},
   "outputs": [],
   "source": [
    "from collections import defaultdict, OrderedDict\n",
    "import pathlib\n",
    "\n",
    "import numpy as np\n",
    "import pandas as pd\n",
    "import torch\n",
    "import torchinfo\n",
    "import scipy.stats\n",
    "import matplotlib.pyplot as plt\n",
    "plt.rcParams[\"font.family\"] = \"DejaVu Sans\"\n",
    "plt.rcParams[\"font.size\"] = 7\n",
    "plt.rcParams['xtick.labelsize'] = 9\n",
    "plt.rcParams['ytick.labelsize'] = 9\n",
    "plt.rcParams['xtick.direction'] = 'in'\n",
    "plt.rcParams['ytick.direction'] = 'in'\n",
    "plt.rcParams['axes.linewidth'] = 1.0\n",
    "plt.rcParams['axes.grid'] = True\n",
    "\n",
    "import warnings\n",
    "warnings.filterwarnings('ignore')\n",
    "warnings.simplefilter('ignore', FutureWarning)\n",
    "\n",
    "import sys\n",
    "sys.path.append(\"../\")"
   ]
  },
  {
   "cell_type": "code",
   "execution_count": null,
   "metadata": {},
   "outputs": [],
   "source": [
    "from IPython.display import Image\n",
    "from causalnex.plots import plot_structure, NODE_STYLE, EDGE_STYLE\n",
    "from causalnex.structure import notears, dynotears\n",
    "\n",
    "data_df = datasets_fluxrank_max_cluster[10][-1]\n",
    "sm = notears.from_pandas(data_df, w_threshold=0.8)"
   ]
  },
  {
   "cell_type": "code",
   "execution_count": null,
   "metadata": {},
   "outputs": [],
   "source": [
    "sm.remove_edges_below_threshold(0.01)\n",
    "sm = sm.get_target_subgraph(\"s-front-end_throughput\")\n",
    "viz = plot_structure(\n",
    "    sm,\n",
    "    graph_attributes={\"scale\": \"0.5\"},\n",
    "    all_node_attributes={\n",
    "        \"fontcolor\": \"#FFFFFF8c\",\n",
    "        \"fontname\": \"Helvetica\",\n",
    "        \"shape\": \"circle\",\n",
    "        \"fixedsize\": True,\n",
    "        \"style\": \"filled\",\n",
    "        \"fillcolor\": \"#4a90e2d9\",\n",
    "        \"color\": \"#FFFFFFD9\",\n",
    "        \"width\": 0.05,\n",
    "        \"penwidth\": \"1\",\n",
    "        \"fontsize\": 4,\n",
    "    },\n",
    "    all_edge_attributes=EDGE_STYLE.WEAK,\n",
    ")\n",
    "Image(viz.draw(format='png'))"
   ]
  },
  {
   "cell_type": "code",
   "execution_count": null,
   "metadata": {},
   "outputs": [],
   "source": [
    "data_df = datasets_fluxrank_max_cluster[10][-1]\n",
    "data_df = data_df.loc[:, ~data_df.columns.str.startswith(\"n-\")]\n",
    "dsm = dynotears.from_pandas_dynamic(data_df, p=1)"
   ]
  },
  {
   "cell_type": "code",
   "execution_count": null,
   "metadata": {},
   "outputs": [],
   "source": [
    "fixed_dsm = dsm.copy()\n",
    "display(len(fixed_dsm.edges))\n",
    "fixed_dsm.remove_edges_below_threshold(0.005)\n",
    "display(len(fixed_dsm.edges))"
   ]
  },
  {
   "cell_type": "code",
   "execution_count": null,
   "metadata": {},
   "outputs": [],
   "source": [
    "# dsm_sli = fixed_dsm.get_target_subgraph(\"s-front-end_latency_lag0\")\n",
    "for component in nx.weakly_connected_components(fixed_dsm):\n",
    "    subgraph = fixed_dsm.subgraph(component).copy()\n",
    "    if len(subgraph.edges) < 1:\n",
    "        print(f\"skip {component}\")\n",
    "        continue\n",
    "    viz = plot_structure(\n",
    "        subgraph,\n",
    "        graph_attributes={\"scale\": \"0.01\"},\n",
    "        all_node_attributes={\n",
    "            \"fontcolor\": \"#FFFFFF8c\",\n",
    "            \"fontname\": \"Helvetica\",\n",
    "            \"shape\": \"circle\",\n",
    "            \"fixedsize\": True,\n",
    "            \"style\": \"filled\",\n",
    "            \"fillcolor\": \"#4a90e2d9\",\n",
    "            \"color\": \"#FFFFFFD9\",\n",
    "            \"width\": 0.05,\n",
    "            \"penwidth\": \"1\",\n",
    "            \"fontsize\": 4,\n",
    "        },\n",
    "        all_edge_attributes=EDGE_STYLE.WEAK,\n",
    "    )\n",
    "    display(Image(viz.draw(format='png')))"
   ]
  }
 ],
 "metadata": {
  "kernelspec": {
   "display_name": ".venv",
   "language": "python",
   "name": "python3"
  },
  "language_info": {
   "codemirror_mode": {
    "name": "ipython",
    "version": 3
   },
   "file_extension": ".py",
   "mimetype": "text/x-python",
   "name": "python",
   "nbconvert_exporter": "python",
   "pygments_lexer": "ipython3",
   "version": "3.10.4"
  },
  "orig_nbformat": 4,
  "vscode": {
   "interpreter": {
    "hash": "c0f02f5f97634d426ffcfa502db37ef392cddba0a927ded2fc10600c3b8bead5"
   }
  }
 },
 "nbformat": 4,
 "nbformat_minor": 2
}
